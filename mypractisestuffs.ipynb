{
 "cells": [
  {
   "cell_type": "code",
   "execution_count": 1,
   "id": "ecd8202b-6316-4c10-8291-2f49f9a06af1",
   "metadata": {},
   "outputs": [],
   "source": [
    "studName = 'Ngozi Idehen'"
   ]
  },
  {
   "cell_type": "code",
   "execution_count": 2,
   "id": "496bcf65-af55-40fa-8352-f100b14939ea",
   "metadata": {},
   "outputs": [
    {
     "data": {
      "text/plain": [
       "'Ngozi Idehen'"
      ]
     },
     "execution_count": 2,
     "metadata": {},
     "output_type": "execute_result"
    }
   ],
   "source": [
    "studName"
   ]
  },
  {
   "cell_type": "code",
   "execution_count": 3,
   "id": "8d2e2a7c-7ab5-4035-b0f4-41ec21bc6a86",
   "metadata": {},
   "outputs": [
    {
     "name": "stdout",
     "output_type": "stream",
     "text": [
      "the character N is in index position 0\n",
      "the character g is in index position 1\n",
      "the character o is in index position 2\n",
      "the character z is in index position 3\n",
      "the character i is in index position 4\n",
      "the character   is in index position 5\n",
      "the character I is in index position 6\n",
      "the character d is in index position 7\n",
      "the character e is in index position 8\n",
      "the character h is in index position 9\n",
      "the character e is in index position 8\n",
      "the character n is in index position 11\n"
     ]
    }
   ],
   "source": [
    "for char in studName:\n",
    "    idx = studName.index(char)\n",
    "    print(f'the character {char} is in index position {idx}')"
   ]
  },
  {
   "cell_type": "code",
   "execution_count": 4,
   "id": "d0c6af76-c030-4039-9268-23323f43ea38",
   "metadata": {},
   "outputs": [
    {
     "name": "stdout",
     "output_type": "stream",
     "text": [
      "Ngozi\n"
     ]
    }
   ],
   "source": [
    "#Slicing a sub-string from a string\n",
    "'''\n",
    "we need the name of the string variable followed by square bracket\n",
    "Inside the square bracket we put the index number of the first character and the last character plus 1\n",
    "\n",
    "'''\n",
    "print(studName[0:5])"
   ]
  },
  {
   "cell_type": "code",
   "execution_count": 5,
   "id": "984f54ca-e160-4000-847e-8ec6447dc596",
   "metadata": {},
   "outputs": [],
   "source": [
    "studRef = '012468743_James_Doe'"
   ]
  },
  {
   "cell_type": "code",
   "execution_count": 6,
   "id": "c1780101-1be3-4d8e-9b4d-4c314e002724",
   "metadata": {},
   "outputs": [
    {
     "name": "stdout",
     "output_type": "stream",
     "text": [
      "012468743\n"
     ]
    }
   ],
   "source": [
    "print(studRef[0:9])"
   ]
  },
  {
   "cell_type": "code",
   "execution_count": 7,
   "id": "2ccca544-d793-4a41-9589-da00b1e538ed",
   "metadata": {},
   "outputs": [
    {
     "name": "stdout",
     "output_type": "stream",
     "text": [
      "James\n"
     ]
    }
   ],
   "source": [
    "print(studRef[10:15])"
   ]
  },
  {
   "cell_type": "code",
   "execution_count": 8,
   "id": "6e30453b-d0d4-4d51-ac93-b6c5a8db0d0a",
   "metadata": {},
   "outputs": [],
   "source": [
    "countryName = 'Zambia'"
   ]
  },
  {
   "cell_type": "code",
   "execution_count": 9,
   "id": "cd4fced1-1dd2-4acd-8f7e-84c2cac2224b",
   "metadata": {},
   "outputs": [],
   "source": [
    "text1 = 'I love my car so much, its the best car in towm!'"
   ]
  },
  {
   "cell_type": "code",
   "execution_count": 10,
   "id": "e19d07f4-3a2a-4816-9350-4948ec8e77b6",
   "metadata": {},
   "outputs": [
    {
     "name": "stdout",
     "output_type": "stream",
     "text": [
      "the character I is in index position 0\n",
      "the character   is in index position 1\n",
      "the character l is in index position 2\n",
      "the character o is in index position 3\n",
      "the character v is in index position 4\n",
      "the character e is in index position 5\n",
      "the character   is in index position 1\n",
      "the character m is in index position 7\n",
      "the character y is in index position 8\n",
      "the character   is in index position 1\n",
      "the character c is in index position 10\n",
      "the character a is in index position 11\n",
      "the character r is in index position 12\n",
      "the character   is in index position 1\n",
      "the character s is in index position 14\n",
      "the character o is in index position 3\n",
      "the character   is in index position 1\n",
      "the character m is in index position 7\n",
      "the character u is in index position 18\n",
      "the character c is in index position 10\n",
      "the character h is in index position 20\n",
      "the character , is in index position 21\n",
      "the character   is in index position 1\n",
      "the character i is in index position 23\n",
      "the character t is in index position 24\n",
      "the character s is in index position 14\n",
      "the character   is in index position 1\n",
      "the character t is in index position 24\n",
      "the character h is in index position 20\n",
      "the character e is in index position 5\n",
      "the character   is in index position 1\n",
      "the character b is in index position 31\n",
      "the character e is in index position 5\n",
      "the character s is in index position 14\n",
      "the character t is in index position 24\n",
      "the character   is in index position 1\n",
      "the character c is in index position 10\n",
      "the character a is in index position 11\n",
      "the character r is in index position 12\n",
      "the character   is in index position 1\n",
      "the character i is in index position 23\n",
      "the character n is in index position 41\n",
      "the character   is in index position 1\n",
      "the character t is in index position 24\n",
      "the character o is in index position 3\n",
      "the character w is in index position 45\n",
      "the character m is in index position 7\n",
      "the character ! is in index position 47\n"
     ]
    }
   ],
   "source": [
    "for char in text1:\n",
    "    idx = text1.index(char)\n",
    "    print(f'the character {char} is in index position {idx}')"
   ]
  },
  {
   "cell_type": "code",
   "execution_count": 11,
   "id": "be13a61d-607b-4236-8094-61041428b76d",
   "metadata": {},
   "outputs": [],
   "source": [
    "name = 'Adeyinka'"
   ]
  },
  {
   "cell_type": "code",
   "execution_count": 12,
   "id": "d9b2dc00-2493-4658-a0c7-6c5bad05c115",
   "metadata": {},
   "outputs": [
    {
     "name": "stdout",
     "output_type": "stream",
     "text": [
      "y\n"
     ]
    }
   ],
   "source": [
    "print(name[3])"
   ]
  },
  {
   "cell_type": "code",
   "execution_count": 13,
   "id": "1051d2c1-dab8-499d-a382-000c45e8757a",
   "metadata": {},
   "outputs": [
    {
     "data": {
      "text/plain": [
       "'y'"
      ]
     },
     "execution_count": 13,
     "metadata": {},
     "output_type": "execute_result"
    }
   ],
   "source": [
    "name[3]"
   ]
  },
  {
   "cell_type": "code",
   "execution_count": 14,
   "id": "4fd83510-9dd6-4d5f-bdf0-d914e61b256e",
   "metadata": {},
   "outputs": [
    {
     "data": {
      "text/plain": [
       "'n'"
      ]
     },
     "execution_count": 14,
     "metadata": {},
     "output_type": "execute_result"
    }
   ],
   "source": [
    "name[5]"
   ]
  },
  {
   "cell_type": "code",
   "execution_count": 15,
   "id": "71b64e49-7941-4007-b836-072ff9b26004",
   "metadata": {},
   "outputs": [
    {
     "data": {
      "text/plain": [
       "'a'"
      ]
     },
     "execution_count": 15,
     "metadata": {},
     "output_type": "execute_result"
    }
   ],
   "source": [
    "name[7]"
   ]
  },
  {
   "cell_type": "code",
   "execution_count": 16,
   "id": "f84752ff-009b-4f6e-9e42-75774ff93020",
   "metadata": {},
   "outputs": [
    {
     "data": {
      "text/plain": [
       "6"
      ]
     },
     "execution_count": 16,
     "metadata": {},
     "output_type": "execute_result"
    }
   ],
   "source": [
    "name.index('k')"
   ]
  },
  {
   "cell_type": "code",
   "execution_count": 17,
   "id": "89e0b31b-5a28-4a04-83fc-c0909aaa4886",
   "metadata": {},
   "outputs": [
    {
     "data": {
      "text/plain": [
       "10"
      ]
     },
     "execution_count": 17,
     "metadata": {},
     "output_type": "execute_result"
    }
   ],
   "source": [
    "text1.index('car')"
   ]
  },
  {
   "cell_type": "code",
   "execution_count": 18,
   "id": "97336438-1253-48cc-b1f4-fb62a154e7cb",
   "metadata": {},
   "outputs": [],
   "source": [
    "# Detecting Vulgar Words\n",
    "vWords = ['stupid', 'mad', 'crazy', 'fool', 'nigga', 'senile']"
   ]
  },
  {
   "cell_type": "code",
   "execution_count": 19,
   "id": "d10b0776-917a-441c-a667-0df385aba64a",
   "metadata": {},
   "outputs": [],
   "source": [
    "message = '''\n",
    "is simply dummy text of the printing and mad typesetting industry.\n",
    "Lorem Ipsum has been the industry's standard dummy text ever since the 1950's\n",
    "when an unknown printer crazy took a gallery of type and scrambled it to make a type specimen book.\n",
    "It has survived not only five centuries, but also the leap into the electronic typesetting,\n",
    "remaining nigga essentially unchanged. It was fool popularised in the 1960's with the senile release of Letraset sheets containing\n",
    "Lorem Ipsum passages, and more recently with desktop publishing software like Aldus Pagemaker including versions\n",
    "of Lorem Ipsum.\n",
    "'''"
   ]
  },
  {
   "cell_type": "code",
   "execution_count": 20,
   "id": "346cb2a8-a561-4f26-8d84-6eee1014491e",
   "metadata": {},
   "outputs": [
    {
     "data": {
      "text/plain": [
       "598"
      ]
     },
     "execution_count": 20,
     "metadata": {},
     "output_type": "execute_result"
    }
   ],
   "source": [
    "# we can check the length of any string using the len() function\n",
    "len(message)"
   ]
  },
  {
   "cell_type": "code",
   "execution_count": 21,
   "id": "c591ba5b-8455-4677-81d5-6a1c71a043ce",
   "metadata": {},
   "outputs": [
    {
     "name": "stdout",
     "output_type": "stream",
     "text": [
      "mad is found in index position 42 \n",
      "crazy is found in index position 170 \n",
      "fool is found in index position 384 \n",
      "nigga is found in index position 348 \n",
      "senile is found in index position 424 \n"
     ]
    }
   ],
   "source": [
    "for vWord in vWords:\n",
    "    if vWord in message:\n",
    "        idx = message.index(vWord)\n",
    "        print(f'{vWord} is found in index position {idx} ')"
   ]
  },
  {
   "cell_type": "code",
   "execution_count": 22,
   "id": "7f08decf-9d9b-43da-8325-4a693c7b1487",
   "metadata": {},
   "outputs": [],
   "source": [
    "strName = 'Chukwu'"
   ]
  },
  {
   "cell_type": "code",
   "execution_count": 23,
   "id": "c0d319e8-b371-44c2-a230-473d9a72b5f8",
   "metadata": {},
   "outputs": [
    {
     "data": {
      "text/plain": [
       "2"
      ]
     },
     "execution_count": 23,
     "metadata": {},
     "output_type": "execute_result"
    }
   ],
   "source": [
    "strName.index('u')"
   ]
  },
  {
   "cell_type": "code",
   "execution_count": 24,
   "id": "973c9bb9-113a-4902-860c-b254138dd58b",
   "metadata": {},
   "outputs": [
    {
     "name": "stdout",
     "output_type": "stream",
     "text": [
      "u found in index position 2\n",
      "u found in index position 5\n"
     ]
    }
   ],
   "source": [
    "# searching for character u index position in the strName variable called chukwu\n",
    "counter = 0\n",
    "searchChar = 'u'\n",
    "for char in strName:\n",
    "    if char == 'u':\n",
    "        print(f'{searchChar} found in index position {counter}')\n",
    "    counter = counter +1"
   ]
  },
  {
   "cell_type": "code",
   "execution_count": 25,
   "id": "66e545a6-53d8-40e0-98b9-6cd9f5e32597",
   "metadata": {},
   "outputs": [],
   "source": [
    "# Reverse indexing in strings\n",
    "# It is possible to index strings starting from the last character\n",
    "# The last character is always at index position -1\n",
    "\n",
    "strname2 = 'William Adeniran'"
   ]
  },
  {
   "cell_type": "code",
   "execution_count": 26,
   "id": "e19e3098-84d1-429b-bc5c-9ca7a3de8904",
   "metadata": {},
   "outputs": [
    {
     "data": {
      "text/plain": [
       "'n'"
      ]
     },
     "execution_count": 26,
     "metadata": {},
     "output_type": "execute_result"
    }
   ],
   "source": [
    "strname2[len(strname2)-1]"
   ]
  },
  {
   "cell_type": "code",
   "execution_count": 27,
   "id": "0071fe60-3d97-4614-b42d-8c9b85cfc0a6",
   "metadata": {},
   "outputs": [
    {
     "data": {
      "text/plain": [
       "15"
      ]
     },
     "execution_count": 27,
     "metadata": {},
     "output_type": "execute_result"
    }
   ],
   "source": [
    "len(strname2)-1"
   ]
  },
  {
   "cell_type": "code",
   "execution_count": 28,
   "id": "84977591-a246-44de-bb10-ea8ce15d3a21",
   "metadata": {},
   "outputs": [
    {
     "data": {
      "text/plain": [
       "'n'"
      ]
     },
     "execution_count": 28,
     "metadata": {},
     "output_type": "execute_result"
    }
   ],
   "source": [
    "strname2[-1]"
   ]
  },
  {
   "cell_type": "code",
   "execution_count": 29,
   "id": "4068309c-8d36-4c71-b0de-cbc2df2f5f48",
   "metadata": {},
   "outputs": [
    {
     "data": {
      "text/plain": [
       "'a'"
      ]
     },
     "execution_count": 29,
     "metadata": {},
     "output_type": "execute_result"
    }
   ],
   "source": [
    "strname2[-2]"
   ]
  },
  {
   "cell_type": "code",
   "execution_count": 30,
   "id": "d665700e-3f3c-428a-aba1-5f42b536a00c",
   "metadata": {},
   "outputs": [
    {
     "name": "stdout",
     "output_type": "stream",
     "text": [
      "a\n",
      "a\n"
     ]
    }
   ],
   "source": [
    "# Every character in a string has a forward and a reverse index position\n",
    "print(strname2[-2])\n",
    "print(strname2[14])"
   ]
  },
  {
   "cell_type": "code",
   "execution_count": 31,
   "id": "296204c9-f705-4f19-8728-4e2a252eef7a",
   "metadata": {},
   "outputs": [
    {
     "data": {
      "text/plain": [
       "'Adeniran'"
      ]
     },
     "execution_count": 31,
     "metadata": {},
     "output_type": "execute_result"
    }
   ],
   "source": [
    "strname2 = 'William Adeniran'\n",
    "\n",
    "# extract 'Adeniran'\n",
    "\n",
    "strname2[-8: ]"
   ]
  },
  {
   "cell_type": "code",
   "execution_count": 32,
   "id": "65c17534-bbc1-4be2-aeea-9557bb05c405",
   "metadata": {},
   "outputs": [
    {
     "name": "stdout",
     "output_type": "stream",
     "text": [
      "Olalere\n"
     ]
    }
   ],
   "source": [
    "'''\n",
    "If you are extracting a substring that begins with the first character in the string,\n",
    "you do not need to specify the starting index position\n",
    "'''\n",
    "\n",
    "name3 = 'Olalere Omidire'\n",
    "# extract Olalere\n",
    "\n",
    "print(name3[:7])\n"
   ]
  },
  {
   "cell_type": "code",
   "execution_count": 33,
   "id": "9b00e989-88bd-4a03-b6cf-fd74f90ddb3f",
   "metadata": {},
   "outputs": [
    {
     "name": "stdout",
     "output_type": "stream",
     "text": [
      "Omidire\n"
     ]
    }
   ],
   "source": [
    "'''\n",
    "If you are extracting a substring that ends with the last character in the string,\n",
    "you do not need to specify the ending index position\n",
    "'''\n",
    "\n",
    "name3 = 'Olalere Omidire'\n",
    "# extract Omidire\n",
    "\n",
    "print(name3[8:])\n"
   ]
  },
  {
   "cell_type": "code",
   "execution_count": 34,
   "id": "1132dc63-76e7-4eb6-b0bb-6da424bfd168",
   "metadata": {},
   "outputs": [
    {
     "data": {
      "text/plain": [
       "598"
      ]
     },
     "execution_count": 34,
     "metadata": {},
     "output_type": "execute_result"
    }
   ],
   "source": [
    "message = '''\n",
    "is simply dummy text of the printing and mad typesetting industry.\n",
    "Lorem Ipsum has been the industry's standard dummy text ever since the 1950's\n",
    "when an unknown printer crazy took a gallery of type and scrambled it to make a type specimen book.\n",
    "It has survived not only five centuries, but also the leap into the electronic typesetting,\n",
    "remaining nigga essentially unchanged. It was fool popularised in the 1960's with the senile release of Letraset sheets containing\n",
    "Lorem Ipsum passages, and more recently with desktop publishing software like Aldus Pagemaker including versions\n",
    "of Lorem Ipsum.\n",
    "'''\n",
    "\n",
    "len(message)"
   ]
  },
  {
   "cell_type": "code",
   "execution_count": 35,
   "id": "cffc0641-2689-4652-8aeb-61ac5db6d746",
   "metadata": {},
   "outputs": [],
   "source": [
    "myMessage = 'Hello, welcome to my city. You will love it here'"
   ]
  },
  {
   "cell_type": "code",
   "execution_count": 36,
   "id": "f56141f0-56a0-4d91-874c-cab496ff8e4c",
   "metadata": {},
   "outputs": [
    {
     "data": {
      "text/plain": [
       "['Hello,', 'welcome', 'to', 'my', 'city.', 'You', 'will', 'love', 'it', 'here']"
      ]
     },
     "execution_count": 36,
     "metadata": {},
     "output_type": "execute_result"
    }
   ],
   "source": [
    "myMessage.split()"
   ]
  },
  {
   "cell_type": "code",
   "execution_count": 37,
   "id": "0ce43f64-d339-4ff7-b3a0-a36be8554e5c",
   "metadata": {},
   "outputs": [
    {
     "name": "stdout",
     "output_type": "stream",
     "text": [
      "10\n"
     ]
    }
   ],
   "source": [
    "print(len(myMessage.split()))"
   ]
  },
  {
   "cell_type": "code",
   "execution_count": 38,
   "id": "17300fa7-683f-4dd7-88d1-b7be839a4a05",
   "metadata": {},
   "outputs": [],
   "source": [
    "# number of words in message, and then it's assigned to a varible called countWords\n",
    "\n",
    "countWords = message.split()"
   ]
  },
  {
   "cell_type": "code",
   "execution_count": 39,
   "id": "62fd5db4-d1ed-463f-b7bc-11899debe61b",
   "metadata": {},
   "outputs": [
    {
     "data": {
      "text/plain": [
       "['is',\n",
       " 'simply',\n",
       " 'dummy',\n",
       " 'text',\n",
       " 'of',\n",
       " 'the',\n",
       " 'printing',\n",
       " 'and',\n",
       " 'mad',\n",
       " 'typesetting',\n",
       " 'industry.',\n",
       " 'Lorem',\n",
       " 'Ipsum',\n",
       " 'has',\n",
       " 'been',\n",
       " 'the',\n",
       " \"industry's\",\n",
       " 'standard',\n",
       " 'dummy',\n",
       " 'text',\n",
       " 'ever',\n",
       " 'since',\n",
       " 'the',\n",
       " \"1950's\",\n",
       " 'when',\n",
       " 'an',\n",
       " 'unknown',\n",
       " 'printer',\n",
       " 'crazy',\n",
       " 'took',\n",
       " 'a',\n",
       " 'gallery',\n",
       " 'of',\n",
       " 'type',\n",
       " 'and',\n",
       " 'scrambled',\n",
       " 'it',\n",
       " 'to',\n",
       " 'make',\n",
       " 'a',\n",
       " 'type',\n",
       " 'specimen',\n",
       " 'book.',\n",
       " 'It',\n",
       " 'has',\n",
       " 'survived',\n",
       " 'not',\n",
       " 'only',\n",
       " 'five',\n",
       " 'centuries,',\n",
       " 'but',\n",
       " 'also',\n",
       " 'the',\n",
       " 'leap',\n",
       " 'into',\n",
       " 'the',\n",
       " 'electronic',\n",
       " 'typesetting,',\n",
       " 'remaining',\n",
       " 'nigga',\n",
       " 'essentially',\n",
       " 'unchanged.',\n",
       " 'It',\n",
       " 'was',\n",
       " 'fool',\n",
       " 'popularised',\n",
       " 'in',\n",
       " 'the',\n",
       " \"1960's\",\n",
       " 'with',\n",
       " 'the',\n",
       " 'senile',\n",
       " 'release',\n",
       " 'of',\n",
       " 'Letraset',\n",
       " 'sheets',\n",
       " 'containing',\n",
       " 'Lorem',\n",
       " 'Ipsum',\n",
       " 'passages,',\n",
       " 'and',\n",
       " 'more',\n",
       " 'recently',\n",
       " 'with',\n",
       " 'desktop',\n",
       " 'publishing',\n",
       " 'software',\n",
       " 'like',\n",
       " 'Aldus',\n",
       " 'Pagemaker',\n",
       " 'including',\n",
       " 'versions',\n",
       " 'of',\n",
       " 'Lorem',\n",
       " 'Ipsum.']"
      ]
     },
     "execution_count": 39,
     "metadata": {},
     "output_type": "execute_result"
    }
   ],
   "source": [
    "countWords"
   ]
  },
  {
   "cell_type": "code",
   "execution_count": 40,
   "id": "516cd00d-54b1-47a1-b331-789a065739a3",
   "metadata": {},
   "outputs": [
    {
     "data": {
      "text/plain": [
       "95"
      ]
     },
     "execution_count": 40,
     "metadata": {},
     "output_type": "execute_result"
    }
   ],
   "source": [
    "len(countWords)"
   ]
  },
  {
   "cell_type": "code",
   "execution_count": 41,
   "id": "4f2406ba-5217-4067-b698-5839649a6d43",
   "metadata": {},
   "outputs": [
    {
     "data": {
      "text/plain": [
       "['Oladimeji', 'Alabi', 'Savings Account', '053023452']"
      ]
     },
     "execution_count": 41,
     "metadata": {},
     "output_type": "execute_result"
    }
   ],
   "source": [
    "studName6 = 'Oladimeji_Alabi_Savings Account_053023452'\n",
    "studName6.split('_')"
   ]
  },
  {
   "cell_type": "code",
   "execution_count": 42,
   "id": "7b7533f4-3ed0-4cd8-8587-ab767bba9dc7",
   "metadata": {},
   "outputs": [],
   "source": [
    "studNameSplit = studName6.split('_')"
   ]
  },
  {
   "cell_type": "code",
   "execution_count": 43,
   "id": "483fe410-6d15-45a8-a621-86567b941936",
   "metadata": {},
   "outputs": [
    {
     "data": {
      "text/plain": [
       "['Oladimeji', 'Alabi', 'Savings Account', '053023452']"
      ]
     },
     "execution_count": 43,
     "metadata": {},
     "output_type": "execute_result"
    }
   ],
   "source": [
    "studNameSplit"
   ]
  },
  {
   "cell_type": "code",
   "execution_count": 44,
   "id": "d8808b25-f69f-4953-9e45-06351c591cb0",
   "metadata": {},
   "outputs": [],
   "source": [
    "# multiple assignments of variables\n",
    "# python allows us to declare multiple varibles and assign them all values in a single line"
   ]
  },
  {
   "cell_type": "code",
   "execution_count": 45,
   "id": "51e754cd-aea2-49b2-9061-cc37b5e94b22",
   "metadata": {},
   "outputs": [],
   "source": [
    "x, y, z = 34, 'james', 'agatha'"
   ]
  },
  {
   "cell_type": "code",
   "execution_count": 46,
   "id": "f015d074-5b43-4007-90ad-45b4e3c127d8",
   "metadata": {},
   "outputs": [
    {
     "data": {
      "text/plain": [
       "'agatha'"
      ]
     },
     "execution_count": 46,
     "metadata": {},
     "output_type": "execute_result"
    }
   ],
   "source": [
    "z"
   ]
  },
  {
   "cell_type": "code",
   "execution_count": 47,
   "id": "e966af17-ad11-45f9-8956-3c6cbc7abb3d",
   "metadata": {},
   "outputs": [
    {
     "data": {
      "text/plain": [
       "'james'"
      ]
     },
     "execution_count": 47,
     "metadata": {},
     "output_type": "execute_result"
    }
   ],
   "source": [
    "y"
   ]
  },
  {
   "cell_type": "code",
   "execution_count": 48,
   "id": "2a89a461-65c2-4d5e-9630-b4a2c3d4f429",
   "metadata": {},
   "outputs": [
    {
     "data": {
      "text/plain": [
       "34"
      ]
     },
     "execution_count": 48,
     "metadata": {},
     "output_type": "execute_result"
    }
   ],
   "source": [
    "x"
   ]
  },
  {
   "cell_type": "code",
   "execution_count": 49,
   "id": "53030d64-9c31-4155-b49e-77f1ff1f6905",
   "metadata": {},
   "outputs": [
    {
     "data": {
      "text/plain": [
       "'james'"
      ]
     },
     "execution_count": 49,
     "metadata": {},
     "output_type": "execute_result"
    }
   ],
   "source": [
    "y"
   ]
  },
  {
   "cell_type": "code",
   "execution_count": 50,
   "id": "8a2353ca-d79a-47f4-9ac4-86492363004d",
   "metadata": {},
   "outputs": [],
   "source": [
    "# splitting strings by a common operator"
   ]
  },
  {
   "cell_type": "code",
   "execution_count": 51,
   "id": "c7af96cc-73c2-4760-ae8e-a1a207b1d6d0",
   "metadata": {},
   "outputs": [
    {
     "data": {
      "text/plain": [
       "['Oladimeji', 'Alabi', 'Savings Account', '053023452']"
      ]
     },
     "execution_count": 51,
     "metadata": {},
     "output_type": "execute_result"
    }
   ],
   "source": [
    "studName6 = 'Oladimeji_Alabi_Savings Account_053023452' # common separator is '_'\n",
    "studName6.split('_') # we split by '_ to get the individual words or items in the string'"
   ]
  },
  {
   "cell_type": "code",
   "execution_count": 52,
   "id": "20e48b96-eead-468d-b92c-6e32f657d25f",
   "metadata": {},
   "outputs": [],
   "source": [
    "firstName, lastName, accountType, accountNumber = studName6.split('_') "
   ]
  },
  {
   "cell_type": "code",
   "execution_count": 53,
   "id": "e463e313-bd42-4738-94d0-b6c79e05e67a",
   "metadata": {},
   "outputs": [
    {
     "data": {
      "text/plain": [
       "'Oladimeji'"
      ]
     },
     "execution_count": 53,
     "metadata": {},
     "output_type": "execute_result"
    }
   ],
   "source": [
    "firstName"
   ]
  },
  {
   "cell_type": "code",
   "execution_count": 54,
   "id": "41e0f9da-ab58-4567-aa87-17cc5b1a7091",
   "metadata": {},
   "outputs": [
    {
     "data": {
      "text/plain": [
       "'Alabi'"
      ]
     },
     "execution_count": 54,
     "metadata": {},
     "output_type": "execute_result"
    }
   ],
   "source": [
    "lastName"
   ]
  },
  {
   "cell_type": "code",
   "execution_count": 55,
   "id": "d5b12c0f-4b7c-40d5-9b04-79e370f2c282",
   "metadata": {},
   "outputs": [
    {
     "data": {
      "text/plain": [
       "'Savings Account'"
      ]
     },
     "execution_count": 55,
     "metadata": {},
     "output_type": "execute_result"
    }
   ],
   "source": [
    "accountType"
   ]
  },
  {
   "cell_type": "code",
   "execution_count": 56,
   "id": "4ca46d9e-a6ae-475a-9325-1d2ba24a060c",
   "metadata": {},
   "outputs": [
    {
     "data": {
      "text/plain": [
       "'053023452'"
      ]
     },
     "execution_count": 56,
     "metadata": {},
     "output_type": "execute_result"
    }
   ],
   "source": [
    "accountNumber"
   ]
  },
  {
   "cell_type": "code",
   "execution_count": 57,
   "id": "ed0a9df0-dba7-465d-af6b-d2b5a0551c25",
   "metadata": {},
   "outputs": [],
   "source": [
    "# For Loops and If Statements"
   ]
  },
  {
   "cell_type": "code",
   "execution_count": 58,
   "id": "a8204924-6dd6-4a35-982b-19d08dedcf74",
   "metadata": {},
   "outputs": [
    {
     "ename": "SyntaxError",
     "evalue": "invalid syntax (1280437445.py, line 3)",
     "output_type": "error",
     "traceback": [
      "\u001b[1;36m  File \u001b[1;32m\"C:\\Users\\Larry\\AppData\\Local\\Temp\\ipykernel_13368\\1280437445.py\"\u001b[1;36m, line \u001b[1;32m3\u001b[0m\n\u001b[1;33m    do something here\u001b[0m\n\u001b[1;37m       ^\u001b[0m\n\u001b[1;31mSyntaxError\u001b[0m\u001b[1;31m:\u001b[0m invalid syntax\n"
     ]
    }
   ],
   "source": [
    "# SYNTAX\n",
    "for tempVarible in variableName:\n",
    "    do something here\n",
    "    "
   ]
  },
  {
   "cell_type": "code",
   "execution_count": null,
   "id": "3cdd77d7-c66b-49ad-baf6-223a0d8595e9",
   "metadata": {},
   "outputs": [
    {
     "name": "stdout",
     "output_type": "stream",
     "text": [
      "E\n",
      "l\n",
      "i\n",
      "z\n",
      "a\n",
      "b\n",
      "e\n",
      "t\n",
      "h\n"
     ]
    }
   ],
   "source": [
    "strName7 = 'Elizabeth'\n",
    "\n",
    "for char in strName7:\n",
    "    print(char)"
   ]
  },
  {
   "cell_type": "code",
   "execution_count": null,
   "id": "b2778554-772c-46e4-bc4e-2f8c504d03c1",
   "metadata": {},
   "outputs": [
    {
     "name": "stdout",
     "output_type": "stream",
     "text": [
      "this is run 0\n",
      "going to grab a character in the string\n",
      "grabbed the character E located at index position 0\n",
      "assigning the grabbed {char} to temporary varible char\n",
      "E\n",
      "done with this character, going back to grab the next one\n",
      "############################################\n",
      "this is run 1\n",
      "going to grab a character in the string\n",
      "grabbed the character l located at index position 1\n",
      "assigning the grabbed {char} to temporary varible char\n",
      "l\n",
      "done with this character, going back to grab the next one\n",
      "############################################\n",
      "this is run 2\n",
      "going to grab a character in the string\n",
      "grabbed the character i located at index position 2\n",
      "assigning the grabbed {char} to temporary varible char\n",
      "i\n",
      "done with this character, going back to grab the next one\n",
      "############################################\n",
      "this is run 3\n",
      "going to grab a character in the string\n",
      "grabbed the character z located at index position 3\n",
      "assigning the grabbed {char} to temporary varible char\n",
      "z\n",
      "done with this character, going back to grab the next one\n",
      "############################################\n",
      "this is run 4\n",
      "going to grab a character in the string\n",
      "grabbed the character a located at index position 4\n",
      "assigning the grabbed {char} to temporary varible char\n",
      "a\n",
      "done with this character, going back to grab the next one\n",
      "############################################\n",
      "this is run 5\n",
      "going to grab a character in the string\n",
      "grabbed the character b located at index position 5\n",
      "assigning the grabbed {char} to temporary varible char\n",
      "b\n",
      "done with this character, going back to grab the next one\n",
      "############################################\n",
      "this is run 6\n",
      "going to grab a character in the string\n",
      "grabbed the character e located at index position 6\n",
      "assigning the grabbed {char} to temporary varible char\n",
      "e\n",
      "done with this character, going back to grab the next one\n",
      "############################################\n",
      "this is run 7\n",
      "going to grab a character in the string\n",
      "grabbed the character t located at index position 7\n",
      "assigning the grabbed {char} to temporary varible char\n",
      "t\n",
      "done with this character, going back to grab the next one\n",
      "############################################\n",
      "this is run 8\n",
      "going to grab a character in the string\n",
      "grabbed the character h located at index position 8\n",
      "assigning the grabbed {char} to temporary varible char\n",
      "h\n",
      "done with this character, going back to grab the next one\n",
      "############################################\n"
     ]
    }
   ],
   "source": [
    "strName7 = 'Elizabeth'\n",
    "counter = 0\n",
    "for char in strName7:\n",
    "    print(f'this is run {counter}')\n",
    "    print('going to grab a character in the string')\n",
    "    print(f'grabbed the character {char} located at index position {counter}')\n",
    "    print(f'assigning the grabbed {char} to temporary varible char')\n",
    "    print(char)\n",
    "    print('done with this character, going back to grab the next one')\n",
    "\n",
    "    print('############################################')\n",
    "\n",
    "    counter+=1"
   ]
  },
  {
   "cell_type": "code",
   "execution_count": null,
   "id": "dd6f31d2-9cb5-4de4-928a-7036116ec601",
   "metadata": {},
   "outputs": [
    {
     "name": "stdout",
     "output_type": "stream",
     "text": [
      "this is run 0\n",
      "going to grab a character in the string\n",
      "grabbed the character E located at index position 0\n",
      "assigning the grabbed E to temporary varible char\n",
      "E\n",
      "done with this character, going back to grab the next one\n",
      "############################################\n",
      "this is run 1\n",
      "going to grab a character in the string\n",
      "grabbed the character l located at index position 1\n",
      "assigning the grabbed l to temporary varible char\n",
      "l\n",
      "done with this character, going back to grab the next one\n",
      "############################################\n",
      "this is run 2\n",
      "going to grab a character in the string\n",
      "grabbed the character i located at index position 2\n",
      "assigning the grabbed i to temporary varible char\n",
      "i\n",
      "done with this character, going back to grab the next one\n",
      "############################################\n",
      "this is run 3\n",
      "going to grab a character in the string\n",
      "grabbed the character z located at index position 3\n",
      "assigning the grabbed z to temporary varible char\n",
      "z\n",
      "done with this character, going back to grab the next one\n",
      "############################################\n",
      "this is run 4\n",
      "going to grab a character in the string\n",
      "grabbed the character a located at index position 4\n",
      "assigning the grabbed a to temporary varible char\n",
      "a\n",
      "done with this character, going back to grab the next one\n",
      "############################################\n",
      "this is run 5\n",
      "going to grab a character in the string\n",
      "grabbed the character b located at index position 5\n",
      "assigning the grabbed b to temporary varible char\n",
      "b\n",
      "done with this character, going back to grab the next one\n",
      "############################################\n",
      "this is run 6\n",
      "going to grab a character in the string\n",
      "grabbed the character e located at index position 6\n",
      "assigning the grabbed e to temporary varible char\n",
      "e\n",
      "done with this character, going back to grab the next one\n",
      "############################################\n",
      "this is run 7\n",
      "going to grab a character in the string\n",
      "grabbed the character t located at index position 7\n",
      "assigning the grabbed t to temporary varible char\n",
      "t\n",
      "done with this character, going back to grab the next one\n",
      "############################################\n",
      "this is run 8\n",
      "going to grab a character in the string\n",
      "grabbed the character h located at index position 8\n",
      "assigning the grabbed h to temporary varible char\n",
      "h\n",
      "done with this character, going back to grab the next one\n",
      "############################################\n"
     ]
    }
   ],
   "source": [
    "strName7 = 'Elizabeth'\n",
    "\n",
    "for char in strName7:\n",
    "    idx = strName7.index(char)\n",
    "    print(f'this is run {idx}')\n",
    "    print('going to grab a character in the string')\n",
    "    print(f'grabbed the character {char} located at index position {idx}')\n",
    "    print(f'assigning the grabbed {char} to temporary varible char')\n",
    "    print(char)\n",
    "    print('done with this character, going back to grab the next one')\n",
    "\n",
    "    print('############################################')\n",
    "\n",
    "  "
   ]
  },
  {
   "cell_type": "code",
   "execution_count": null,
   "id": "532d0543-623b-42a9-abf2-6ddfe994d3db",
   "metadata": {},
   "outputs": [
    {
     "name": "stdout",
     "output_type": "stream",
     "text": [
      "This is located at index position 6 and is the end of a word and the starting point of another word\n"
     ]
    }
   ],
   "source": [
    "strName8 = 'Kayode Adebayo'\n",
    "\n",
    "for char in strName8:\n",
    "    if char == ' ':\n",
    "        idx = strName8.index(char)\n",
    "        print(f'This is located at index position {idx} and is the end of a word and the starting point of another word')\n",
    "        \n",
    "    "
   ]
  },
  {
   "cell_type": "code",
   "execution_count": null,
   "id": "665f8306-7fc8-444a-8091-830c895f2f78",
   "metadata": {},
   "outputs": [
    {
     "name": "stdout",
     "output_type": "stream",
     "text": [
      "This is located at index position 6 and is the end of a word and the starting point of another word\n",
      "i found an A in index position 7\n"
     ]
    }
   ],
   "source": [
    "strName9 = 'Kayode Adebayo'\n",
    "\n",
    "for char in strName9:\n",
    "    idx = strName9.index(char)\n",
    "    if char == 'A':\n",
    "        print(f'i found an A in index position {idx}')\n",
    "    if char == ' ':\n",
    "        print(f'This is located at index position {idx} and is the end of a word and the starting point of another word')"
   ]
  },
  {
   "cell_type": "code",
   "execution_count": null,
   "id": "0195b0aa-a565-4b0a-bd30-357db8d90caf",
   "metadata": {},
   "outputs": [
    {
     "name": "stdout",
     "output_type": "stream",
     "text": [
      "Agatha\n",
      "sorry, Im just here, i dont know why\n",
      "James\n",
      "sorry, Im just here, i dont know why\n",
      "found James in the list\n",
      "Gail\n",
      "sorry, Im just here, i dont know why\n",
      "I am here now. I am outside the for loop\n"
     ]
    }
   ],
   "source": [
    "list1 = ['Agatha', 'James', 'Gail']\n",
    "\n",
    "for name in list1:\n",
    "    print(name)\n",
    "    print('sorry, Im just here, i dont know why')\n",
    "\n",
    "    if name == 'James':\n",
    "        print('found James in the list')\n",
    "print('I am here now. I am outside the for loop')"
   ]
  },
  {
   "cell_type": "code",
   "execution_count": null,
   "id": "0b2c369c-de80-4670-b7b0-18981907852f",
   "metadata": {},
   "outputs": [],
   "source": [
    "myAge = 35"
   ]
  },
  {
   "cell_type": "code",
   "execution_count": null,
   "id": "74aabd15-a4c0-4bda-9937-18041a15ef29",
   "metadata": {},
   "outputs": [
    {
     "data": {
      "text/plain": [
       "'\\nScenario1:\\nWe have 5 students named Blessing, Mogekwu, Kenile, Michael and Ejike\\nTheir Ages; 25, 34, 21, 33, 31\\n\\n'"
      ]
     },
     "execution_count": 7,
     "metadata": {},
     "output_type": "execute_result"
    }
   ],
   "source": [
    "# New Class Practise for Jan 2023\n",
    "# Python Containers - Tuples, Lists, Sets, and Dictionaries\n",
    "\n",
    "'''\n",
    "Scenario1:\n",
    "We have 5 students named Blessing, Mogekwu, Kenile, Michael and Ejike\n",
    "Their Ages; 25, 34, 21, 33, 31\n",
    "\n",
    "'''\n",
    "\n"
   ]
  },
  {
   "cell_type": "code",
   "execution_count": null,
   "id": "3949d0cd-2d90-4226-84f2-da61be9b8974",
   "metadata": {},
   "outputs": [],
   "source": [
    "blessingAge = 25\n",
    "mogekwuAge = 34\n",
    "kenileAge = 21\n",
    "michaelAge = 33\n",
    "ejikeAge = 31"
   ]
  },
  {
   "cell_type": "code",
   "execution_count": null,
   "id": "a3af61b6-6da4-4030-b6ae-6886bf2d7bc2",
   "metadata": {},
   "outputs": [
    {
     "data": {
      "text/plain": [
       "35"
      ]
     },
     "execution_count": 5,
     "metadata": {},
     "output_type": "execute_result"
    }
   ],
   "source": [
    "myAge"
   ]
  },
  {
   "cell_type": "code",
   "execution_count": null,
   "id": "214af19e-33ad-4286-840d-e3571e38cb9c",
   "metadata": {},
   "outputs": [],
   "source": [
    "studAges = 'Blessing_25 Mogekwu_34 Kenile_21 Michael_33 Ejike_31'"
   ]
  },
  {
   "cell_type": "code",
   "execution_count": null,
   "id": "f13f28b2-6451-49d8-8ae8-ef47eca80cf0",
   "metadata": {},
   "outputs": [
    {
     "data": {
      "text/plain": [
       "25"
      ]
     },
     "execution_count": 10,
     "metadata": {},
     "output_type": "execute_result"
    }
   ],
   "source": [
    "blessingAge"
   ]
  },
  {
   "cell_type": "code",
   "execution_count": null,
   "id": "d51529b3-5445-4370-81f2-1ba878a7e252",
   "metadata": {},
   "outputs": [
    {
     "data": {
      "text/plain": [
       "'Blessing_25 Mogekwu_34 Kenile_21 Michael_33 Ejike_31'"
      ]
     },
     "execution_count": 11,
     "metadata": {},
     "output_type": "execute_result"
    }
   ],
   "source": [
    "studAges"
   ]
  },
  {
   "cell_type": "code",
   "execution_count": null,
   "id": "65cd7908-d049-45db-830c-345ef28fcf1b",
   "metadata": {},
   "outputs": [
    {
     "data": {
      "text/plain": [
       "['Blessing_25', 'Mogekwu_34', 'Kenile_21', 'Michael_33', 'Ejike_31']"
      ]
     },
     "execution_count": 12,
     "metadata": {},
     "output_type": "execute_result"
    }
   ],
   "source": [
    "studAges.split(' ')"
   ]
  },
  {
   "cell_type": "code",
   "execution_count": null,
   "id": "8c74489e-05c9-443c-a5f9-99d40a3d41df",
   "metadata": {},
   "outputs": [],
   "source": [
    "# Tuples\n",
    "\n",
    "# This is a varible type that can hold multiple items inside brackets each separated by commas\n",
    "\n",
    "# Each item inside a tuple is assigned an index position starting from zero\n",
    "\n",
    "# using the index position of an item, we can fetch it from a tuple\n",
    "\n",
    "Syntax for fetching items from a Tuple\n",
    "tupleName[indexPositionOfItem]\n"
   ]
  },
  {
   "cell_type": "code",
   "execution_count": null,
   "id": "1a582120-119f-4f09-8d0c-22ab4146dd11",
   "metadata": {},
   "outputs": [],
   "source": [
    "studAges1 = (25, 34, 21, 33, 31)"
   ]
  },
  {
   "cell_type": "code",
   "execution_count": null,
   "id": "4a6605d4-1052-4fcd-a0f9-7b168dccaede",
   "metadata": {},
   "outputs": [],
   "source": []
  },
  {
   "cell_type": "code",
   "execution_count": null,
   "id": "064b8384-0835-414d-ba29-6849edb95713",
   "metadata": {},
   "outputs": [
    {
     "data": {
      "text/plain": [
       "(25, 34, 21, 33, 31)"
      ]
     },
     "execution_count": 4,
     "metadata": {},
     "output_type": "execute_result"
    }
   ],
   "source": [
    "studAges1"
   ]
  },
  {
   "cell_type": "code",
   "execution_count": null,
   "id": "1d94dc45-8d84-4cb4-8ecc-f0cd1ea7fff0",
   "metadata": {},
   "outputs": [
    {
     "data": {
      "text/plain": [
       "25"
      ]
     },
     "execution_count": 5,
     "metadata": {},
     "output_type": "execute_result"
    }
   ],
   "source": [
    "studAges1[0]"
   ]
  },
  {
   "cell_type": "code",
   "execution_count": null,
   "id": "d1d8ec04-536d-437e-9d26-065638d5d810",
   "metadata": {},
   "outputs": [
    {
     "data": {
      "text/plain": [
       "25"
      ]
     },
     "execution_count": 18,
     "metadata": {},
     "output_type": "execute_result"
    }
   ],
   "source": [
    "# Fetch 25 from the studAges1 tuple\n",
    "studAges1[0]"
   ]
  },
  {
   "cell_type": "code",
   "execution_count": null,
   "id": "15d1682a-6235-4c60-887b-a4582717be54",
   "metadata": {},
   "outputs": [
    {
     "data": {
      "text/plain": [
       "31"
      ]
     },
     "execution_count": 6,
     "metadata": {},
     "output_type": "execute_result"
    }
   ],
   "source": [
    "#fetch the last item from the studAges1 tuple\n",
    "studAges1[-1]"
   ]
  },
  {
   "cell_type": "code",
   "execution_count": null,
   "id": "e5fb5214-a281-45ad-85c4-43c9aa76b671",
   "metadata": {},
   "outputs": [
    {
     "data": {
      "text/plain": [
       "(34, 21, 33)"
      ]
     },
     "execution_count": 8,
     "metadata": {},
     "output_type": "execute_result"
    }
   ],
   "source": [
    "#fetch 34, 21 and 33 from the studAges1 tuple\n",
    "studAges1[1:4]"
   ]
  },
  {
   "cell_type": "code",
   "execution_count": null,
   "id": "1eb06982-541d-4cc0-b4b0-4bc8f96a4e66",
   "metadata": {},
   "outputs": [],
   "source": [
    "'''\n",
    "Scenario1:\n",
    "We have 5 students named Blessing, Mogekwu, Kenile, Michael and Ejike\n",
    "Their Ages; 25, 34, 21, 33, 31\n",
    "\n",
    "'''\n",
    "\n",
    "# implementing with a Tuple \n",
    "\n",
    "studNames = ('Blessing', 'Mogekwu', 'Kenile', 'Michael', 'Ejike')\n",
    "studAges2 = (25, 34, 21, 33, 31)"
   ]
  },
  {
   "cell_type": "code",
   "execution_count": null,
   "id": "87ee5f36-2bbe-439a-b91e-4bc08dd9e0fe",
   "metadata": {},
   "outputs": [
    {
     "data": {
      "text/plain": [
       "'Ejike'"
      ]
     },
     "execution_count": 10,
     "metadata": {},
     "output_type": "execute_result"
    }
   ],
   "source": [
    "studNames[4]"
   ]
  },
  {
   "cell_type": "code",
   "execution_count": null,
   "id": "b34957c8-88d7-47c0-b8f6-1bf327868070",
   "metadata": {},
   "outputs": [
    {
     "data": {
      "text/plain": [
       "31"
      ]
     },
     "execution_count": 12,
     "metadata": {},
     "output_type": "execute_result"
    }
   ],
   "source": [
    "studAges2[4]"
   ]
  },
  {
   "cell_type": "code",
   "execution_count": null,
   "id": "0c67b9d7-f555-4274-b851-59d243640ced",
   "metadata": {},
   "outputs": [
    {
     "name": "stdout",
     "output_type": "stream",
     "text": [
      "Blessing 25\n",
      "Mogekwu 34\n",
      "Kenile 21\n",
      "Michael 33\n",
      "Ejike 31\n"
     ]
    }
   ],
   "source": [
    "# To combine two containers we use the zip()\n",
    "\n",
    "for student, age in zip (studNames, studAges2):\n",
    "    print(student, age)"
   ]
  },
  {
   "cell_type": "code",
   "execution_count": null,
   "id": "919946da-9b29-4abc-a401-f6f91fc05cf1",
   "metadata": {},
   "outputs": [
    {
     "ename": "AttributeError",
     "evalue": "'tuple' object has no attribute 'append'",
     "output_type": "error",
     "traceback": [
      "\u001b[1;31m---------------------------------------------------------------------------\u001b[0m",
      "\u001b[1;31mAttributeError\u001b[0m                            Traceback (most recent call last)",
      "Cell \u001b[1;32mIn[16], line 4\u001b[0m\n\u001b[0;32m      1\u001b[0m \u001b[38;5;66;03m# Note that you can't add any value to a tuple after it has been created. \u001b[39;00m\n\u001b[0;32m      2\u001b[0m \u001b[38;5;66;03m# This would result in an error because tuples are immutable, \u001b[39;00m\n\u001b[0;32m      3\u001b[0m \u001b[38;5;66;03m# that is nothing can be added or removed from it after it has been created\u001b[39;00m\n\u001b[1;32m----> 4\u001b[0m studNames\u001b[38;5;241m.\u001b[39mappend(\u001b[38;5;124m'\u001b[39m\u001b[38;5;124mJoy\u001b[39m\u001b[38;5;124m'\u001b[39m)\n",
      "\u001b[1;31mAttributeError\u001b[0m: 'tuple' object has no attribute 'append'"
     ]
    }
   ],
   "source": [
    "# Note that you can't add any value to a tuple after it has been created. \n",
    "# This would result in an error because tuples are immutable, \n",
    "# that is nothing can be added or removed from it after it has been created\n",
    "studNames.append('Joy')"
   ]
  },
  {
   "cell_type": "code",
   "execution_count": null,
   "id": "3675f536-ff83-43d9-8c57-eac0044bfbe3",
   "metadata": {},
   "outputs": [],
   "source": [
    "# Recreating a new tuple with the same name in order to add a new entry into it,\n",
    "# It destroys the former reference that holds the initial entry\n",
    "studNames = ('Blessing', 'Mogekwu', 'Kenile', 'Michael', 'Ejike', 'Joy')\n",
    "studAges3 = (25, 34, 21, 33, 31, 40)"
   ]
  },
  {
   "cell_type": "code",
   "execution_count": null,
   "id": "5ee7dc18-2b62-4d91-b89b-7cd739d8796a",
   "metadata": {},
   "outputs": [
    {
     "data": {
      "text/plain": [
       "('Blessing', 'Mogekwu', 'Kenile', 'Michael', 'Ejike', 'Joy')"
      ]
     },
     "execution_count": 19,
     "metadata": {},
     "output_type": "execute_result"
    }
   ],
   "source": [
    "studNames"
   ]
  },
  {
   "cell_type": "code",
   "execution_count": null,
   "id": "1ec29367-c2f0-4de3-ba2e-ce352b1adb54",
   "metadata": {},
   "outputs": [],
   "source": [
    "# We can destroy a variable's reference to a specific value and point it to another value"
   ]
  },
  {
   "cell_type": "code",
   "execution_count": null,
   "id": "1f06133b-2754-4909-af67-d8d14cacad04",
   "metadata": {},
   "outputs": [],
   "source": [
    "bestFriend = 'All of You'"
   ]
  },
  {
   "cell_type": "code",
   "execution_count": null,
   "id": "3c71c25c-0c0e-4d92-9989-5f8c0c950f83",
   "metadata": {},
   "outputs": [
    {
     "data": {
      "text/plain": [
       "'All of You'"
      ]
     },
     "execution_count": 47,
     "metadata": {},
     "output_type": "execute_result"
    }
   ],
   "source": [
    "bestFriend"
   ]
  },
  {
   "cell_type": "code",
   "execution_count": null,
   "id": "64b7fd04-2d3a-41f9-a836-4dc4a9cee642",
   "metadata": {},
   "outputs": [
    {
     "ename": "NameError",
     "evalue": "name 'bestFriend' is not defined",
     "output_type": "error",
     "traceback": [
      "\u001b[1;31m---------------------------------------------------------------------------\u001b[0m",
      "\u001b[1;31mNameError\u001b[0m                                 Traceback (most recent call last)",
      "Cell \u001b[1;32mIn[20], line 1\u001b[0m\n\u001b[1;32m----> 1\u001b[0m bestFriend\u001b[38;5;241m.\u001b[39mappend(\u001b[38;5;124m'\u001b[39m\u001b[38;5;124mOlufemi\u001b[39m\u001b[38;5;124m'\u001b[39m)\n",
      "\u001b[1;31mNameError\u001b[0m: name 'bestFriend' is not defined"
     ]
    }
   ],
   "source": [
    "bestFriend.append('Olufemi')"
   ]
  },
  {
   "cell_type": "code",
   "execution_count": null,
   "id": "6741cf68-ba27-4247-8dac-bef21281c463",
   "metadata": {},
   "outputs": [],
   "source": [
    "bestFriend = 'Olufemi'"
   ]
  },
  {
   "cell_type": "code",
   "execution_count": null,
   "id": "0a419bf0-adeb-49c7-a8b3-5e4e7913c88e",
   "metadata": {},
   "outputs": [
    {
     "data": {
      "text/plain": [
       "'Olufemi'"
      ]
     },
     "execution_count": 22,
     "metadata": {},
     "output_type": "execute_result"
    }
   ],
   "source": [
    "bestFriend"
   ]
  },
  {
   "cell_type": "code",
   "execution_count": null,
   "id": "ee4135b9-734d-4505-9107-55a7169d7ff1",
   "metadata": {},
   "outputs": [
    {
     "data": {
      "text/plain": [
       "'Mogekwu'"
      ]
     },
     "execution_count": 23,
     "metadata": {},
     "output_type": "execute_result"
    }
   ],
   "source": [
    "studNames[1]"
   ]
  },
  {
   "cell_type": "code",
   "execution_count": null,
   "id": "430da35a-58ae-4345-ba40-2ff0589e1c95",
   "metadata": {},
   "outputs": [
    {
     "name": "stdout",
     "output_type": "stream",
     "text": [
      "Blessing 25\n",
      "Mogekwu 34\n",
      "Kenile 21\n",
      "Michael 33\n",
      "Ejike 31\n",
      "Joy 40\n"
     ]
    }
   ],
   "source": [
    "# To combine two containers we use the zip() function\n",
    "\n",
    "for student, age in zip(studNames, studAges3):\n",
    "    print(student, age)"
   ]
  },
  {
   "cell_type": "code",
   "execution_count": null,
   "id": "388f3c9e-d6a1-4e07-ab3d-6df682a46b9c",
   "metadata": {},
   "outputs": [
    {
     "data": {
      "text/plain": [
       "'Olufemi'"
      ]
     },
     "execution_count": 50,
     "metadata": {},
     "output_type": "execute_result"
    }
   ],
   "source": [
    "bestFriend"
   ]
  },
  {
   "cell_type": "code",
   "execution_count": null,
   "id": "f9422bc9-3c6d-46cd-8e71-540f7c69bf47",
   "metadata": {},
   "outputs": [],
   "source": []
  },
  {
   "cell_type": "code",
   "execution_count": null,
   "id": "ef93e88f-2436-4739-9b75-f992f5195094",
   "metadata": {},
   "outputs": [],
   "source": []
  },
  {
   "cell_type": "code",
   "execution_count": null,
   "id": "3b58e263-9b10-408f-b379-3d042439104d",
   "metadata": {},
   "outputs": [],
   "source": [
    "# Python Lists\n",
    "# List are a type of container that is defined with square Bracket that contains items each separated by comma's\n",
    "\n",
    "# Each item in a List is assigned an index position starting from Zero\n",
    "# Lists are Mutable, which means that items can be added or removed from a list.\n",
    "\n"
   ]
  },
  {
   "cell_type": "code",
   "execution_count": null,
   "id": "373227e0-ee7c-41ba-a97a-b99ebbc9ffe4",
   "metadata": {},
   "outputs": [],
   "source": [
    "Scenario1:\n",
    "We have 5 students named Blessing, Mogekwu, Kenile, Michael and Ejike\n",
    "Their Ages; 25, 34, 21, 33, 31\n"
   ]
  },
  {
   "cell_type": "code",
   "execution_count": null,
   "id": "f833c33d-49ac-4c75-aa47-6a5f39e264da",
   "metadata": {},
   "outputs": [],
   "source": [
    "# Implementing a Python Lists\n",
    "\n",
    "studNamesList = ['Blessing', 'Mogekwu', 'Kenile', 'Michael', 'Ejike']\n",
    "studAgesList = [25, 34, 21, 33, 31]"
   ]
  },
  {
   "cell_type": "code",
   "execution_count": null,
   "id": "af7ac6cd-64e2-4fcf-94cf-3ea74c45a8b5",
   "metadata": {},
   "outputs": [
    {
     "data": {
      "text/plain": [
       "['Blessing', 'Mogekwu', 'Kenile', 'Michael', 'Ejike']"
      ]
     },
     "execution_count": 27,
     "metadata": {},
     "output_type": "execute_result"
    }
   ],
   "source": [
    "studNamesList"
   ]
  },
  {
   "cell_type": "code",
   "execution_count": null,
   "id": "cbe991cf-16d1-4d92-9af6-fabde0f128e7",
   "metadata": {},
   "outputs": [
    {
     "data": {
      "text/plain": [
       "'Kenile'"
      ]
     },
     "execution_count": 28,
     "metadata": {},
     "output_type": "execute_result"
    }
   ],
   "source": [
    "studNamesList[2]"
   ]
  },
  {
   "cell_type": "code",
   "execution_count": null,
   "id": "c0062432-52cc-42b1-bb72-443402559751",
   "metadata": {},
   "outputs": [
    {
     "data": {
      "text/plain": [
       "21"
      ]
     },
     "execution_count": 29,
     "metadata": {},
     "output_type": "execute_result"
    }
   ],
   "source": [
    "studAgesList[2]"
   ]
  },
  {
   "cell_type": "code",
   "execution_count": null,
   "id": "63a69c1c-370c-412b-99c6-fd9620bf160f",
   "metadata": {},
   "outputs": [
    {
     "data": {
      "text/plain": [
       "[34, 21, 33]"
      ]
     },
     "execution_count": 70,
     "metadata": {},
     "output_type": "execute_result"
    }
   ],
   "source": [
    "# Get the ages of Mogekwu, Kenile, Michael from the list studNamesList\n",
    "\n",
    "studAgesList[1:4]"
   ]
  },
  {
   "cell_type": "code",
   "execution_count": null,
   "id": "6df03e86-1f7d-46eb-b732-c37a26d82485",
   "metadata": {},
   "outputs": [
    {
     "data": {
      "text/plain": [
       "['Mogekwu', 'Kenile', 'Michael']"
      ]
     },
     "execution_count": 30,
     "metadata": {},
     "output_type": "execute_result"
    }
   ],
   "source": [
    "studNamesList[1:4]"
   ]
  },
  {
   "cell_type": "code",
   "execution_count": null,
   "id": "c4aa5fe7-372f-4c5b-b08c-9191ac77ebfd",
   "metadata": {},
   "outputs": [],
   "source": [
    "# Adding items to a List\n",
    "# Add Joy to the Student List\n",
    "\n",
    "# use the .append() nethod to add a single item to a List\n",
    "\n",
    "Syntax\n",
    "nameofList.append(item)\n",
    "\n"
   ]
  },
  {
   "cell_type": "code",
   "execution_count": null,
   "id": "04f4b159-e3ce-4b64-be27-d7fbf173255b",
   "metadata": {},
   "outputs": [],
   "source": [
    "studNamesList.append('joy')"
   ]
  },
  {
   "cell_type": "code",
   "execution_count": null,
   "id": "71281de1-3b4f-40f4-bc7b-daa4f753c99f",
   "metadata": {},
   "outputs": [
    {
     "data": {
      "text/plain": [
       "['Blessing', 'Mogekwu', 'Kenile', 'Michael', 'Ejike', 'joy']"
      ]
     },
     "execution_count": 33,
     "metadata": {},
     "output_type": "execute_result"
    }
   ],
   "source": [
    "studNamesList"
   ]
  },
  {
   "cell_type": "code",
   "execution_count": null,
   "id": "9bc00907-fc58-4c13-bb6e-2e8f2ae6b789",
   "metadata": {},
   "outputs": [],
   "source": [
    "# Also add Joy's age to the students age List\n",
    "studAgesList.append(26)"
   ]
  },
  {
   "cell_type": "code",
   "execution_count": null,
   "id": "3c305986-49d8-4dab-938b-01ab750f2f8b",
   "metadata": {},
   "outputs": [
    {
     "data": {
      "text/plain": [
       "[25, 34, 21, 33, 31, 26]"
      ]
     },
     "execution_count": 74,
     "metadata": {},
     "output_type": "execute_result"
    }
   ],
   "source": [
    "studAgesList"
   ]
  },
  {
   "cell_type": "code",
   "execution_count": null,
   "id": "07322025-4b47-4257-a43e-d10c8ef1cb46",
   "metadata": {},
   "outputs": [
    {
     "name": "stdout",
     "output_type": "stream",
     "text": [
      "Blessing 25\n",
      "Mogekwu 34\n",
      "Kenile 21\n",
      "Michael 33\n",
      "Ejike 31\n",
      "joy 26\n"
     ]
    }
   ],
   "source": [
    "# To combine two containers we use the zip() function\n",
    "\n",
    "for student, age in zip(studNamesList, studAgesList):\n",
    "    print(student, age)"
   ]
  },
  {
   "cell_type": "code",
   "execution_count": null,
   "id": "acfdb60a-e080-4c11-bfe5-a2db34982ba5",
   "metadata": {},
   "outputs": [],
   "source": [
    "# Scenario. You are asked to add the following students to the studentNamesList; Agatha, Jeremy and David\n",
    "# Also add their ages to the studAgeList 20, 18, 24"
   ]
  },
  {
   "cell_type": "code",
   "execution_count": null,
   "id": "6b6b65bf-08e3-4280-8c74-6062bf7efa59",
   "metadata": {},
   "outputs": [],
   "source": [
    "studNamesList = ['Blessing', 'Mogekwu', 'Kenile', 'Michael', 'Ejike']\n",
    "studAgesList = [25, 34, 21, 33, 31]\n",
    "\n",
    "newStuds = ['Agatha', 'Jeremy', 'David']\n",
    "newStudAges = [20, 18, 24]"
   ]
  },
  {
   "cell_type": "code",
   "execution_count": null,
   "id": "77d743b7-5879-4990-9a4d-d9e1639155e6",
   "metadata": {},
   "outputs": [],
   "source": [
    "studNamesList.append(newStuds)"
   ]
  },
  {
   "cell_type": "code",
   "execution_count": null,
   "id": "9592616d-a911-42a7-b284-e3bf83cdf468",
   "metadata": {},
   "outputs": [
    {
     "name": "stdout",
     "output_type": "stream",
     "text": [
      "['Blessing', 'Mogekwu', 'Kenile', 'Michael', 'Ejike', ['Agatha', 'Jeremy', 'David']]\n"
     ]
    }
   ],
   "source": [
    "print(studNamesList)"
   ]
  },
  {
   "cell_type": "code",
   "execution_count": null,
   "id": "9c9adae6-f3b4-4bdb-8954-444ae78f34ea",
   "metadata": {},
   "outputs": [],
   "source": [
    "# The right method to use when combining two lists into one is the .extend() method"
   ]
  },
  {
   "cell_type": "code",
   "execution_count": null,
   "id": "6bed2291-7910-4234-b1c4-089e910dd5bb",
   "metadata": {},
   "outputs": [
    {
     "name": "stdout",
     "output_type": "stream",
     "text": [
      "['Blessing', 'Mogekwu', 'Kenile', 'Michael', 'Ejike', 'Agatha', 'Jeremy', 'David']\n",
      "[25, 34, 21, 33, 31, 20, 18, 24]\n"
     ]
    }
   ],
   "source": [
    "studNamesList = ['Blessing', 'Mogekwu', 'Kenile', 'Michael', 'Ejike']\n",
    "studAgesList = [25, 34, 21, 33, 31]\n",
    "\n",
    "newStuds = ['Agatha', 'Jeremy', 'David']\n",
    "newStudAges = [20, 18, 24]\n",
    "\n",
    "studNamesList.extend(newStuds)\n",
    "print(studNamesList)\n",
    "\n",
    "studAgesList.extend(newStudAges)\n",
    "print(studAgesList)"
   ]
  },
  {
   "cell_type": "code",
   "execution_count": null,
   "id": "39ef538c-7e70-49da-8551-6ef8f01aea71",
   "metadata": {},
   "outputs": [],
   "source": [
    "# Removing an item from a List \n",
    "\n",
    ".pop()\n",
    ".remove()"
   ]
  },
  {
   "cell_type": "code",
   "execution_count": null,
   "id": "3cd45818-bf66-47c5-aabb-0bdd44658b75",
   "metadata": {},
   "outputs": [
    {
     "data": {
      "text/plain": [
       "['Agatha', 'Jeremy', 'David']"
      ]
     },
     "execution_count": 39,
     "metadata": {},
     "output_type": "execute_result"
    }
   ],
   "source": [
    "studNamesList.pop()"
   ]
  },
  {
   "cell_type": "code",
   "execution_count": null,
   "id": "e8a701f2-c20c-4b90-ac7e-e3a890286dd6",
   "metadata": {},
   "outputs": [
    {
     "data": {
      "text/plain": [
       "['Blessing', 'Mogekwu', 'Kenile', 'Michael', 'Ejike']"
      ]
     },
     "execution_count": 40,
     "metadata": {},
     "output_type": "execute_result"
    }
   ],
   "source": [
    "studNamesList"
   ]
  },
  {
   "cell_type": "code",
   "execution_count": null,
   "id": "84e5fd1a-ba0f-46b6-8b9e-47e636a9f067",
   "metadata": {},
   "outputs": [],
   "source": [
    "studNamesList.remove('Ejike')"
   ]
  },
  {
   "cell_type": "code",
   "execution_count": null,
   "id": "b2730cd7-c505-4564-9b6e-b085d5bca77e",
   "metadata": {},
   "outputs": [
    {
     "data": {
      "text/plain": [
       "['Blessing', 'Mogekwu', 'Kenile', 'Michael']"
      ]
     },
     "execution_count": 42,
     "metadata": {},
     "output_type": "execute_result"
    }
   ],
   "source": [
    "studNamesList"
   ]
  },
  {
   "cell_type": "code",
   "execution_count": null,
   "id": "5d06f81e-dc02-4e4f-90fe-6be5f5bbee2e",
   "metadata": {},
   "outputs": [
    {
     "ename": "NameError",
     "evalue": "name 'studNamesList' is not defined",
     "output_type": "error",
     "traceback": [
      "\u001b[1;31m---------------------------------------------------------------------------\u001b[0m",
      "\u001b[1;31mNameError\u001b[0m                                 Traceback (most recent call last)",
      "\u001b[1;32m~\\AppData\\Local\\Temp\\ipykernel_11324\\564290463.py\u001b[0m in \u001b[0;36m<module>\u001b[1;34m\u001b[0m\n\u001b[1;32m----> 1\u001b[1;33m \u001b[0mstudNamesList\u001b[0m\u001b[1;33m\u001b[0m\u001b[1;33m\u001b[0m\u001b[0m\n\u001b[0m",
      "\u001b[1;31mNameError\u001b[0m: name 'studNamesList' is not defined"
     ]
    }
   ],
   "source": [
    "studNamesList"
   ]
  },
  {
   "cell_type": "code",
   "execution_count": null,
   "id": "9e0f0d99-ebc6-4678-b4a4-c9954e2748d0",
   "metadata": {},
   "outputs": [
    {
     "data": {
      "text/plain": [
       "['Blessing',\n",
       " 'Mogekwu',\n",
       " 'Kenile',\n",
       " 'Michael',\n",
       " 'Ejike',\n",
       " 'Agatha',\n",
       " 'Jeremy',\n",
       " 'David']"
      ]
     },
     "execution_count": 179,
     "metadata": {},
     "output_type": "execute_result"
    }
   ],
   "source": [
    "studNamesList"
   ]
  },
  {
   "cell_type": "code",
   "execution_count": null,
   "id": "0ba9de33-bac4-4e90-aa0d-fdaa7d73dce0",
   "metadata": {},
   "outputs": [
    {
     "name": "stdout",
     "output_type": "stream",
     "text": [
      "150\n"
     ]
    }
   ],
   "source": [
    "x = 50\n",
    "y = 100\n",
    "\n",
    "z = x + y\n",
    "\n",
    "print(z)\n",
    "\n"
   ]
  },
  {
   "cell_type": "code",
   "execution_count": null,
   "id": "5d4fdd27-ab52-46cd-af73-2c25b467d7d0",
   "metadata": {},
   "outputs": [
    {
     "name": "stdout",
     "output_type": "stream",
     "text": [
      "Total number of complaining customers is; {lent}\n",
      "assigning customer, David to complaints processing\n",
      "David successfully removed from complaints list\n",
      "remaining customers in the complaints list is:\n",
      "['Blessing', 'Mogekwu', 'Kenile', 'Michael', 'Ejike', 'Agatha', 'Jeremy']\n",
      "Total number of complaining customers is; {lent}\n",
      "assigning customer, Jeremy to complaints processing\n",
      "Jeremy successfully removed from complaints list\n",
      "remaining customers in the complaints list is:\n",
      "['Blessing', 'Mogekwu', 'Kenile', 'Michael', 'Ejike', 'Agatha']\n",
      "Total number of complaining customers is; {lent}\n",
      "assigning customer, Agatha to complaints processing\n",
      "Agatha successfully removed from complaints list\n",
      "remaining customers in the complaints list is:\n",
      "['Blessing', 'Mogekwu', 'Kenile', 'Michael', 'Ejike']\n",
      "Total number of complaining customers is; {lent}\n",
      "assigning customer, Ejike to complaints processing\n",
      "Ejike successfully removed from complaints list\n",
      "remaining customers in the complaints list is:\n",
      "['Blessing', 'Mogekwu', 'Kenile', 'Michael']\n",
      "Total number of complaining customers is; {lent}\n",
      "assigning customer, Michael to complaints processing\n",
      "Michael successfully removed from complaints list\n",
      "remaining customers in the complaints list is:\n",
      "['Blessing', 'Mogekwu', 'Kenile']\n",
      "Total number of complaining customers is; {lent}\n",
      "assigning customer, Kenile to complaints processing\n",
      "Kenile successfully removed from complaints list\n",
      "remaining customers in the complaints list is:\n",
      "['Blessing', 'Mogekwu']\n",
      "Total number of complaining customers is; {lent}\n",
      "assigning customer, Mogekwu to complaints processing\n",
      "Mogekwu successfully removed from complaints list\n",
      "remaining customers in the complaints list is:\n",
      "['Blessing']\n",
      "Total number of complaining customers is; {lent}\n",
      "assigning customer, Blessing to complaints processing\n",
      "Blessing successfully removed from complaints list\n",
      "remaining customers in the complaints list is:\n",
      "[]\n",
      "Total number of complaining customers is; {lent}\n"
     ]
    },
    {
     "ename": "IndexError",
     "evalue": "pop from empty list",
     "output_type": "error",
     "traceback": [
      "\u001b[1;31m---------------------------------------------------------------------------\u001b[0m",
      "\u001b[1;31mIndexError\u001b[0m                                Traceback (most recent call last)",
      "\u001b[1;32m~\\AppData\\Local\\Temp\\ipykernel_11324\\1304173656.py\u001b[0m in \u001b[0;36m<module>\u001b[1;34m\u001b[0m\n\u001b[0;32m      2\u001b[0m \u001b[1;32mwhile\u001b[0m \u001b[0mlent\u001b[0m \u001b[1;33m>=\u001b[0m \u001b[1;36m0\u001b[0m\u001b[1;33m:\u001b[0m\u001b[1;33m\u001b[0m\u001b[1;33m\u001b[0m\u001b[0m\n\u001b[0;32m      3\u001b[0m     \u001b[0mprint\u001b[0m\u001b[1;33m(\u001b[0m\u001b[1;34m'Total number of complaining customers is; {lent}'\u001b[0m\u001b[1;33m)\u001b[0m\u001b[1;33m\u001b[0m\u001b[1;33m\u001b[0m\u001b[0m\n\u001b[1;32m----> 4\u001b[1;33m     \u001b[0mstudent\u001b[0m\u001b[1;33m=\u001b[0m \u001b[0mstudNamesList\u001b[0m\u001b[1;33m.\u001b[0m\u001b[0mpop\u001b[0m\u001b[1;33m(\u001b[0m\u001b[1;33m)\u001b[0m\u001b[1;33m\u001b[0m\u001b[1;33m\u001b[0m\u001b[0m\n\u001b[0m\u001b[0;32m      5\u001b[0m     \u001b[0mprint\u001b[0m\u001b[1;33m(\u001b[0m\u001b[1;34mf'assigning customer, {student} to complaints processing'\u001b[0m\u001b[1;33m)\u001b[0m\u001b[1;33m\u001b[0m\u001b[1;33m\u001b[0m\u001b[0m\n\u001b[0;32m      6\u001b[0m     \u001b[0mprint\u001b[0m\u001b[1;33m(\u001b[0m\u001b[1;34mf'{student} successfully removed from complaints list'\u001b[0m\u001b[1;33m)\u001b[0m\u001b[1;33m\u001b[0m\u001b[1;33m\u001b[0m\u001b[0m\n",
      "\u001b[1;31mIndexError\u001b[0m: pop from empty list"
     ]
    }
   ],
   "source": [
    "lent = len(studNamesList)\n",
    "while lent >= 0:\n",
    "    print('Total number of complaining customers is; {lent}')\n",
    "    student= studNamesList.pop()\n",
    "    print(f'assigning customer, {student} to complaints processing')\n",
    "    print(f'{student} successfully removed from complaints list')\n",
    "    print('remaining customers in the complaints list is:')\n",
    "    print(studNamesList)\n"
   ]
  },
  {
   "cell_type": "code",
   "execution_count": null,
   "id": "b70c3399-f819-49a9-a180-e6e37f4ecf6a",
   "metadata": {},
   "outputs": [],
   "source": []
  },
  {
   "cell_type": "code",
   "execution_count": null,
   "id": "108c2f1e-c0d8-42fc-854a-aea1f91fd89c",
   "metadata": {},
   "outputs": [],
   "source": [
    "names = ['Blessing', 'Mogekwu', 'Kenile', 'Michael', 'Ejike']"
   ]
  },
  {
   "cell_type": "code",
   "execution_count": null,
   "id": "dd4f9157-d83f-4eb1-9709-2395cd65a252",
   "metadata": {},
   "outputs": [
    {
     "data": {
      "text/plain": [
       "5"
      ]
     },
     "execution_count": 194,
     "metadata": {},
     "output_type": "execute_result"
    }
   ],
   "source": [
    "len(names)"
   ]
  },
  {
   "cell_type": "code",
   "execution_count": null,
   "id": "3429e936-d09b-4b89-9c6f-9a019fbbe2a1",
   "metadata": {},
   "outputs": [],
   "source": [
    "# You are required to insert Chinenye in index position 1  \n",
    "\n",
    "# Use .insert(a, b)\n",
    "\n"
   ]
  },
  {
   "cell_type": "code",
   "execution_count": null,
   "id": "ef970687-fedf-47a6-a60a-483fd60585a4",
   "metadata": {},
   "outputs": [],
   "source": [
    "names.insert(1, 'Chinenye')"
   ]
  },
  {
   "cell_type": "code",
   "execution_count": null,
   "id": "a06ee537-8ac8-4994-8b46-6f43cd4e0200",
   "metadata": {},
   "outputs": [
    {
     "data": {
      "text/plain": [
       "['Blessing', 'Chinenye', 'Mogekwu', 'Kenile', 'Michael', 'Ejike']"
      ]
     },
     "execution_count": 196,
     "metadata": {},
     "output_type": "execute_result"
    }
   ],
   "source": [
    "names"
   ]
  },
  {
   "cell_type": "code",
   "execution_count": null,
   "id": "44efeb50-cabf-4cd7-9f34-069b33952762",
   "metadata": {},
   "outputs": [
    {
     "data": {
      "text/plain": [
       "['Blessing',\n",
       " 'Chinenye',\n",
       " 'Mogekwu',\n",
       " 'Kenile',\n",
       " 'Michael',\n",
       " 'Ejike',\n",
       " 'Agatha',\n",
       " 'Jeremy',\n",
       " 'David']"
      ]
     },
     "execution_count": 197,
     "metadata": {},
     "output_type": "execute_result"
    }
   ],
   "source": [
    "names + newStuds"
   ]
  },
  {
   "cell_type": "code",
   "execution_count": null,
   "id": "75aa7563-2b1a-4cf7-97f8-670fe9e9e1b4",
   "metadata": {},
   "outputs": [
    {
     "data": {
      "text/plain": [
       "[]"
      ]
     },
     "execution_count": 200,
     "metadata": {},
     "output_type": "execute_result"
    }
   ],
   "source": [
    "# To declare an empty list\n",
    "myList = []\n",
    "\n",
    "myList"
   ]
  },
  {
   "cell_type": "code",
   "execution_count": null,
   "id": "9da4eb7f-e96f-40b8-a15f-197735d6295a",
   "metadata": {},
   "outputs": [
    {
     "data": {
      "text/plain": [
       "[1, 2, 3]"
      ]
     },
     "execution_count": 201,
     "metadata": {},
     "output_type": "execute_result"
    }
   ],
   "source": [
    "myList.append(1)\n",
    "myList.append(2)\n",
    "myList.append(3)\n",
    "\n",
    "myList"
   ]
  },
  {
   "cell_type": "code",
   "execution_count": null,
   "id": "09469f6e-1d0d-49c8-8bc1-b337e89e05d6",
   "metadata": {},
   "outputs": [
    {
     "data": {
      "text/plain": [
       "set()"
      ]
     },
     "execution_count": 203,
     "metadata": {},
     "output_type": "execute_result"
    }
   ],
   "source": [
    "# SETS\n",
    "\n",
    "# Sets are python containers that hold items in an unordered format\n",
    "# Sets do not allow for dupicate occurrences if any item in the container\n",
    "\n",
    "# To create an empty sets use the following \n",
    "\n",
    "mySet = set()\n",
    "type(mySet)\n"
   ]
  },
  {
   "cell_type": "code",
   "execution_count": null,
   "id": "827c713f",
   "metadata": {},
   "outputs": [
    {
     "data": {
      "text/plain": [
       "set()"
      ]
     },
     "execution_count": 204,
     "metadata": {},
     "output_type": "execute_result"
    }
   ],
   "source": [
    "mySet"
   ]
  },
  {
   "cell_type": "code",
   "execution_count": null,
   "id": "e7dc7bb6",
   "metadata": {},
   "outputs": [],
   "source": [
    "studsSet1 = ('Blessing', 'Chinenye', 'Mogekwu', 'Kenile', 'Michael', 'Ejike')\n",
    "\n",
    "studsSet2 =  ('Blessing', 'James', 'Mogekwu', 'Kenneth', 'Michael', 'Ejike')\n"
   ]
  },
  {
   "cell_type": "code",
   "execution_count": null,
   "id": "e518d28f",
   "metadata": {},
   "outputs": [],
   "source": [
    "testList = ['Blessing', 'Chinenye', 'Mogekwu', 'Kenile', 'Michael', 'Ejike', 'Blessing', 'James', 'Mogekwu', 'Kenneth', 'Michael', 'Ejike' ]"
   ]
  },
  {
   "cell_type": "code",
   "execution_count": null,
   "id": "461b7774",
   "metadata": {},
   "outputs": [
    {
     "data": {
      "text/plain": [
       "['Blessing',\n",
       " 'Chinenye',\n",
       " 'Mogekwu',\n",
       " 'Kenile',\n",
       " 'Michael',\n",
       " 'Ejike',\n",
       " 'Blessing',\n",
       " 'James',\n",
       " 'Mogekwu',\n",
       " 'Kenneth',\n",
       " 'Michael',\n",
       " 'Ejike']"
      ]
     },
     "execution_count": 206,
     "metadata": {},
     "output_type": "execute_result"
    }
   ],
   "source": [
    "testList"
   ]
  },
  {
   "cell_type": "code",
   "execution_count": null,
   "id": "974a27f7",
   "metadata": {},
   "outputs": [
    {
     "data": {
      "text/plain": [
       "{'Blessing',\n",
       " 'Chinenye',\n",
       " 'Ejike',\n",
       " 'James',\n",
       " 'Kenile',\n",
       " 'Kenneth',\n",
       " 'Michael',\n",
       " 'Mogekwu'}"
      ]
     },
     "execution_count": 207,
     "metadata": {},
     "output_type": "execute_result"
    }
   ],
   "source": [
    "set(testList)"
   ]
  },
  {
   "cell_type": "code",
   "execution_count": null,
   "id": "18758d5c",
   "metadata": {},
   "outputs": [],
   "source": [
    "namesSet = set(testList)"
   ]
  },
  {
   "cell_type": "code",
   "execution_count": null,
   "id": "b7e2094e",
   "metadata": {},
   "outputs": [
    {
     "data": {
      "text/plain": [
       "{'Blessing',\n",
       " 'Chinenye',\n",
       " 'Ejike',\n",
       " 'James',\n",
       " 'Kenile',\n",
       " 'Kenneth',\n",
       " 'Michael',\n",
       " 'Mogekwu'}"
      ]
     },
     "execution_count": 209,
     "metadata": {},
     "output_type": "execute_result"
    }
   ],
   "source": [
    "namesSet"
   ]
  },
  {
   "cell_type": "code",
   "execution_count": null,
   "id": "423a72ed",
   "metadata": {},
   "outputs": [
    {
     "ename": "TypeError",
     "evalue": "'set' object is not subscriptable",
     "output_type": "error",
     "traceback": [
      "\u001b[1;31m---------------------------------------------------------------------------\u001b[0m",
      "\u001b[1;31mTypeError\u001b[0m                                 Traceback (most recent call last)",
      "\u001b[1;32m~\\AppData\\Local\\Temp\\ipykernel_11324\\408735796.py\u001b[0m in \u001b[0;36m<module>\u001b[1;34m\u001b[0m\n\u001b[1;32m----> 1\u001b[1;33m \u001b[0mnamesSet\u001b[0m\u001b[1;33m[\u001b[0m\u001b[1;36m0\u001b[0m\u001b[1;33m]\u001b[0m\u001b[1;33m\u001b[0m\u001b[1;33m\u001b[0m\u001b[0m\n\u001b[0m",
      "\u001b[1;31mTypeError\u001b[0m: 'set' object is not subscriptable"
     ]
    }
   ],
   "source": [
    "namesSet[0]"
   ]
  },
  {
   "cell_type": "code",
   "execution_count": null,
   "id": "c6a4d4ca",
   "metadata": {},
   "outputs": [
    {
     "data": {
      "text/plain": [
       "{'Blessing', 'Ejike', 'Michael', 'Mogekwu'}"
      ]
     },
     "execution_count": 213,
     "metadata": {},
     "output_type": "execute_result"
    }
   ],
   "source": [
    "studsSet1 = set(['Blessing', 'Chinenye', 'Mogekwu', 'Kenile', 'Michael', 'Ejike'])\n",
    "\n",
    "studsSet2 =  set(['Blessing', 'James', 'Mogekwu', 'Kenneth', 'Michael', 'Ejike'])\n",
    "\n",
    "studsSet1.intersection(studsSet2)"
   ]
  },
  {
   "cell_type": "code",
   "execution_count": null,
   "id": "b09779e3",
   "metadata": {},
   "outputs": [
    {
     "data": {
      "text/plain": [
       "{'Chinenye', 'Kenile'}"
      ]
     },
     "execution_count": 214,
     "metadata": {},
     "output_type": "execute_result"
    }
   ],
   "source": [
    "studsSet1.difference(studsSet2)"
   ]
  },
  {
   "cell_type": "code",
   "execution_count": null,
   "id": "3fded4e4",
   "metadata": {},
   "outputs": [
    {
     "data": {
      "text/plain": [
       "{'James', 'Kenneth'}"
      ]
     },
     "execution_count": 215,
     "metadata": {},
     "output_type": "execute_result"
    }
   ],
   "source": [
    "studsSet2.difference(studsSet1)"
   ]
  },
  {
   "cell_type": "code",
   "execution_count": null,
   "id": "e0cb7bb0",
   "metadata": {},
   "outputs": [],
   "source": [
    "Scenario1:\n",
    "We have 5 students named Blessing, Mogekwu, Kenile, Michael and Ejike\n",
    "Their Ages; 25, 34, 21, 33, 31\n",
    "\n"
   ]
  },
  {
   "cell_type": "code",
   "execution_count": null,
   "id": "5bcb4c0f",
   "metadata": {},
   "outputs": [],
   "source": [
    "# Implementing a Python Sets\n",
    "studNamesSet = set(['Blessing', 'Mogekwu', 'Kenile', 'Michael', 'Ejike'])\n",
    "studAgesSet = set([25, 34, 21, 33, 31])"
   ]
  },
  {
   "cell_type": "code",
   "execution_count": null,
   "id": "d655ff0f",
   "metadata": {},
   "outputs": [
    {
     "name": "stdout",
     "output_type": "stream",
     "text": [
      "Kenile\n",
      "Ejike\n",
      "Mogekwu\n",
      "Blessing\n",
      "Michael\n"
     ]
    }
   ],
   "source": [
    "for names in studNamesSet:\n",
    "    print(names)"
   ]
  },
  {
   "cell_type": "code",
   "execution_count": null,
   "id": "25ef6878",
   "metadata": {},
   "outputs": [],
   "source": []
  },
  {
   "cell_type": "code",
   "execution_count": null,
   "id": "6fd0c0d8",
   "metadata": {},
   "outputs": [],
   "source": [
    "# Dictionaries \n",
    "\n",
    "# Dictionaries enables us store items in pairs as KEY: VALUE each pair separated by a Comma\n",
    "# Keys in a dictionary MUST be unique and immutable\n",
    "# Keys must not be duplicated\n",
    "# Values can be identical, not a problem\n",
    "SYNTAX:\n",
    "    DictName = {KEY1:VALUE1, KEY2:VALUE2, KEY3:VALUE3, ...... KEYn:VALUEn,}"
   ]
  },
  {
   "cell_type": "code",
   "execution_count": null,
   "id": "4926c9e9",
   "metadata": {},
   "outputs": [],
   "source": [
    "studentsScoreDict = {'Blessing':75, 'James':81, 'Mogekwu':77, 'Kenneth':79, 'Michael':83, 'Ejike':89}"
   ]
  },
  {
   "cell_type": "code",
   "execution_count": null,
   "id": "453c768f",
   "metadata": {},
   "outputs": [],
   "source": [
    "# How to get items from a dictionary"
   ]
  },
  {
   "cell_type": "code",
   "execution_count": null,
   "id": "062ec6c7",
   "metadata": {},
   "outputs": [
    {
     "data": {
      "text/plain": [
       "dict_keys(['Blessing', 'James', 'Mogekwu', 'Kenneth', 'Michael', 'Ejike'])"
      ]
     },
     "execution_count": 220,
     "metadata": {},
     "output_type": "execute_result"
    }
   ],
   "source": [
    "# Fetching all the keys in the dictionary\n",
    "\n",
    "studentsScoreDict.keys()"
   ]
  },
  {
   "cell_type": "code",
   "execution_count": null,
   "id": "5bcaafbb",
   "metadata": {},
   "outputs": [
    {
     "data": {
      "text/plain": [
       "dict_values([75, 81, 77, 79, 83, 89])"
      ]
     },
     "execution_count": 221,
     "metadata": {},
     "output_type": "execute_result"
    }
   ],
   "source": [
    "# Fetching all the values in the dictionary\n",
    "\n",
    "studentsScoreDict.values()"
   ]
  },
  {
   "cell_type": "code",
   "execution_count": null,
   "id": "69354e8d",
   "metadata": {},
   "outputs": [
    {
     "data": {
      "text/plain": [
       "81"
      ]
     },
     "execution_count": 224,
     "metadata": {},
     "output_type": "execute_result"
    }
   ],
   "source": [
    "# To fetch the values of a known key from a dictionary:\n",
    "studentsScoreDict['James']"
   ]
  },
  {
   "cell_type": "code",
   "execution_count": null,
   "id": "435fb680",
   "metadata": {},
   "outputs": [],
   "source": [
    "studNamesList = ['Blessing', 'Mogekwu', 'Kenile', 'Michael', 'Ejike']\n",
    "studAgesList = [25, 34, 21, 33, 31]\n",
    "\n",
    "studrecDict = dict(zip(studNamesList, studAgesList))\n"
   ]
  },
  {
   "cell_type": "code",
   "execution_count": null,
   "id": "9667bf1e",
   "metadata": {},
   "outputs": [
    {
     "data": {
      "text/plain": [
       "{'Blessing': 25, 'Mogekwu': 34, 'Kenile': 21, 'Michael': 33, 'Ejike': 31}"
      ]
     },
     "execution_count": 226,
     "metadata": {},
     "output_type": "execute_result"
    }
   ],
   "source": [
    "studrecDict"
   ]
  },
  {
   "cell_type": "code",
   "execution_count": null,
   "id": "9af35aa5",
   "metadata": {},
   "outputs": [
    {
     "name": "stdout",
     "output_type": "stream",
     "text": [
      "Blessing 25\n",
      "Mogekwu 34\n",
      "Kenile 21\n",
      "Michael 33\n",
      "Ejike 31\n"
     ]
    }
   ],
   "source": [
    "for KEY, VALUE in studrecDict.items():\n",
    "    print(KEY, VALUE)"
   ]
  },
  {
   "cell_type": "code",
   "execution_count": null,
   "id": "dd59453a",
   "metadata": {},
   "outputs": [],
   "source": [
    "examRecDict = {'Biology':{'Blessing': 67, 'Mogekwu': 74, 'Kenile': 88,}, \n",
    "               'Physics':{'Blessing': 89, 'Mogekwu': 90, 'Kenile': 70,},\n",
    "                'Math':{'Blessing': 78, 'Mogekwu': 79, 'Kenile': 84,}}"
   ]
  },
  {
   "cell_type": "code",
   "execution_count": null,
   "id": "c2b92f03",
   "metadata": {},
   "outputs": [
    {
     "data": {
      "text/plain": [
       "dict_keys(['Biology', 'Physics', 'Math'])"
      ]
     },
     "execution_count": 234,
     "metadata": {},
     "output_type": "execute_result"
    }
   ],
   "source": [
    "examRecDict.keys()"
   ]
  },
  {
   "cell_type": "code",
   "execution_count": null,
   "id": "f56ed7e4",
   "metadata": {},
   "outputs": [
    {
     "data": {
      "text/plain": [
       "dict_values([{'Blessing': 67, 'Mogekwu': 74, 'Kenile': 88}, {'Blessing': 89, 'Mogekwu': 90, 'Kenile': 70}, {'Blessing': 78, 'Mogekwu': 79, 'Kenile': 84}])"
      ]
     },
     "execution_count": 235,
     "metadata": {},
     "output_type": "execute_result"
    }
   ],
   "source": [
    "examRecDict.values()"
   ]
  },
  {
   "cell_type": "code",
   "execution_count": null,
   "id": "f8cd92c6",
   "metadata": {},
   "outputs": [
    {
     "name": "stdout",
     "output_type": "stream",
     "text": [
      "Biology {'Blessing': 67, 'Mogekwu': 74, 'Kenile': 88}\n",
      "Blessing 67\n",
      "Mogekwu 74\n",
      "Kenile 88\n",
      "Physics {'Blessing': 89, 'Mogekwu': 90, 'Kenile': 70}\n",
      "Blessing 89\n",
      "Mogekwu 90\n",
      "Kenile 70\n",
      "Math {'Blessing': 78, 'Mogekwu': 79, 'Kenile': 84}\n",
      "Blessing 78\n",
      "Mogekwu 79\n",
      "Kenile 84\n"
     ]
    }
   ],
   "source": [
    "# Extracting all the Student score by Subject\n",
    "studRec = []\n",
    "for subject, scoreDict in examRecDict.items(): # unpacks the subjects\n",
    "    print(subject, scoreDict)\n",
    "    for student, score in scoreDict.items():\n",
    "        print(student, score)\n",
    "        studRec.append([subject, student, score])"
   ]
  },
  {
   "cell_type": "code",
   "execution_count": null,
   "id": "f201576d",
   "metadata": {},
   "outputs": [
    {
     "data": {
      "text/plain": [
       "[['Biology', 'Blessing', 67],\n",
       " ['Biology', 'Mogekwu', 74],\n",
       " ['Biology', 'Kenile', 88],\n",
       " ['Physics', 'Blessing', 89],\n",
       " ['Physics', 'Mogekwu', 90],\n",
       " ['Physics', 'Kenile', 70],\n",
       " ['Math', 'Blessing', 78],\n",
       " ['Math', 'Mogekwu', 79],\n",
       " ['Math', 'Kenile', 84]]"
      ]
     },
     "execution_count": 239,
     "metadata": {},
     "output_type": "execute_result"
    }
   ],
   "source": [
    "studRec"
   ]
  },
  {
   "cell_type": "code",
   "execution_count": null,
   "id": "c3cf8783",
   "metadata": {},
   "outputs": [
    {
     "name": "stdout",
     "output_type": "stream",
     "text": [
      "Requirement already satisfied: pandas in c:\\users\\larry\\anaconda3\\lib\\site-packages (1.4.4)\n",
      "Requirement already satisfied: pytz>=2020.1 in c:\\users\\larry\\anaconda3\\lib\\site-packages (from pandas) (2022.1)\n",
      "Requirement already satisfied: numpy>=1.18.5 in c:\\users\\larry\\anaconda3\\lib\\site-packages (from pandas) (1.21.5)\n",
      "Requirement already satisfied: python-dateutil>=2.8.1 in c:\\users\\larry\\anaconda3\\lib\\site-packages (from pandas) (2.8.2)\n",
      "Requirement already satisfied: six>=1.5 in c:\\users\\larry\\anaconda3\\lib\\site-packages (from python-dateutil>=2.8.1->pandas) (1.16.0)\n",
      "Note: you may need to restart the kernel to use updated packages.\n"
     ]
    },
    {
     "name": "stderr",
     "output_type": "stream",
     "text": [
      "WARNING: There was an error checking the latest version of pip.\n"
     ]
    }
   ],
   "source": [
    "pip install pandas\n"
   ]
  },
  {
   "cell_type": "code",
   "execution_count": null,
   "id": "9ada2987",
   "metadata": {},
   "outputs": [
    {
     "ename": "AttributeError",
     "evalue": "module 'pandas' has no attribute 'Dataframe'",
     "output_type": "error",
     "traceback": [
      "\u001b[1;31m---------------------------------------------------------------------------\u001b[0m",
      "\u001b[1;31mAttributeError\u001b[0m                            Traceback (most recent call last)",
      "\u001b[1;32m~\\AppData\\Local\\Temp\\ipykernel_11324\\3925086843.py\u001b[0m in \u001b[0;36m<module>\u001b[1;34m\u001b[0m\n\u001b[0;32m      1\u001b[0m \u001b[1;32mimport\u001b[0m \u001b[0mpandas\u001b[0m \u001b[1;32mas\u001b[0m \u001b[0mpd\u001b[0m\u001b[1;33m\u001b[0m\u001b[1;33m\u001b[0m\u001b[0m\n\u001b[1;32m----> 2\u001b[1;33m \u001b[0mpd\u001b[0m\u001b[1;33m.\u001b[0m\u001b[0mDataframe\u001b[0m\u001b[1;33m(\u001b[0m\u001b[0mstudRec\u001b[0m\u001b[1;33m,\u001b[0m \u001b[0mcolumns\u001b[0m\u001b[1;33m=\u001b[0m\u001b[1;33m[\u001b[0m\u001b[1;34m'subject'\u001b[0m\u001b[1;33m,\u001b[0m\u001b[1;34m'name'\u001b[0m\u001b[1;33m,\u001b[0m\u001b[1;34m'score'\u001b[0m\u001b[1;33m]\u001b[0m\u001b[1;33m)\u001b[0m\u001b[1;33m\u001b[0m\u001b[1;33m\u001b[0m\u001b[0m\n\u001b[0m",
      "\u001b[1;32m~\\anaconda3\\lib\\site-packages\\pandas\\__init__.py\u001b[0m in \u001b[0;36m__getattr__\u001b[1;34m(name)\u001b[0m\n\u001b[0;32m    259\u001b[0m         \u001b[1;32mreturn\u001b[0m \u001b[0m_SparseArray\u001b[0m\u001b[1;33m\u001b[0m\u001b[1;33m\u001b[0m\u001b[0m\n\u001b[0;32m    260\u001b[0m \u001b[1;33m\u001b[0m\u001b[0m\n\u001b[1;32m--> 261\u001b[1;33m     \u001b[1;32mraise\u001b[0m \u001b[0mAttributeError\u001b[0m\u001b[1;33m(\u001b[0m\u001b[1;34mf\"module 'pandas' has no attribute '{name}'\"\u001b[0m\u001b[1;33m)\u001b[0m\u001b[1;33m\u001b[0m\u001b[1;33m\u001b[0m\u001b[0m\n\u001b[0m\u001b[0;32m    262\u001b[0m \u001b[1;33m\u001b[0m\u001b[0m\n\u001b[0;32m    263\u001b[0m \u001b[1;33m\u001b[0m\u001b[0m\n",
      "\u001b[1;31mAttributeError\u001b[0m: module 'pandas' has no attribute 'Dataframe'"
     ]
    }
   ],
   "source": [
    "import pandas as pd\n",
    "pd.Dataframe(studRec, columns=['subject','name','score'])"
   ]
  },
  {
   "cell_type": "code",
   "execution_count": null,
   "id": "6ddfb6b2",
   "metadata": {},
   "outputs": [
    {
     "data": {
      "text/plain": [
       "set"
      ]
     },
     "execution_count": 247,
     "metadata": {},
     "output_type": "execute_result"
    }
   ],
   "source": [
    "myset1 = set()\n",
    "type(myset1)"
   ]
  },
  {
   "cell_type": "code",
   "execution_count": null,
   "id": "3ee625fb",
   "metadata": {},
   "outputs": [
    {
     "data": {
      "text/plain": [
       "{5, 6, 7}"
      ]
     },
     "execution_count": 249,
     "metadata": {},
     "output_type": "execute_result"
    }
   ],
   "source": [
    "myset1.add(5)\n",
    "myset1.add(6)\n",
    "myset1.add(7)\n",
    "myset1"
   ]
  },
  {
   "cell_type": "code",
   "execution_count": null,
   "id": "f5da08f5",
   "metadata": {},
   "outputs": [
    {
     "data": {
      "text/plain": [
       "{}"
      ]
     },
     "execution_count": 251,
     "metadata": {},
     "output_type": "execute_result"
    }
   ],
   "source": [
    "mydict = dict()\n",
    "mydict"
   ]
  },
  {
   "cell_type": "code",
   "execution_count": null,
   "id": "972f06d4",
   "metadata": {},
   "outputs": [
    {
     "data": {
      "text/plain": [
       "set()"
      ]
     },
     "execution_count": 252,
     "metadata": {},
     "output_type": "execute_result"
    }
   ],
   "source": [
    "myset2 = set()\n",
    "myset2"
   ]
  },
  {
   "cell_type": "code",
   "execution_count": null,
   "id": "fd260912",
   "metadata": {},
   "outputs": [
    {
     "data": {
      "text/plain": [
       "{10, 12, 17}"
      ]
     },
     "execution_count": 253,
     "metadata": {},
     "output_type": "execute_result"
    }
   ],
   "source": [
    "myset2.add(10)\n",
    "myset2.add(12)\n",
    "myset2.add(17)\n",
    "myset2"
   ]
  },
  {
   "cell_type": "code",
   "execution_count": null,
   "id": "293a2999",
   "metadata": {},
   "outputs": [],
   "source": []
  },
  {
   "cell_type": "code",
   "execution_count": null,
   "id": "b6f72819",
   "metadata": {},
   "outputs": [
    {
     "data": {
      "text/plain": [
       "2"
      ]
     },
     "execution_count": 262,
     "metadata": {},
     "output_type": "execute_result"
    }
   ],
   "source": [
    "# .index() # Locates the index position of the given item in a List.\n",
    "\n",
    "list10 = ['Blessing', 'Mogekwu', 'Kenile', 'Michael',]\n",
    "\n",
    "list10.index('Kenile')\n"
   ]
  },
  {
   "cell_type": "code",
   "execution_count": null,
   "id": "14b024d8",
   "metadata": {},
   "outputs": [
    {
     "name": "stdout",
     "output_type": "stream",
     "text": [
      "Age1 40\n",
      "Age2 30\n",
      "Age3 35\n"
     ]
    }
   ],
   "source": [
    "# .items() # enables us simultameously fetch both the key and value\n",
    "mydict2 = {'Age1':40, 'Age2':30, 'Age3':35}\n",
    "mydict2.items()\n",
    "\n",
    "for age, value in mydict2.items():\n",
    "    print(age, value)"
   ]
  },
  {
   "cell_type": "code",
   "execution_count": null,
   "id": "ff3e6006",
   "metadata": {},
   "outputs": [
    {
     "name": "stdout",
     "output_type": "stream",
     "text": [
      "Kelvin 3734278\n",
      "Yetunde 8777895\n",
      "Vincent 973443\n",
      "Mary -8695\n",
      "Mary account is overdrawn\n"
     ]
    }
   ],
   "source": [
    "# .zip() # used to simultameously Loop through two or more containers\n",
    "\n",
    "custList = ['Kelvin', 'Yetunde', 'Vincent', 'Mary']\n",
    "acctBal = [3734278, 8777895, 973443, -8695]\n",
    "\n",
    "for customer, balance in zip(custList, acctBal):\n",
    "    print(customer, balance)\n",
    "\n",
    "    if balance <= 0:\n",
    "        print(f'{customer} account is overdrawn')"
   ]
  },
  {
   "cell_type": "code",
   "execution_count": null,
   "id": "293f339f",
   "metadata": {},
   "outputs": [],
   "source": []
  },
  {
   "cell_type": "code",
   "execution_count": null,
   "id": "0f45496b",
   "metadata": {},
   "outputs": [],
   "source": []
  },
  {
   "cell_type": "code",
   "execution_count": null,
   "id": "ab08fac3",
   "metadata": {},
   "outputs": [],
   "source": [
    "# Python Functions"
   ]
  },
  {
   "cell_type": "code",
   "execution_count": null,
   "id": "164e0577",
   "metadata": {},
   "outputs": [],
   "source": [
    "# Functions are a specialized block of code that do one thing and one thing only.\n",
    "\n",
    "# Functions can accept input parameters or can be created to not accept input.\n",
    "\n",
    "# Functions can return results of it's execution or not return anything.\n",
    "\n",
    "\n",
    "# SYNTAX\n",
    "'''\n",
    "def funcName():\n",
    "    body of function()\n",
    "    line2\n",
    "    line3\n",
    "    result = line3 + line4\n",
    "\n",
    "    return result'\n",
    "\n",
    "    '''\n",
    "\n"
   ]
  },
  {
   "cell_type": "code",
   "execution_count": null,
   "id": "ee928a14",
   "metadata": {},
   "outputs": [],
   "source": [
    "'''\n",
    "Scenario: Divine has three accounts in a Bank and the balances are 3456, 8675, 8986\n",
    "Divine wants a function that can automatically give him the total balances of his accounts.\n",
    "\n",
    "'''\n",
    "\n"
   ]
  },
  {
   "cell_type": "code",
   "execution_count": null,
   "id": "f533c95b",
   "metadata": {},
   "outputs": [],
   "source": [
    "# Implementing a function that accepts inputs and returns a result\n",
    "\n",
    "def acctBalAdder(balList):\n",
    "    acctItems = balList\n",
    "    acctSum = sum(acctItems)\n",
    "    \n",
    "    return acctSum\n"
   ]
  },
  {
   "cell_type": "code",
   "execution_count": null,
   "id": "7a0b1364",
   "metadata": {},
   "outputs": [],
   "source": [
    "myBals = [3456, 8675, 8986]\n",
    "# If a functions returns a value, we must create a new variable when calling it to hold the returned value \n",
    "acctTotal =  acctBalAdder(myBals)"
   ]
  },
  {
   "cell_type": "code",
   "execution_count": null,
   "id": "c14269c9",
   "metadata": {},
   "outputs": [
    {
     "data": {
      "text/plain": [
       "21117"
      ]
     },
     "execution_count": 271,
     "metadata": {},
     "output_type": "execute_result"
    }
   ],
   "source": [
    "acctTotal"
   ]
  },
  {
   "cell_type": "code",
   "execution_count": null,
   "id": "dd3b2aaf",
   "metadata": {},
   "outputs": [
    {
     "data": {
      "text/plain": [
       "21117"
      ]
     },
     "execution_count": 272,
     "metadata": {},
     "output_type": "execute_result"
    }
   ],
   "source": [
    "acctTotal1 = acctBalAdder([3456, 8675, 8986])\n",
    "acctTotal1"
   ]
  },
  {
   "cell_type": "code",
   "execution_count": null,
   "id": "69137e55",
   "metadata": {},
   "outputs": [],
   "source": [
    "def acctBalAdder1(balList):\n",
    "    acctItems = balList\n",
    "    acctSum = sum(acctItems)\n",
    "    \n",
    "    print(acctSum) \n",
    "\n",
    "    return acctSum"
   ]
  },
  {
   "cell_type": "code",
   "execution_count": null,
   "id": "ed642538",
   "metadata": {},
   "outputs": [
    {
     "name": "stdout",
     "output_type": "stream",
     "text": [
      "36\n"
     ]
    }
   ],
   "source": [
    "vals = [12, 6, 18]\n",
    "\n",
    "res = acctBalAdder1(vals)"
   ]
  },
  {
   "cell_type": "code",
   "execution_count": null,
   "id": "0bd5a860",
   "metadata": {},
   "outputs": [
    {
     "name": "stdout",
     "output_type": "stream",
     "text": [
      "36\n"
     ]
    }
   ],
   "source": [
    "print(res)"
   ]
  },
  {
   "cell_type": "code",
   "execution_count": null,
   "id": "1e0bc6b6",
   "metadata": {},
   "outputs": [],
   "source": [
    "# A function that does not accept input but returns a value\n",
    "\n",
    "def testFunc():\n",
    "    i = a**2\n",
    "    return i"
   ]
  },
  {
   "cell_type": "code",
   "execution_count": null,
   "id": "a4a2e53e",
   "metadata": {},
   "outputs": [
    {
     "data": {
      "text/plain": [
       "25"
      ]
     },
     "execution_count": 284,
     "metadata": {},
     "output_type": "execute_result"
    }
   ],
   "source": [
    "a = 5\n",
    "\n",
    "x = testFunc()\n",
    "x\n"
   ]
  },
  {
   "cell_type": "code",
   "execution_count": null,
   "id": "298cbd19",
   "metadata": {},
   "outputs": [],
   "source": [
    "# Functions with multiple input\n",
    "\n",
    "# Scenario:\n",
    "#Create a function that can accept peoples age, gender and returns their \n",
    "#age bracket and also specifies if they are child, teenager, adult or senior"
   ]
  },
  {
   "cell_type": "code",
   "execution_count": null,
   "id": "ce4f67a3",
   "metadata": {},
   "outputs": [],
   "source": [
    "# age, gender, name\n",
    "# The order in which input parameters are stated in a functions must be observed when calling the function\n",
    "def ageGrouper(name, gender, age):\n",
    "    category = ''\n",
    "\n",
    "    if age <= 12:\n",
    "        category = 'Child'    \n",
    "    elif age <= 20:\n",
    "        category = 'Teenager'\n",
    "    elif age <= 60:\n",
    "        category = 'Adult'\n",
    "    else: \n",
    "        category = 'Senior'\n",
    "\n",
    "    print(f'{name} is a {gender} and age is {age} and therefore an {category}')\n",
    "    \n",
    "    \n",
    "    \n"
   ]
  },
  {
   "cell_type": "code",
   "execution_count": null,
   "id": "b7ca0ddc",
   "metadata": {},
   "outputs": [
    {
     "name": "stdout",
     "output_type": "stream",
     "text": [
      "Okereke is a Male and age is 27 and therefore an Adult\n"
     ]
    }
   ],
   "source": [
    "studName = 'Okereke'\n",
    "studAge = 27\n",
    "studGender = 'Male'\n",
    "ageGrouper(studName, studGender, studAge)"
   ]
  },
  {
   "cell_type": "code",
   "execution_count": null,
   "id": "694186c2",
   "metadata": {},
   "outputs": [
    {
     "name": "stdout",
     "output_type": "stream",
     "text": [
      "Divine is a Male and age is 38 and therefore an Adult\n"
     ]
    }
   ],
   "source": [
    "studName = 'Divine'\n",
    "studAge = 38\n",
    "studGender = 'Male'\n",
    "ageGrouper(studName, studGender, studAge)"
   ]
  },
  {
   "cell_type": "code",
   "execution_count": null,
   "id": "4f96e2b4",
   "metadata": {},
   "outputs": [
    {
     "name": "stdout",
     "output_type": "stream",
     "text": [
      "Jerry is a Male and age is 10 and therefore an Child\n"
     ]
    }
   ],
   "source": [
    "studName = 'Jerry'\n",
    "studAge = 10\n",
    "studGender = 'Male'\n",
    "ageGrouper(studName, studGender, studAge)"
   ]
  },
  {
   "cell_type": "code",
   "execution_count": null,
   "id": "1cb2d841",
   "metadata": {},
   "outputs": [
    {
     "name": "stdout",
     "output_type": "stream",
     "text": [
      "Adefemi is a Male and age is 70 and therefore an Senior\n"
     ]
    }
   ],
   "source": [
    "studName = 'Adefemi'\n",
    "studAge = 70\n",
    "studGender = 'Male'\n",
    "ageGrouper(studName, studGender, studAge)"
   ]
  },
  {
   "cell_type": "code",
   "execution_count": null,
   "id": "e5d4466a",
   "metadata": {},
   "outputs": [],
   "source": [
    "# age, gender, name\n",
    "# The order in which input parameters are stated in a functions must be observed when calling the function\n",
    "def ageGrouper1(name, gender, age):\n",
    "    category = ''\n",
    "\n",
    "    if age <= 12:\n",
    "        category = 'Child'    \n",
    "    elif age <= 20:\n",
    "        category = 'Teenager'\n",
    "    elif age <= 60:\n",
    "        category = 'Adult'\n",
    "    else: \n",
    "        category = 'Senior'\n",
    "\n",
    "    # print(f'{name} is a {gender} and age is {age} and therefore an {category}')\n",
    "\n",
    "    return [name, gender, age, category]"
   ]
  },
  {
   "cell_type": "code",
   "execution_count": null,
   "id": "759597bf",
   "metadata": {},
   "outputs": [],
   "source": [
    "studName = 'Jerry'\n",
    "studAge = 70\n",
    "studGender = 'Male'\n",
    "n, g, e, c = ageGrouper1(studName, studGender, studAge)\n"
   ]
  },
  {
   "cell_type": "code",
   "execution_count": null,
   "id": "e12c6aaf",
   "metadata": {},
   "outputs": [
    {
     "data": {
      "text/plain": [
       "(((('Jerry', 'Male', 70, 'Senior'),\n",
       "   ('Jerry', 'Male', 70, 'Senior'),\n",
       "   ('Jerry', 'Male', 70, 'Senior'),\n",
       "   'Senior'),\n",
       "  (('Jerry', 'Male', 70, 'Senior'),\n",
       "   ('Jerry', 'Male', 70, 'Senior'),\n",
       "   ('Jerry', 'Male', 70, 'Senior'),\n",
       "   'Senior'),\n",
       "  (('Jerry', 'Male', 70, 'Senior'),\n",
       "   ('Jerry', 'Male', 70, 'Senior'),\n",
       "   ('Jerry', 'Male', 70, 'Senior'),\n",
       "   'Senior'),\n",
       "  'Senior'),\n",
       " ((('Jerry', 'Male', 70, 'Senior'),\n",
       "   ('Jerry', 'Male', 70, 'Senior'),\n",
       "   ('Jerry', 'Male', 70, 'Senior'),\n",
       "   'Senior'),\n",
       "  (('Jerry', 'Male', 70, 'Senior'),\n",
       "   ('Jerry', 'Male', 70, 'Senior'),\n",
       "   ('Jerry', 'Male', 70, 'Senior'),\n",
       "   'Senior'),\n",
       "  (('Jerry', 'Male', 70, 'Senior'),\n",
       "   ('Jerry', 'Male', 70, 'Senior'),\n",
       "   ('Jerry', 'Male', 70, 'Senior'),\n",
       "   'Senior'),\n",
       "  'Senior'),\n",
       " ((('Jerry', 'Male', 70, 'Senior'),\n",
       "   ('Jerry', 'Male', 70, 'Senior'),\n",
       "   ('Jerry', 'Male', 70, 'Senior'),\n",
       "   'Senior'),\n",
       "  (('Jerry', 'Male', 70, 'Senior'),\n",
       "   ('Jerry', 'Male', 70, 'Senior'),\n",
       "   ('Jerry', 'Male', 70, 'Senior'),\n",
       "   'Senior'),\n",
       "  (('Jerry', 'Male', 70, 'Senior'),\n",
       "   ('Jerry', 'Male', 70, 'Senior'),\n",
       "   ('Jerry', 'Male', 70, 'Senior'),\n",
       "   'Senior'),\n",
       "  'Senior'),\n",
       " 'Senior')"
      ]
     },
     "execution_count": 307,
     "metadata": {},
     "output_type": "execute_result"
    }
   ],
   "source": [
    "studName = 'Jerry'\n",
    "studAge = 70\n",
    "studGender = 'Male'\n",
    "n, g, e, c = ageGrouper1(studName, studGender, studAge)\n",
    "\n",
    "_, _, _, c"
   ]
  },
  {
   "cell_type": "code",
   "execution_count": null,
   "id": "29fdd238",
   "metadata": {},
   "outputs": [
    {
     "name": "stdout",
     "output_type": "stream",
     "text": [
      "Senior\n"
     ]
    }
   ],
   "source": [
    "cate = c\n",
    "print(c)"
   ]
  },
  {
   "cell_type": "code",
   "execution_count": null,
   "id": "b09f02fd",
   "metadata": {},
   "outputs": [],
   "source": []
  },
  {
   "cell_type": "code",
   "execution_count": null,
   "id": "7abdbc3b",
   "metadata": {},
   "outputs": [],
   "source": [
    "# age, gender, name\n",
    "# The order in which input parameters are stated in a functions must be observed when calling the function\n",
    "def ageGrouper2(name, gender, age):\n",
    "    category = ''\n",
    "\n",
    "    if age <= 12:\n",
    "        category = 'Child'    \n",
    "    elif age <= 20:\n",
    "        category = 'Teenager'\n",
    "    elif age <= 60:\n",
    "        category = 'Adult'\n",
    "    else: \n",
    "        category = 'Senior'\n",
    "\n",
    "    # print(f'{name} is a {gender} and age is {age} and therefore an {category}')\n",
    "\n",
    "    print ([name, gender, age, category])"
   ]
  },
  {
   "cell_type": "code",
   "execution_count": null,
   "id": "1b772e04",
   "metadata": {},
   "outputs": [
    {
     "data": {
      "text/plain": [
       "['Felicia', 'Female', 44, 'Adult']"
      ]
     },
     "execution_count": 309,
     "metadata": {},
     "output_type": "execute_result"
    }
   ],
   "source": [
    "name = 'Felicia'\n",
    "age = 44\n",
    "gender = 'Female' \n",
    "\n",
    "\n",
    "ageGrouper2(name, gender, age)"
   ]
  },
  {
   "cell_type": "code",
   "execution_count": null,
   "id": "951ee21e",
   "metadata": {},
   "outputs": [],
   "source": [
    "# Your Friend Agatha has asked you to design a calculator that will enable her \n",
    "# ompute the sales in her store. Using Python functions, containers and variables\n",
    "# create a functional calculator. (Mini Project)"
   ]
  },
  {
   "cell_type": "code",
   "execution_count": null,
   "id": "224f0a7e",
   "metadata": {},
   "outputs": [],
   "source": [
    "# Design Criteria\n",
    "\n",
    "# During the use, Agatha will call the calculator and pass, product name, quantity and unit price\n",
    "# Output from calculator should be total cost of the products.\n"
   ]
  },
  {
   "cell_type": "code",
   "execution_count": null,
   "id": "8b7fa7e1",
   "metadata": {},
   "outputs": [
    {
     "name": "stdout",
     "output_type": "stream",
     "text": [
      "total cost of 5.0 of Milk is 7.5\n"
     ]
    }
   ],
   "source": [
    "#  Sales computing module\n",
    "\n",
    "def salesCalc(prdt, qty, price, disct):\n",
    "    up  = price\n",
    "    totalCost = up * qty\n",
    "    if disct > 0:\n",
    "        totalCost = totalCost*(1-disct)\n",
    "    print(f'total cost of {qty} of {prdt} is {totalCost}')\n",
    "\n",
    "\n",
    "########################## input values #####################\n",
    "\n",
    "product = input('specify product')\n",
    "qty = input('specify quantity for {product}')\n",
    "price = input('specify unit price for {product}')\n",
    "discount = input('specify available discount. If no discount input 0')\n",
    "\n",
    "qty = float(qty)\n",
    "price = float(price)\n",
    "discount = float(discount)\n",
    "\n",
    "salesCalc(product, qty, price, discount)"
   ]
  },
  {
   "cell_type": "code",
   "execution_count": null,
   "id": "0cd57a07",
   "metadata": {},
   "outputs": [
    {
     "data": {
      "text/plain": [
       "'Bread'"
      ]
     },
     "execution_count": 311,
     "metadata": {},
     "output_type": "execute_result"
    }
   ],
   "source": [
    "product\n"
   ]
  },
  {
   "cell_type": "code",
   "execution_count": null,
   "id": "5a25987d",
   "metadata": {},
   "outputs": [
    {
     "data": {
      "text/plain": [
       "'5'"
      ]
     },
     "execution_count": 312,
     "metadata": {},
     "output_type": "execute_result"
    }
   ],
   "source": [
    "qty"
   ]
  },
  {
   "cell_type": "code",
   "execution_count": null,
   "id": "e75fa32b",
   "metadata": {},
   "outputs": [
    {
     "data": {
      "text/plain": [
       "'1.5'"
      ]
     },
     "execution_count": 313,
     "metadata": {},
     "output_type": "execute_result"
    }
   ],
   "source": [
    "price"
   ]
  },
  {
   "cell_type": "code",
   "execution_count": null,
   "id": "3f5dfadc",
   "metadata": {},
   "outputs": [
    {
     "data": {
      "text/plain": [
       "'0'"
      ]
     },
     "execution_count": 314,
     "metadata": {},
     "output_type": "execute_result"
    }
   ],
   "source": [
    "discount\n"
   ]
  },
  {
   "cell_type": "code",
   "execution_count": null,
   "id": "9a6a19bf",
   "metadata": {},
   "outputs": [
    {
     "data": {
      "text/plain": [
       "'Milk'"
      ]
     },
     "execution_count": 319,
     "metadata": {},
     "output_type": "execute_result"
    }
   ],
   "source": [
    "\n",
    "\n",
    "\n"
   ]
  },
  {
   "cell_type": "code",
   "execution_count": null,
   "id": "7286b694",
   "metadata": {},
   "outputs": [],
   "source": []
  },
  {
   "cell_type": "code",
   "execution_count": null,
   "id": "f1071798",
   "metadata": {},
   "outputs": [
    {
     "ename": "",
     "evalue": "",
     "output_type": "error",
     "traceback": [
      "\u001b[1;31mFailed to connect to the remote Jupyter Server 'http://localhost:8888/'. Verify the server is running and reachable."
     ]
    }
   ],
   "source": [
    "import pandas as pd\n",
    "salesRec = [] # custname, product, price, qty, discount, totalcost, date"
   ]
  },
  {
   "cell_type": "code",
   "execution_count": null,
   "id": "ca85eea6",
   "metadata": {},
   "outputs": [],
   "source": [
    "from time import gmtime, strftime\n",
    "\n",
    "#  Sales computing module\n",
    "def getTime():\n",
    "    \n",
    "    tNow = strftime(\"%Y-%m-%d %H:%M:%S\", gmtime())\n",
    "    return tNow\n",
    "\n",
    "def salesCalc(name, prdt, qty, price, disct):\n",
    "    up  = price\n",
    "    totalCost = up * qty\n",
    "    if disct > 0:\n",
    "        totalCost = totalCost*(1-disct)\n",
    "    print(f'total cost of {qty} of {prdt} is {totalCost}')\n",
    "    salesTime = getTime()\n",
    "    salesRec.append([name, prdt, price, qty, disct, totalCost, salesTime])\n",
    "\n",
    "    return pd.DataFrame(salesRec, columns= ['custname', 'product', 'price',\n",
    "                                            'qty', 'discount', 'totalcost', 'date'])\n",
    "\n",
    "########################## input values #####################\n",
    "custName = input('   enter customer name')\n",
    "product = input('specify product')\n",
    "qty = input('specify quantity for {product}')\n",
    "price = input('specify unit price for {product}')\n",
    "discount = input('specify available discount. If no discount input 0')\n",
    "\n",
    "qty = float(qty)\n",
    "price = float(price)\n",
    "discount = float(discount)\n",
    "\n"
   ]
  },
  {
   "cell_type": "code",
   "execution_count": null,
   "id": "ad610a63",
   "metadata": {},
   "outputs": [],
   "source": [
    "salesTable = salesCalc(custName, product, qty, price, discount)"
   ]
  },
  {
   "cell_type": "code",
   "execution_count": null,
   "id": "fff5e70b",
   "metadata": {},
   "outputs": [],
   "source": [
    "salesTable"
   ]
  },
  {
   "cell_type": "code",
   "execution_count": null,
   "id": "0fe85a87",
   "metadata": {},
   "outputs": [],
   "source": [
    "t = getTime()\n",
    "st = str(t)"
   ]
  },
  {
   "cell_type": "code",
   "execution_count": null,
   "id": "76ffb219",
   "metadata": {},
   "outputs": [],
   "source": [
    "st\n",
    "\n",
    "st = \"-\".join(st.split(':'))"
   ]
  },
  {
   "cell_type": "code",
   "execution_count": null,
   "id": "cb39a8b7",
   "metadata": {},
   "outputs": [],
   "source": [
    "# salesTable.to_csv(f'C:/Users/Larry/Desktop/OneCampus Stuffs/Python/onecampus/Agatha_Sales_Rec_{getTime()}.csv') - Not working cos of the special characters within the getTime()\n",
    "\n",
    "salesTable.to_csv(f'C:/Users/Larry/Desktop/OneCampus Stuffs/Python/onecampus/Agatha_Sales_Rec_{st}.csv') # Working code fixed"
   ]
  },
  {
   "cell_type": "code",
   "execution_count": null,
   "id": "1e2bd6f6",
   "metadata": {},
   "outputs": [],
   "source": []
  },
  {
   "cell_type": "code",
   "execution_count": null,
   "id": "ccaa464d",
   "metadata": {},
   "outputs": [],
   "source": []
  },
  {
   "cell_type": "code",
   "execution_count": null,
   "id": "b4da2af8",
   "metadata": {},
   "outputs": [],
   "source": [
    "# Conditional Statements\n",
    "# Loops \n",
    "# Python Modules"
   ]
  },
  {
   "cell_type": "code",
   "execution_count": null,
   "id": "3503fe9e",
   "metadata": {},
   "outputs": [],
   "source": [
    "# Conditional Statements are codelines that evaluate a known condition to determine if it is True or False\n",
    "# If the condition evaluates to True, the first line of code in the statement is executed.\n",
    "# If the  condition evaluates to False, the first line or block does not execute."
   ]
  },
  {
   "cell_type": "code",
   "execution_count": null,
   "id": "d4ad5871",
   "metadata": {},
   "outputs": [],
   "source": [
    "# Syntax\n",
    "'''\n",
    "if CONDITIONAL_STATEMENT:  # This is called the statement line\n",
    "    Line1 to execute if statement is true\n",
    "    Line2 to execute if statement is true\n",
    "    Line3 to execute if statement is true\n",
    "\n",
    "\n",
    "OPERATORS FOR CONDITIONAL STATEMENTS\n",
    "\n",
    "==  same thing as \n",
    "!=  not equal to\n",
    ">   greater than\n",
    ">=  greater than or equal to \n",
    "<   less than\n",
    "<=  less than or equal to \n",
    "not in \n",
    "in\n",
    "\n",
    "'''"
   ]
  },
  {
   "cell_type": "code",
   "execution_count": null,
   "id": "bd816f63",
   "metadata": {},
   "outputs": [],
   "source": [
    "# Lets create a conditional statement to evaluate if an individual is am adult or a minor based on their age.\n",
    "\n",
    "jerryAge = 23\n",
    "divineAge = 2\n",
    "\n",
    "customerAge = 2\n",
    "\n",
    "adultAge = 18\n",
    "\n",
    "if customerAge >= adultAge:\n",
    "    print('this customer is an Adult')\n",
    "    ageOverMin = customerAge - adultAge\n",
    "    print(f'this age of this customer is {ageOverMin} years over the minimum')\n",
    "\n"
   ]
  },
  {
   "cell_type": "code",
   "execution_count": null,
   "id": "a7b1539c",
   "metadata": {},
   "outputs": [],
   "source": [
    "age1 = 5\n",
    "age2 = 10\n",
    "\n",
    "age1 >= age2"
   ]
  },
  {
   "cell_type": "code",
   "execution_count": null,
   "id": "38b875a5",
   "metadata": {},
   "outputs": [],
   "source": [
    "age1 = 5\n",
    "age2 = 10\n",
    "\n",
    "age1 <= age2"
   ]
  },
  {
   "cell_type": "code",
   "execution_count": null,
   "id": "1db486b6",
   "metadata": {},
   "outputs": [],
   "source": [
    "age1 = 5\n",
    "age2 = 10\n",
    "\n",
    "age1 == age2"
   ]
  },
  {
   "cell_type": "code",
   "execution_count": null,
   "id": "b5559697",
   "metadata": {},
   "outputs": [],
   "source": [
    "age1 = 5\n",
    "age2 = 10\n",
    "\n",
    "age1 != age2"
   ]
  },
  {
   "cell_type": "code",
   "execution_count": null,
   "id": "4420c7a2",
   "metadata": {},
   "outputs": [],
   "source": [
    "if customerAge >= adultAge:\n",
    "    print('this customer is an Adult')\n",
    "    ageOverMin = customerAge - adultAge\n",
    "    print(f'this age of this customer is {ageOverMin} years over the minimum')\n",
    "else:\n",
    "    print('this customer is an Adult')\n",
    "    ageOverMin = adultAge - customerAge  \n",
    "    print(f'this age of this customer is {ageOverMin} years below the minimum')"
   ]
  },
  {
   "cell_type": "code",
   "execution_count": null,
   "id": "a862e1e9",
   "metadata": {},
   "outputs": [],
   "source": []
  },
  {
   "cell_type": "code",
   "execution_count": null,
   "id": "d59c967c",
   "metadata": {},
   "outputs": [],
   "source": [
    "# Lets create a conditional statement to evaluate if an individual is an individual ought to be in Kindergarten, Elementary School, \n",
    "# High School or college.\n",
    "\n",
    "candidateAge = ''\n",
    "\n",
    "kindergartenMinAge = 2\n",
    "elementaryMinAge = 5\n",
    "highSchMinAge = 10\n",
    "collegeMinAge = 16\n",
    "\n",
    "if candidateAge >= 16:\n",
    "    print('candidate belongs to College')\n",
    "elif candidateAge >=10:\n",
    "    print('candidate belongs to High School')\n",
    "elif candidateAge >=5:\n",
    "    print('candidate belongs to Elementary School')\n",
    "elif candidateAge >=2:\n",
    "    print('candidate belongs to kindergarten School')\n",
    "else:\n",
    "    print('candidate belongs to Daycare')\n"
   ]
  },
  {
   "cell_type": "code",
   "execution_count": null,
   "id": "c0e81086",
   "metadata": {},
   "outputs": [],
   "source": [
    "# Converting the conditional statement script to a function\n",
    "\n",
    "def schoolCat(name, age):\n",
    "    candidateAge = age\n",
    "\n",
    "    kindergartenMinAge = 2\n",
    "    elementaryMinAge = 5\n",
    "    highSchMinAge = 10\n",
    "    collegeMinAge = 16\n",
    "\n",
    "    if candidateAge >= 16:\n",
    "        print(f'{name} belongs to College')\n",
    "    elif candidateAge >=10:\n",
    "        print(f'{name}  belongs to High School')\n",
    "    elif candidateAge >=5:\n",
    "        print(f'{name}  belongs to Elementary School')\n",
    "    elif candidateAge >=2:\n",
    "        print(f'{name}  belongs to kindergarten School')\n",
    "    else:\n",
    "        print(f'{name}  belongs to Daycare')"
   ]
  },
  {
   "cell_type": "code",
   "execution_count": null,
   "id": "5f0e4d35",
   "metadata": {},
   "outputs": [],
   "source": [
    "# Calling the function by passing the name and age as input\n",
    "schoolCat('Jigiri', 23)"
   ]
  },
  {
   "cell_type": "code",
   "execution_count": null,
   "id": "bb066ae2",
   "metadata": {},
   "outputs": [],
   "source": []
  },
  {
   "cell_type": "code",
   "execution_count": null,
   "id": "eb821697",
   "metadata": {},
   "outputs": [],
   "source": [
    "# Implementing For Loops (It allows us to automate repetitive tasks)"
   ]
  },
  {
   "cell_type": "code",
   "execution_count": null,
   "id": "c19d0caa",
   "metadata": {},
   "outputs": [],
   "source": [
    "studList = ['Frank', 'Claret', 'Iniobong', 'Silas', 'Joseph']\n",
    "studAgeList = [2, 5, 8, 15, 23]"
   ]
  },
  {
   "cell_type": "code",
   "execution_count": null,
   "id": "a354e5e3",
   "metadata": {},
   "outputs": [],
   "source": [
    "''' A For LOOP enables us to step through the items in a container or a string fetching one item at a time \n",
    "   sequentially from idex position zero\n",
    "\n",
    "    For Loops start with the FOR key word\n",
    "    It requires us to create a temporary variable that hold the items that the For Loops fetches from the container.\n",
    "\n",
    "# Syntax\n",
    "  for items in CONTAINER:\n",
    "      do something\n",
    "\n",
    "'''\n",
    "    \n",
    "       "
   ]
  },
  {
   "cell_type": "code",
   "execution_count": null,
   "id": "a14e8a16",
   "metadata": {},
   "outputs": [],
   "source": [
    "# Looping through the names of the student only\n",
    "studList = ['Frank', 'Claret', 'Iniobong', 'Silas', 'Joseph']\n",
    "for name in studList:\n",
    "    print(name)\n",
    "    \n",
    "#  OR\n",
    "\n",
    "studList = ['Frank', 'Claret', 'Iniobong', 'Silas', 'Joseph']\n",
    "for val in studList:\n",
    "    print(val)\n",
    "\n",
    "studAgeList = [2, 5, 8, 15, 23]\n",
    "for age in studAgeList:\n",
    "    print(age)\n"
   ]
  },
  {
   "cell_type": "code",
   "execution_count": null,
   "id": "823b57bb",
   "metadata": {},
   "outputs": [],
   "source": [
    "# Automating the student school category with the For Loop\n",
    "\n",
    "studList = ['Frank', 'Claret', 'Iniobong', 'Silas', 'Joseph']\n",
    "studAgeList = [2, 5, 8, 15, 23]\n",
    "\n",
    "for student, studentAge in zip(studList, studAgeList):\n",
    "    schoolCat(student, studentAge)\n",
    "    "
   ]
  },
  {
   "cell_type": "code",
   "execution_count": null,
   "id": "76dd3eed",
   "metadata": {},
   "outputs": [],
   "source": [
    "studListLen = len(studList) \n",
    "counter = 0\n",
    "while counter < studListLen:\n",
    "    schoolCat(studList[counter], studAgeList[counter])\n",
    "    studListLen\n",
    "    print(counter)\n",
    "    counter+=1"
   ]
  },
  {
   "cell_type": "code",
   "execution_count": null,
   "id": "da76ab0a",
   "metadata": {},
   "outputs": [],
   "source": []
  },
  {
   "cell_type": "code",
   "execution_count": null,
   "id": "7aae6757",
   "metadata": {},
   "outputs": [],
   "source": [
    "# Python Modules\n",
    "\n",
    "# These are compact library that can be distributed and inported to gain access to their code implementations\n",
    "\n"
   ]
  },
  {
   "cell_type": "code",
   "execution_count": null,
   "id": "b635eb6b",
   "metadata": {},
   "outputs": [],
   "source": [
    "# Converting the conditional statement script to a function\n",
    "# NB the first line under the name of a function is a reserved space for the description (what that function does)\n",
    "\n",
    "\n",
    "def schoolEval(name, age):\n",
    "\n",
    "    ''''\n",
    "Description:\n",
    "This function accepts the name and age of a student and evaluates what educational level they belong to\n",
    "\n",
    "Inputs: string, Name and int Age\n",
    "\n",
    "Outputs: string, educational level\n",
    "\n",
    "return value [name, educational level\n",
    "]\n",
    "''''\n",
    "\n",
    "\n",
    "    candidateAge = age\n",
    "\n",
    "    kindergartenMinAge = 2\n",
    "    elementaryMinAge = 5\n",
    "    highSchMinAge = 10\n",
    "    collegeMinAge = 16\n",
    "\n",
    "    if candidateAge >= 16:\n",
    "        return [name 'College']\n",
    "    elif candidateAge >=10:\n",
    "        return [name 'High School']\n",
    "    elif candidateAge >=5:\n",
    "        return [name 'Elementary School']\n",
    "    elif candidateAge >=2:\n",
    "        return [name 'Kindergarten']\n",
    "    else:\n",
    "        return [name 'Daycare']"
   ]
  },
  {
   "cell_type": "code",
   "execution_count": null,
   "id": "10c8e47b",
   "metadata": {},
   "outputs": [],
   "source": [
    "stdName, school = schoolEval('vincent', 13)"
   ]
  },
  {
   "cell_type": "code",
   "execution_count": null,
   "id": "c55f9651",
   "metadata": {},
   "outputs": [],
   "source": [
    "stdName"
   ]
  },
  {
   "cell_type": "code",
   "execution_count": null,
   "id": "8e2213e0",
   "metadata": {},
   "outputs": [],
   "source": [
    "school"
   ]
  },
  {
   "cell_type": "code",
   "execution_count": null,
   "id": "c2881d4e",
   "metadata": {},
   "outputs": [],
   "source": [
    "help(schoolEval)"
   ]
  },
  {
   "cell_type": "code",
   "execution_count": null,
   "id": "ec35a68e",
   "metadata": {},
   "outputs": [],
   "source": [
    "dir(schoolEval)"
   ]
  },
  {
   "cell_type": "code",
   "execution_count": null,
   "id": "ccabbf6d",
   "metadata": {},
   "outputs": [],
   "source": [
    "'''def moneyCounter(amt):\n",
    "    ##############################   - Reserved space for describing what the function is for and what it's doing\n",
    "    print('this is a dummy function')\n",
    "'''\n",
    "\n",
    "\n",
    "'''def moneyCounter(amt):\n",
    "    ''  \n",
    "    This function is a dummy. Please do not use             - Reserved space for describing what the function is for and what it's doing\n",
    "    '''\n",
    "    print('this is a dummy function')\n",
    "'''"
   ]
  },
  {
   "cell_type": "code",
   "execution_count": null,
   "id": "de53d586",
   "metadata": {},
   "outputs": [],
   "source": [
    "# Converting the conditional statement script function to a .py module"
   ]
  },
  {
   "cell_type": "code",
   "execution_count": null,
   "id": "f64854bc",
   "metadata": {},
   "outputs": [],
   "source": [
    "\n",
    "%%writefile demoScript.py\n",
    "\n",
    "def schoolEval(name, age):\n",
    "\n",
    "    ''''\n",
    "Description:\n",
    "This function accepts the name and age of a student and evaluates what educational level they belong to\n",
    "\n",
    "Inputs: string, Name and int Age\n",
    "\n",
    "Outputs: string, educational level\n",
    "\n",
    "return value [name, educational level\n",
    "]\n",
    "''''\n",
    "\n",
    "\n",
    "    candidateAge = age\n",
    "\n",
    "    kindergartenMinAge = 2\n",
    "    elementaryMinAge = 5\n",
    "    highSchMinAge = 10\n",
    "    collegeMinAge = 16\n",
    "\n",
    "    if candidateAge >= 16:\n",
    "        return [name 'College']\n",
    "    elif candidateAge >=10:\n",
    "        return [name 'High School']\n",
    "    elif candidateAge >=5:\n",
    "        return [name 'Elementary School']\n",
    "    elif candidateAge >=2:\n",
    "        return [name 'Kindergarten']\n",
    "    else:\n",
    "        return [name 'Daycare']\n",
    "\n",
    "\n",
    "\n",
    "def wealthCalc(sal, age, retAge):\n",
    "    '''\n",
    "    This function accepts your projected monthly \n",
    "    savings and your life expectance and compute \n",
    "    your total retirement wealth\n",
    "\n",
    "    '''\n",
    "    workspan = retAge - age\n",
    "    income = sal*12*workspan\n",
    "\n",
    "    return income"
   ]
  },
  {
   "cell_type": "code",
   "execution_count": null,
   "id": "dc0763c2",
   "metadata": {},
   "outputs": [],
   "source": [
    "# NB After writing to file, it is saved within the same folder where the jupyter notebook is saved.\n",
    "\n",
    "# You can then import it into another jupyter notebook with the code stated below\n",
    "\n",
    "import demoScript as ds\n",
    "\n",
    "ds.schoolEval('Racheal', 23)\n",
    "\n",
    "\n",
    "\n",
    "\n",
    "\n",
    "\n",
    "\n",
    "\n"
   ]
  },
  {
   "cell_type": "code",
   "execution_count": null,
   "id": "fa5df237",
   "metadata": {},
   "outputs": [],
   "source": [
    "dir(ds)"
   ]
  },
  {
   "cell_type": "code",
   "execution_count": null,
   "id": "47665d96",
   "metadata": {},
   "outputs": [],
   "source": [
    "x = ds.wealthCalc(500, 20, 65)"
   ]
  },
  {
   "cell_type": "code",
   "execution_count": null,
   "id": "6a25210e",
   "metadata": {},
   "outputs": [],
   "source": [
    "X "
   ]
  },
  {
   "cell_type": "code",
   "execution_count": null,
   "id": "cd8cc84c",
   "metadata": {},
   "outputs": [],
   "source": [
    "from demoScript import wealthCalc"
   ]
  },
  {
   "cell_type": "code",
   "execution_count": null,
   "id": "fca28f3c",
   "metadata": {},
   "outputs": [],
   "source": [
    "help(wealthCalc)"
   ]
  },
  {
   "cell_type": "code",
   "execution_count": null,
   "id": "843b5ad0",
   "metadata": {},
   "outputs": [],
   "source": [
    "dir(wealthCalc)"
   ]
  },
  {
   "cell_type": "code",
   "execution_count": null,
   "id": "c8804922",
   "metadata": {},
   "outputs": [],
   "source": []
  },
  {
   "cell_type": "code",
   "execution_count": null,
   "id": "55eb6960",
   "metadata": {},
   "outputs": [],
   "source": [
    "'''\n",
    "# Practice Execise: James teaches Math, Chemistry and Biology in St. Jeromes High School.\n",
    "At the end of the term the following were the results of his\n",
    "students;\n",
    "\n",
    "Chemistry Students: Agatha, Terry, Bill, Vincent, Auwal, Tayo, Veronica, Chinenye and Madu.\n",
    "There scores are 55,67,76,58,97,56,45,76,87\n",
    "Math Students: Agatha, Terry, Bill, David, Caleb, Mahmud, Veronica, Kwasik, Nanteng, Chinenye and Madu\n",
    "There scores are 67,87,54,59,92,52,78,76,87, 74,88\n",
    "Biology Students: Bilkisu, Conrad, Bill, David, Kelvin, Mahmud, Veronica, Kwasik, Bwatamge, Chinenye,\n",
    "There scores are 61,78,44,99,60,52,58,76,73, 74, 88, 97\n",
    "\n",
    "Task: \n",
    "1. Implement code to determine which students take ALL the three subjects\n",
    "2. Implement code to determine which students take Biology BUT NOT Chemistry\n",
    "3. Implement code to determine which students take chem and math BUT NOT Biology\n",
    "4. Implement code to store the student names, subjects and scores in a python List\n",
    "5. Implement code to determine howmany unque students are in ALL of James classes\n",
    "6. implement code to store all the student names, subjects and scores in a dictionary\n",
    "7. Implement code to determine which students Passed or failed the exams.\n",
    "Assume that a failing grade is any score below 60 and a passing grade is any score 60and above\n",
    "CHALLENGE\n",
    "QUESTION: Implement code to present all student results on a single table with the\n",
    "following columns: SUBJECT | STUDENT NAME | SCORE |PASS/FAIL\n",
    "\n",
    "'''"
   ]
  },
  {
   "cell_type": "code",
   "execution_count": null,
   "id": "df163a19",
   "metadata": {},
   "outputs": [],
   "source": [
    "chemStuds = ['Agatha', 'Terry', 'Bill', 'Vincent', 'Auwal', 'Tayo', 'Veronica', 'Chinenye' , 'Madu']\n",
    "chemScores = [55,67,76,58,97,56,45,76,87]\n",
    "\n",
    "mathStuds = ['Agatha', 'Terry', 'Bill', 'David', 'Caleb', 'Mahmud', 'Veronica',\n",
    "'Kwasik', 'Nanteng', 'Chinenye' , 'Madu']\n",
    "mathScores = [67,87,54,59,92,52,78,76,87, 74,88]\n",
    "\n",
    "bioStuds = ['Bilkisu', 'Conrad', 'Bill', 'David', 'Kelvin', 'Mahmud', 'Veronica', 'Kwasik',\n",
    "'Bwatamge', 'Chinenye', 'Cosmas' , 'Moses']\n",
    "bioScores = [61,78,44,99,60,52,58,76,73, 74, 88, 97]"
   ]
  },
  {
   "cell_type": "code",
   "execution_count": null,
   "id": "31e63b3c",
   "metadata": {},
   "outputs": [],
   "source": [
    "# 1. Implement code to determine which students take ALL the three subjects\n",
    "\n",
    "#Implementing using Sets\n",
    "#Uinions\n",
    "#Intersections\n",
    "#Difference\n",
    "set(chemStuds).intersection(set(mathStuds))"
   ]
  },
  {
   "cell_type": "code",
   "execution_count": null,
   "id": "faef3474",
   "metadata": {},
   "outputs": [],
   "source": [
    "commonStuds = set(chemStuds).intersection(set(mathStuds))"
   ]
  },
  {
   "cell_type": "code",
   "execution_count": null,
   "id": "9354e3a2",
   "metadata": {},
   "outputs": [],
   "source": [
    "commonStuds.intersection(set(bioStuds))"
   ]
  },
  {
   "cell_type": "code",
   "execution_count": null,
   "id": "6c942515",
   "metadata": {},
   "outputs": [],
   "source": [
    "(set(chemStuds).intersection(set(mathStuds))).intersection(set(bioStuds))"
   ]
  },
  {
   "cell_type": "code",
   "execution_count": null,
   "id": "006d922c",
   "metadata": {},
   "outputs": [],
   "source": []
  },
  {
   "cell_type": "code",
   "execution_count": null,
   "id": "682b73d2",
   "metadata": {},
   "outputs": [],
   "source": [
    "# Implementing using For Loops\n",
    "\n",
    "fullStudsList = [chemStuds, mathStuds, bioStuds]\n",
    "\n",
    "tempList = []\n",
    "for lst in fullStudsList:\n",
    "    print(lst)\n",
    "    for name in lst:\n",
    "        print('now fetching each item in the the list')\n",
    "        if name in chemStuds and name in mathStuds and name in bioStuds:\n",
    "            if name not in tempList:\n",
    "                tempList.append(name)\n",
    "                print(f'this is teh content of tempList {tempList}')\n",
    "                print('done with this list, going for to fetch the next list')\n",
    "\n"
   ]
  },
  {
   "cell_type": "code",
   "execution_count": null,
   "id": "133047f1",
   "metadata": {},
   "outputs": [],
   "source": [
    "fullStudsList"
   ]
  },
  {
   "cell_type": "code",
   "execution_count": null,
   "id": "7c645a4e",
   "metadata": {},
   "outputs": [],
   "source": []
  },
  {
   "cell_type": "code",
   "execution_count": null,
   "id": "3acb3502",
   "metadata": {},
   "outputs": [],
   "source": []
  },
  {
   "cell_type": "code",
   "execution_count": null,
   "id": "7a3fb717",
   "metadata": {},
   "outputs": [],
   "source": []
  },
  {
   "cell_type": "code",
   "execution_count": null,
   "id": "a1658d59",
   "metadata": {},
   "outputs": [],
   "source": []
  },
  {
   "cell_type": "code",
   "execution_count": null,
   "id": "3ed2da33",
   "metadata": {},
   "outputs": [],
   "source": []
  },
  {
   "cell_type": "code",
   "execution_count": null,
   "id": "971bd2e8",
   "metadata": {},
   "outputs": [],
   "source": []
  },
  {
   "cell_type": "code",
   "execution_count": null,
   "id": "8b7d369e",
   "metadata": {},
   "outputs": [],
   "source": []
  },
  {
   "cell_type": "code",
   "execution_count": null,
   "id": "f7f5f02d",
   "metadata": {},
   "outputs": [],
   "source": []
  },
  {
   "cell_type": "code",
   "execution_count": null,
   "id": "cafa5fb6",
   "metadata": {},
   "outputs": [],
   "source": []
  },
  {
   "cell_type": "code",
   "execution_count": null,
   "id": "10a88d4c",
   "metadata": {},
   "outputs": [],
   "source": []
  }
 ],
 "metadata": {
  "kernelspec": {
   "display_name": "Python 3 (ipykernel)",
   "language": "python",
   "name": "python3"
  }
 },
 "nbformat": 4,
 "nbformat_minor": 5
}
