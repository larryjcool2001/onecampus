{
 "cells": [
  {
   "cell_type": "code",
   "execution_count": 2,
   "id": "ecd8202b-6316-4c10-8291-2f49f9a06af1",
   "metadata": {},
   "outputs": [],
   "source": [
    "studName = 'Ngozi Idehen'"
   ]
  },
  {
   "cell_type": "code",
   "execution_count": 3,
   "id": "496bcf65-af55-40fa-8352-f100b14939ea",
   "metadata": {},
   "outputs": [
    {
     "data": {
      "text/plain": [
       "'Ngozi Idehen'"
      ]
     },
     "execution_count": 3,
     "metadata": {},
     "output_type": "execute_result"
    }
   ],
   "source": [
    "studName"
   ]
  },
  {
   "cell_type": "code",
   "execution_count": 5,
   "id": "8d2e2a7c-7ab5-4035-b0f4-41ec21bc6a86",
   "metadata": {},
   "outputs": [
    {
     "name": "stdout",
     "output_type": "stream",
     "text": [
      "the character N is in index position 0\n",
      "the character g is in index position 1\n",
      "the character o is in index position 2\n",
      "the character z is in index position 3\n",
      "the character i is in index position 4\n",
      "the character   is in index position 5\n",
      "the character I is in index position 6\n",
      "the character d is in index position 7\n",
      "the character e is in index position 8\n",
      "the character h is in index position 9\n",
      "the character e is in index position 8\n",
      "the character n is in index position 11\n"
     ]
    }
   ],
   "source": [
    "for char in studName:\n",
    "    idx = studName.index(char)\n",
    "    print(f'the character {char} is in index position {idx}')"
   ]
  },
  {
   "cell_type": "code",
   "execution_count": 8,
   "id": "d0c6af76-c030-4039-9268-23323f43ea38",
   "metadata": {},
   "outputs": [
    {
     "name": "stdout",
     "output_type": "stream",
     "text": [
      "Ngozi\n"
     ]
    }
   ],
   "source": [
    "#Slicing a sub-string from a string\n",
    "'''\n",
    "we need the name of the string variable followed by square bracket\n",
    "Inside the square bracket we put the index number of the first character and the last character plus 1\n",
    "\n",
    "'''\n",
    "print(studName[0:5])"
   ]
  },
  {
   "cell_type": "code",
   "execution_count": 9,
   "id": "984f54ca-e160-4000-847e-8ec6447dc596",
   "metadata": {},
   "outputs": [],
   "source": [
    "studRef = '012468743_James_Doe'"
   ]
  },
  {
   "cell_type": "code",
   "execution_count": 13,
   "id": "c1780101-1be3-4d8e-9b4d-4c314e002724",
   "metadata": {},
   "outputs": [
    {
     "name": "stdout",
     "output_type": "stream",
     "text": [
      "012468743\n"
     ]
    }
   ],
   "source": [
    "print(studRef[0:9])"
   ]
  },
  {
   "cell_type": "code",
   "execution_count": 15,
   "id": "2ccca544-d793-4a41-9589-da00b1e538ed",
   "metadata": {},
   "outputs": [
    {
     "name": "stdout",
     "output_type": "stream",
     "text": [
      "James\n"
     ]
    }
   ],
   "source": [
    "print(studRef[10:15])"
   ]
  },
  {
   "cell_type": "code",
   "execution_count": 16,
   "id": "6e30453b-d0d4-4d51-ac93-b6c5a8db0d0a",
   "metadata": {},
   "outputs": [],
   "source": [
    "countryName = 'Zambia'"
   ]
  },
  {
   "cell_type": "code",
   "execution_count": 17,
   "id": "cd4fced1-1dd2-4acd-8f7e-84c2cac2224b",
   "metadata": {},
   "outputs": [],
   "source": [
    "text1 = 'I love my car so much, its the best car in towm!'"
   ]
  },
  {
   "cell_type": "code",
   "execution_count": 18,
   "id": "e19d07f4-3a2a-4816-9350-4948ec8e77b6",
   "metadata": {},
   "outputs": [
    {
     "name": "stdout",
     "output_type": "stream",
     "text": [
      "the character I is in index position 0\n",
      "the character   is in index position 1\n",
      "the character l is in index position 2\n",
      "the character o is in index position 3\n",
      "the character v is in index position 4\n",
      "the character e is in index position 5\n",
      "the character   is in index position 1\n",
      "the character m is in index position 7\n",
      "the character y is in index position 8\n",
      "the character   is in index position 1\n",
      "the character c is in index position 10\n",
      "the character a is in index position 11\n",
      "the character r is in index position 12\n",
      "the character   is in index position 1\n",
      "the character s is in index position 14\n",
      "the character o is in index position 3\n",
      "the character   is in index position 1\n",
      "the character m is in index position 7\n",
      "the character u is in index position 18\n",
      "the character c is in index position 10\n",
      "the character h is in index position 20\n",
      "the character , is in index position 21\n",
      "the character   is in index position 1\n",
      "the character i is in index position 23\n",
      "the character t is in index position 24\n",
      "the character s is in index position 14\n",
      "the character   is in index position 1\n",
      "the character t is in index position 24\n",
      "the character h is in index position 20\n",
      "the character e is in index position 5\n",
      "the character   is in index position 1\n",
      "the character b is in index position 31\n",
      "the character e is in index position 5\n",
      "the character s is in index position 14\n",
      "the character t is in index position 24\n",
      "the character   is in index position 1\n",
      "the character c is in index position 10\n",
      "the character a is in index position 11\n",
      "the character r is in index position 12\n",
      "the character   is in index position 1\n",
      "the character i is in index position 23\n",
      "the character n is in index position 41\n",
      "the character   is in index position 1\n",
      "the character t is in index position 24\n",
      "the character o is in index position 3\n",
      "the character w is in index position 45\n",
      "the character m is in index position 7\n",
      "the character ! is in index position 47\n"
     ]
    }
   ],
   "source": [
    "for char in text1:\n",
    "    idx = text1.index(char)\n",
    "    print(f'the character {char} is in index position {idx}')"
   ]
  },
  {
   "cell_type": "code",
   "execution_count": 19,
   "id": "be13a61d-607b-4236-8094-61041428b76d",
   "metadata": {},
   "outputs": [],
   "source": [
    "name = 'Adeyinka'"
   ]
  },
  {
   "cell_type": "code",
   "execution_count": 20,
   "id": "d9b2dc00-2493-4658-a0c7-6c5bad05c115",
   "metadata": {},
   "outputs": [
    {
     "name": "stdout",
     "output_type": "stream",
     "text": [
      "y\n"
     ]
    }
   ],
   "source": [
    "print(name[3])"
   ]
  },
  {
   "cell_type": "code",
   "execution_count": 21,
   "id": "1051d2c1-dab8-499d-a382-000c45e8757a",
   "metadata": {},
   "outputs": [
    {
     "data": {
      "text/plain": [
       "'y'"
      ]
     },
     "execution_count": 21,
     "metadata": {},
     "output_type": "execute_result"
    }
   ],
   "source": [
    "name[3]"
   ]
  },
  {
   "cell_type": "code",
   "execution_count": 23,
   "id": "4fd83510-9dd6-4d5f-bdf0-d914e61b256e",
   "metadata": {},
   "outputs": [
    {
     "data": {
      "text/plain": [
       "'n'"
      ]
     },
     "execution_count": 23,
     "metadata": {},
     "output_type": "execute_result"
    }
   ],
   "source": [
    "name[5]"
   ]
  },
  {
   "cell_type": "code",
   "execution_count": 24,
   "id": "71b64e49-7941-4007-b836-072ff9b26004",
   "metadata": {},
   "outputs": [
    {
     "data": {
      "text/plain": [
       "'a'"
      ]
     },
     "execution_count": 24,
     "metadata": {},
     "output_type": "execute_result"
    }
   ],
   "source": [
    "name[7]"
   ]
  },
  {
   "cell_type": "code",
   "execution_count": 25,
   "id": "f84752ff-009b-4f6e-9e42-75774ff93020",
   "metadata": {},
   "outputs": [
    {
     "data": {
      "text/plain": [
       "6"
      ]
     },
     "execution_count": 25,
     "metadata": {},
     "output_type": "execute_result"
    }
   ],
   "source": [
    "name.index('k')"
   ]
  },
  {
   "cell_type": "code",
   "execution_count": null,
   "id": "89e0b31b-5a28-4a04-83fc-c0909aaa4886",
   "metadata": {},
   "outputs": [],
   "source": [
    "text1.index('car')"
   ]
  },
  {
   "cell_type": "code",
   "execution_count": 37,
   "id": "97336438-1253-48cc-b1f4-fb62a154e7cb",
   "metadata": {},
   "outputs": [],
   "source": [
    "# Detecting Vulgar Words\n",
    "vWords = ['stupid', 'mad', 'crazy', 'fool', 'nigga', 'senile']"
   ]
  },
  {
   "cell_type": "code",
   "execution_count": 36,
   "id": "d10b0776-917a-441c-a667-0df385aba64a",
   "metadata": {},
   "outputs": [],
   "source": [
    "message = '''\n",
    "is simply dummy text of the printing and mad typesetting industry.\n",
    "Lorem Ipsum has been the industry's standard dummy text ever since the 1950's\n",
    "when an unknown printer crazy took a gallery of type and scrambled it to make a type specimen book.\n",
    "It has survived not only five centuries, but also the leap into the electronic typesetting,\n",
    "remaining nigga essentially unchanged. It was fool popularised in the 1960's with the senile release of Letraset sheets containing\n",
    "Lorem Ipsum passages, and more recently with desktop publishing software like Aldus Pagemaker including versions\n",
    "of Lorem Ipsum.\n",
    "'''"
   ]
  },
  {
   "cell_type": "code",
   "execution_count": 30,
   "id": "346cb2a8-a561-4f26-8d84-6eee1014491e",
   "metadata": {},
   "outputs": [
    {
     "data": {
      "text/plain": [
       "598"
      ]
     },
     "execution_count": 30,
     "metadata": {},
     "output_type": "execute_result"
    }
   ],
   "source": [
    "# we can check the length of any string using the len() function\n",
    "len(message)"
   ]
  },
  {
   "cell_type": "code",
   "execution_count": 47,
   "id": "c591ba5b-8455-4677-81d5-6a1c71a043ce",
   "metadata": {},
   "outputs": [
    {
     "name": "stdout",
     "output_type": "stream",
     "text": [
      "mad is found in index position 42 \n",
      "crazy is found in index position 170 \n",
      "fool is found in index position 384 \n",
      "nigga is found in index position 348 \n",
      "senile is found in index position 424 \n"
     ]
    }
   ],
   "source": [
    "for vWord in vWords:\n",
    "    if vWord in message:\n",
    "        idx = message.index(vWord)\n",
    "        print(f'{vWord} is found in index position {idx} ')"
   ]
  },
  {
   "cell_type": "code",
   "execution_count": 48,
   "id": "7f08decf-9d9b-43da-8325-4a693c7b1487",
   "metadata": {},
   "outputs": [],
   "source": [
    "strName = 'Chukwu'"
   ]
  },
  {
   "cell_type": "code",
   "execution_count": 49,
   "id": "c0d319e8-b371-44c2-a230-473d9a72b5f8",
   "metadata": {},
   "outputs": [
    {
     "data": {
      "text/plain": [
       "2"
      ]
     },
     "execution_count": 49,
     "metadata": {},
     "output_type": "execute_result"
    }
   ],
   "source": [
    "strName.index('u')"
   ]
  },
  {
   "cell_type": "code",
   "execution_count": 51,
   "id": "973c9bb9-113a-4902-860c-b254138dd58b",
   "metadata": {},
   "outputs": [
    {
     "name": "stdout",
     "output_type": "stream",
     "text": [
      "u found in index position 2\n",
      "u found in index position 5\n"
     ]
    }
   ],
   "source": [
    "# searching for character u index position in the strName variable called chukwu\n",
    "counter = 0\n",
    "searchChar = 'u'\n",
    "for char in strName:\n",
    "    if char == 'u':\n",
    "        print(f'{searchChar} found in index position {counter}')\n",
    "    counter = counter +1"
   ]
  },
  {
   "cell_type": "code",
   "execution_count": 53,
   "id": "66e545a6-53d8-40e0-98b9-6cd9f5e32597",
   "metadata": {},
   "outputs": [],
   "source": [
    "# Reverse indexing in strings\n",
    "# It is possible to index strings starting from the last character\n",
    "# The last character is always at index position -1\n",
    "\n",
    "strname2 = 'William Adeniran'"
   ]
  },
  {
   "cell_type": "code",
   "execution_count": 55,
   "id": "e19e3098-84d1-429b-bc5c-9ca7a3de8904",
   "metadata": {},
   "outputs": [
    {
     "data": {
      "text/plain": [
       "'n'"
      ]
     },
     "execution_count": 55,
     "metadata": {},
     "output_type": "execute_result"
    }
   ],
   "source": [
    "strname2[len(strname2)-1]"
   ]
  },
  {
   "cell_type": "code",
   "execution_count": 56,
   "id": "0071fe60-3d97-4614-b42d-8c9b85cfc0a6",
   "metadata": {},
   "outputs": [
    {
     "data": {
      "text/plain": [
       "15"
      ]
     },
     "execution_count": 56,
     "metadata": {},
     "output_type": "execute_result"
    }
   ],
   "source": [
    "len(strname2)-1"
   ]
  },
  {
   "cell_type": "code",
   "execution_count": 57,
   "id": "84977591-a246-44de-bb10-ea8ce15d3a21",
   "metadata": {},
   "outputs": [
    {
     "data": {
      "text/plain": [
       "'n'"
      ]
     },
     "execution_count": 57,
     "metadata": {},
     "output_type": "execute_result"
    }
   ],
   "source": [
    "strname2[-1]"
   ]
  },
  {
   "cell_type": "code",
   "execution_count": 58,
   "id": "4068309c-8d36-4c71-b0de-cbc2df2f5f48",
   "metadata": {},
   "outputs": [
    {
     "data": {
      "text/plain": [
       "'a'"
      ]
     },
     "execution_count": 58,
     "metadata": {},
     "output_type": "execute_result"
    }
   ],
   "source": [
    "strname2[-2]"
   ]
  },
  {
   "cell_type": "code",
   "execution_count": 60,
   "id": "d665700e-3f3c-428a-aba1-5f42b536a00c",
   "metadata": {},
   "outputs": [
    {
     "name": "stdout",
     "output_type": "stream",
     "text": [
      "a\n",
      "a\n"
     ]
    }
   ],
   "source": [
    "# Every character in a string has a forward and a reverse index position\n",
    "print(strname2[-2])\n",
    "print(strname2[14])"
   ]
  },
  {
   "cell_type": "code",
   "execution_count": 64,
   "id": "296204c9-f705-4f19-8728-4e2a252eef7a",
   "metadata": {},
   "outputs": [
    {
     "data": {
      "text/plain": [
       "'Adeniran'"
      ]
     },
     "execution_count": 64,
     "metadata": {},
     "output_type": "execute_result"
    }
   ],
   "source": [
    "strname2 = 'William Adeniran'\n",
    "\n",
    "# extract 'Adeniran'\n",
    "\n",
    "strname2[-8: ]"
   ]
  },
  {
   "cell_type": "code",
   "execution_count": 65,
   "id": "65c17534-bbc1-4be2-aeea-9557bb05c405",
   "metadata": {},
   "outputs": [
    {
     "name": "stdout",
     "output_type": "stream",
     "text": [
      "Olalere\n"
     ]
    }
   ],
   "source": [
    "'''\n",
    "If you are extracting a substring that begins with the first character in the string,\n",
    "you do not need to specify the starting index position\n",
    "'''\n",
    "\n",
    "name3 = 'Olalere Omidire'\n",
    "# extract Olalere\n",
    "\n",
    "print(name3[:7])\n"
   ]
  },
  {
   "cell_type": "code",
   "execution_count": 66,
   "id": "9b00e989-88bd-4a03-b6cf-fd74f90ddb3f",
   "metadata": {},
   "outputs": [
    {
     "name": "stdout",
     "output_type": "stream",
     "text": [
      "Omidire\n"
     ]
    }
   ],
   "source": [
    "'''\n",
    "If you are extracting a substring that ends with the last character in the string,\n",
    "you do not need to specify the ending index position\n",
    "'''\n",
    "\n",
    "name3 = 'Olalere Omidire'\n",
    "# extract Omidire\n",
    "\n",
    "print(name3[8:])\n"
   ]
  },
  {
   "cell_type": "code",
   "execution_count": 67,
   "id": "1132dc63-76e7-4eb6-b0bb-6da424bfd168",
   "metadata": {},
   "outputs": [
    {
     "data": {
      "text/plain": [
       "598"
      ]
     },
     "execution_count": 67,
     "metadata": {},
     "output_type": "execute_result"
    }
   ],
   "source": [
    "message = '''\n",
    "is simply dummy text of the printing and mad typesetting industry.\n",
    "Lorem Ipsum has been the industry's standard dummy text ever since the 1950's\n",
    "when an unknown printer crazy took a gallery of type and scrambled it to make a type specimen book.\n",
    "It has survived not only five centuries, but also the leap into the electronic typesetting,\n",
    "remaining nigga essentially unchanged. It was fool popularised in the 1960's with the senile release of Letraset sheets containing\n",
    "Lorem Ipsum passages, and more recently with desktop publishing software like Aldus Pagemaker including versions\n",
    "of Lorem Ipsum.\n",
    "'''\n",
    "\n",
    "len(message)"
   ]
  },
  {
   "cell_type": "code",
   "execution_count": 68,
   "id": "cffc0641-2689-4652-8aeb-61ac5db6d746",
   "metadata": {},
   "outputs": [],
   "source": [
    "myMessage = 'Hello, welcome to my city. You will love it here'"
   ]
  },
  {
   "cell_type": "code",
   "execution_count": 70,
   "id": "f56141f0-56a0-4d91-874c-cab496ff8e4c",
   "metadata": {},
   "outputs": [
    {
     "data": {
      "text/plain": [
       "['Hello,', 'welcome', 'to', 'my', 'city.', 'You', 'will', 'love', 'it', 'here']"
      ]
     },
     "execution_count": 70,
     "metadata": {},
     "output_type": "execute_result"
    }
   ],
   "source": [
    "myMessage.split()"
   ]
  },
  {
   "cell_type": "code",
   "execution_count": 72,
   "id": "0ce43f64-d339-4ff7-b3a0-a36be8554e5c",
   "metadata": {},
   "outputs": [
    {
     "name": "stdout",
     "output_type": "stream",
     "text": [
      "10\n"
     ]
    }
   ],
   "source": [
    "print(len(myMessage.split()))"
   ]
  },
  {
   "cell_type": "code",
   "execution_count": 77,
   "id": "17300fa7-683f-4dd7-88d1-b7be839a4a05",
   "metadata": {},
   "outputs": [],
   "source": [
    "# number of words in message, and then it's assigned to a varible called countWords\n",
    "\n",
    "countWords = message.split()"
   ]
  },
  {
   "cell_type": "code",
   "execution_count": 75,
   "id": "62fd5db4-d1ed-463f-b7bc-11899debe61b",
   "metadata": {},
   "outputs": [
    {
     "data": {
      "text/plain": [
       "['is',\n",
       " 'simply',\n",
       " 'dummy',\n",
       " 'text',\n",
       " 'of',\n",
       " 'the',\n",
       " 'printing',\n",
       " 'and',\n",
       " 'mad',\n",
       " 'typesetting',\n",
       " 'industry.',\n",
       " 'Lorem',\n",
       " 'Ipsum',\n",
       " 'has',\n",
       " 'been',\n",
       " 'the',\n",
       " \"industry's\",\n",
       " 'standard',\n",
       " 'dummy',\n",
       " 'text',\n",
       " 'ever',\n",
       " 'since',\n",
       " 'the',\n",
       " \"1950's\",\n",
       " 'when',\n",
       " 'an',\n",
       " 'unknown',\n",
       " 'printer',\n",
       " 'crazy',\n",
       " 'took',\n",
       " 'a',\n",
       " 'gallery',\n",
       " 'of',\n",
       " 'type',\n",
       " 'and',\n",
       " 'scrambled',\n",
       " 'it',\n",
       " 'to',\n",
       " 'make',\n",
       " 'a',\n",
       " 'type',\n",
       " 'specimen',\n",
       " 'book.',\n",
       " 'It',\n",
       " 'has',\n",
       " 'survived',\n",
       " 'not',\n",
       " 'only',\n",
       " 'five',\n",
       " 'centuries,',\n",
       " 'but',\n",
       " 'also',\n",
       " 'the',\n",
       " 'leap',\n",
       " 'into',\n",
       " 'the',\n",
       " 'electronic',\n",
       " 'typesetting,',\n",
       " 'remaining',\n",
       " 'nigga',\n",
       " 'essentially',\n",
       " 'unchanged.',\n",
       " 'It',\n",
       " 'was',\n",
       " 'fool',\n",
       " 'popularised',\n",
       " 'in',\n",
       " 'the',\n",
       " \"1960's\",\n",
       " 'with',\n",
       " 'the',\n",
       " 'senile',\n",
       " 'release',\n",
       " 'of',\n",
       " 'Letraset',\n",
       " 'sheets',\n",
       " 'containing',\n",
       " 'Lorem',\n",
       " 'Ipsum',\n",
       " 'passages,',\n",
       " 'and',\n",
       " 'more',\n",
       " 'recently',\n",
       " 'with',\n",
       " 'desktop',\n",
       " 'publishing',\n",
       " 'software',\n",
       " 'like',\n",
       " 'Aldus',\n",
       " 'Pagemaker',\n",
       " 'including',\n",
       " 'versions',\n",
       " 'of',\n",
       " 'Lorem',\n",
       " 'Ipsum.']"
      ]
     },
     "execution_count": 75,
     "metadata": {},
     "output_type": "execute_result"
    }
   ],
   "source": [
    "countWords"
   ]
  },
  {
   "cell_type": "code",
   "execution_count": 78,
   "id": "516cd00d-54b1-47a1-b331-789a065739a3",
   "metadata": {},
   "outputs": [
    {
     "data": {
      "text/plain": [
       "95"
      ]
     },
     "execution_count": 78,
     "metadata": {},
     "output_type": "execute_result"
    }
   ],
   "source": [
    "len(countWords)"
   ]
  },
  {
   "cell_type": "code",
   "execution_count": 81,
   "id": "4f2406ba-5217-4067-b698-5839649a6d43",
   "metadata": {},
   "outputs": [
    {
     "data": {
      "text/plain": [
       "['Oladimeji', 'Alabi', 'Saving Account', '053023452']"
      ]
     },
     "execution_count": 81,
     "metadata": {},
     "output_type": "execute_result"
    }
   ],
   "source": [
    "studName6 = 'Oladimeji_Alabi_Savings Account_053023452'\n",
    "studName6.split('_')"
   ]
  },
  {
   "cell_type": "code",
   "execution_count": 82,
   "id": "7b7533f4-3ed0-4cd8-8587-ab767bba9dc7",
   "metadata": {},
   "outputs": [],
   "source": [
    "studNameSplit = studName6.split('_')"
   ]
  },
  {
   "cell_type": "code",
   "execution_count": 83,
   "id": "483fe410-6d15-45a8-a621-86567b941936",
   "metadata": {},
   "outputs": [
    {
     "data": {
      "text/plain": [
       "['Oladimeji', 'Alabi', 'Saving Account', '053023452']"
      ]
     },
     "execution_count": 83,
     "metadata": {},
     "output_type": "execute_result"
    }
   ],
   "source": [
    "studNameSplit"
   ]
  },
  {
   "cell_type": "code",
   "execution_count": null,
   "id": "d8808b25-f69f-4953-9e45-06351c591cb0",
   "metadata": {},
   "outputs": [],
   "source": [
    "# multiple assignments of variables\n",
    "# python allows us to declare multiple varibles and assign them all values in a single line"
   ]
  },
  {
   "cell_type": "code",
   "execution_count": 84,
   "id": "51e754cd-aea2-49b2-9061-cc37b5e94b22",
   "metadata": {},
   "outputs": [],
   "source": [
    "x, y, z = 34, 'james', 'agatha'"
   ]
  },
  {
   "cell_type": "code",
   "execution_count": 85,
   "id": "f015d074-5b43-4007-90ad-45b4e3c127d8",
   "metadata": {},
   "outputs": [
    {
     "data": {
      "text/plain": [
       "'agatha'"
      ]
     },
     "execution_count": 85,
     "metadata": {},
     "output_type": "execute_result"
    }
   ],
   "source": [
    "z"
   ]
  },
  {
   "cell_type": "code",
   "execution_count": 86,
   "id": "e966af17-ad11-45f9-8956-3c6cbc7abb3d",
   "metadata": {},
   "outputs": [
    {
     "data": {
      "text/plain": [
       "'james'"
      ]
     },
     "execution_count": 86,
     "metadata": {},
     "output_type": "execute_result"
    }
   ],
   "source": [
    "y"
   ]
  },
  {
   "cell_type": "code",
   "execution_count": 87,
   "id": "2a89a461-65c2-4d5e-9630-b4a2c3d4f429",
   "metadata": {},
   "outputs": [
    {
     "data": {
      "text/plain": [
       "34"
      ]
     },
     "execution_count": 87,
     "metadata": {},
     "output_type": "execute_result"
    }
   ],
   "source": [
    "x"
   ]
  },
  {
   "cell_type": "code",
   "execution_count": 88,
   "id": "53030d64-9c31-4155-b49e-77f1ff1f6905",
   "metadata": {},
   "outputs": [
    {
     "data": {
      "text/plain": [
       "'james'"
      ]
     },
     "execution_count": 88,
     "metadata": {},
     "output_type": "execute_result"
    }
   ],
   "source": [
    "y"
   ]
  },
  {
   "cell_type": "code",
   "execution_count": null,
   "id": "8a2353ca-d79a-47f4-9ac4-86492363004d",
   "metadata": {},
   "outputs": [],
   "source": [
    "# splitting strings by a common operator"
   ]
  },
  {
   "cell_type": "code",
   "execution_count": 89,
   "id": "c7af96cc-73c2-4760-ae8e-a1a207b1d6d0",
   "metadata": {},
   "outputs": [
    {
     "data": {
      "text/plain": [
       "['Oladimeji', 'Alabi', 'Savings Account', '053023452']"
      ]
     },
     "execution_count": 89,
     "metadata": {},
     "output_type": "execute_result"
    }
   ],
   "source": [
    "studName6 = 'Oladimeji_Alabi_Savings Account_053023452' # common separator is '_'\n",
    "studName6.split('_') # we split by '_ to get the individual words or items in the string'"
   ]
  },
  {
   "cell_type": "code",
   "execution_count": 90,
   "id": "20e48b96-eead-468d-b92c-6e32f657d25f",
   "metadata": {},
   "outputs": [],
   "source": [
    "firstName, lastName, accountType, accountNumber = studName6.split('_') "
   ]
  },
  {
   "cell_type": "code",
   "execution_count": 91,
   "id": "e463e313-bd42-4738-94d0-b6c79e05e67a",
   "metadata": {},
   "outputs": [
    {
     "data": {
      "text/plain": [
       "'Oladimeji'"
      ]
     },
     "execution_count": 91,
     "metadata": {},
     "output_type": "execute_result"
    }
   ],
   "source": [
    "firstName"
   ]
  },
  {
   "cell_type": "code",
   "execution_count": 92,
   "id": "41e0f9da-ab58-4567-aa87-17cc5b1a7091",
   "metadata": {},
   "outputs": [
    {
     "data": {
      "text/plain": [
       "'Alabi'"
      ]
     },
     "execution_count": 92,
     "metadata": {},
     "output_type": "execute_result"
    }
   ],
   "source": [
    "lastName"
   ]
  },
  {
   "cell_type": "code",
   "execution_count": 93,
   "id": "d5b12c0f-4b7c-40d5-9b04-79e370f2c282",
   "metadata": {},
   "outputs": [
    {
     "data": {
      "text/plain": [
       "'Savings Account'"
      ]
     },
     "execution_count": 93,
     "metadata": {},
     "output_type": "execute_result"
    }
   ],
   "source": [
    "accountType"
   ]
  },
  {
   "cell_type": "code",
   "execution_count": 94,
   "id": "4ca46d9e-a6ae-475a-9325-1d2ba24a060c",
   "metadata": {},
   "outputs": [
    {
     "data": {
      "text/plain": [
       "'053023452'"
      ]
     },
     "execution_count": 94,
     "metadata": {},
     "output_type": "execute_result"
    }
   ],
   "source": [
    "accountNumber"
   ]
  },
  {
   "cell_type": "code",
   "execution_count": null,
   "id": "ed0a9df0-dba7-465d-af6b-d2b5a0551c25",
   "metadata": {},
   "outputs": [],
   "source": [
    "# For Loops and If Statements"
   ]
  },
  {
   "cell_type": "code",
   "execution_count": null,
   "id": "a8204924-6dd6-4a35-982b-19d08dedcf74",
   "metadata": {},
   "outputs": [],
   "source": [
    "# SYNTAX\n",
    "for tempVarible in variableName:\n",
    "    do something here\n",
    "    "
   ]
  },
  {
   "cell_type": "code",
   "execution_count": 95,
   "id": "3cdd77d7-c66b-49ad-baf6-223a0d8595e9",
   "metadata": {},
   "outputs": [
    {
     "name": "stdout",
     "output_type": "stream",
     "text": [
      "E\n",
      "l\n",
      "i\n",
      "z\n",
      "a\n",
      "b\n",
      "e\n",
      "t\n",
      "h\n"
     ]
    }
   ],
   "source": [
    "strName7 = 'Elizabeth'\n",
    "\n",
    "for char in strName7:\n",
    "    print(char)"
   ]
  },
  {
   "cell_type": "code",
   "execution_count": 97,
   "id": "b2778554-772c-46e4-bc4e-2f8c504d03c1",
   "metadata": {},
   "outputs": [
    {
     "name": "stdout",
     "output_type": "stream",
     "text": [
      "this is run 0\n",
      "going to grab a character in the string\n",
      "grabbed the character E located at index position 0\n",
      "assigning the grabbed {char} to temporary varible char\n",
      "E\n",
      "done with this character, going back to grab the next one\n",
      "############################################\n",
      "this is run 1\n",
      "going to grab a character in the string\n",
      "grabbed the character l located at index position 1\n",
      "assigning the grabbed {char} to temporary varible char\n",
      "l\n",
      "done with this character, going back to grab the next one\n",
      "############################################\n",
      "this is run 2\n",
      "going to grab a character in the string\n",
      "grabbed the character i located at index position 2\n",
      "assigning the grabbed {char} to temporary varible char\n",
      "i\n",
      "done with this character, going back to grab the next one\n",
      "############################################\n",
      "this is run 3\n",
      "going to grab a character in the string\n",
      "grabbed the character z located at index position 3\n",
      "assigning the grabbed {char} to temporary varible char\n",
      "z\n",
      "done with this character, going back to grab the next one\n",
      "############################################\n",
      "this is run 4\n",
      "going to grab a character in the string\n",
      "grabbed the character a located at index position 4\n",
      "assigning the grabbed {char} to temporary varible char\n",
      "a\n",
      "done with this character, going back to grab the next one\n",
      "############################################\n",
      "this is run 5\n",
      "going to grab a character in the string\n",
      "grabbed the character b located at index position 5\n",
      "assigning the grabbed {char} to temporary varible char\n",
      "b\n",
      "done with this character, going back to grab the next one\n",
      "############################################\n",
      "this is run 6\n",
      "going to grab a character in the string\n",
      "grabbed the character e located at index position 6\n",
      "assigning the grabbed {char} to temporary varible char\n",
      "e\n",
      "done with this character, going back to grab the next one\n",
      "############################################\n",
      "this is run 7\n",
      "going to grab a character in the string\n",
      "grabbed the character t located at index position 7\n",
      "assigning the grabbed {char} to temporary varible char\n",
      "t\n",
      "done with this character, going back to grab the next one\n",
      "############################################\n",
      "this is run 8\n",
      "going to grab a character in the string\n",
      "grabbed the character h located at index position 8\n",
      "assigning the grabbed {char} to temporary varible char\n",
      "h\n",
      "done with this character, going back to grab the next one\n",
      "############################################\n"
     ]
    }
   ],
   "source": [
    "strName7 = 'Elizabeth'\n",
    "counter = 0\n",
    "for char in strName7:\n",
    "    print(f'this is run {counter}')\n",
    "    print('going to grab a character in the string')\n",
    "    print(f'grabbed the character {char} located at index position {counter}')\n",
    "    print(f'assigning the grabbed {char} to temporary varible char')\n",
    "    print(char)\n",
    "    print('done with this character, going back to grab the next one')\n",
    "\n",
    "    print('############################################')\n",
    "\n",
    "    counter+=1"
   ]
  },
  {
   "cell_type": "code",
   "execution_count": 98,
   "id": "dd6f31d2-9cb5-4de4-928a-7036116ec601",
   "metadata": {},
   "outputs": [
    {
     "name": "stdout",
     "output_type": "stream",
     "text": [
      "this is run 0\n",
      "going to grab a character in the string\n",
      "grabbed the character E located at index position 0\n",
      "assigning the grabbed E to temporary varible char\n",
      "E\n",
      "done with this character, going back to grab the next one\n",
      "############################################\n",
      "this is run 1\n",
      "going to grab a character in the string\n",
      "grabbed the character l located at index position 1\n",
      "assigning the grabbed l to temporary varible char\n",
      "l\n",
      "done with this character, going back to grab the next one\n",
      "############################################\n",
      "this is run 2\n",
      "going to grab a character in the string\n",
      "grabbed the character i located at index position 2\n",
      "assigning the grabbed i to temporary varible char\n",
      "i\n",
      "done with this character, going back to grab the next one\n",
      "############################################\n",
      "this is run 3\n",
      "going to grab a character in the string\n",
      "grabbed the character z located at index position 3\n",
      "assigning the grabbed z to temporary varible char\n",
      "z\n",
      "done with this character, going back to grab the next one\n",
      "############################################\n",
      "this is run 4\n",
      "going to grab a character in the string\n",
      "grabbed the character a located at index position 4\n",
      "assigning the grabbed a to temporary varible char\n",
      "a\n",
      "done with this character, going back to grab the next one\n",
      "############################################\n",
      "this is run 5\n",
      "going to grab a character in the string\n",
      "grabbed the character b located at index position 5\n",
      "assigning the grabbed b to temporary varible char\n",
      "b\n",
      "done with this character, going back to grab the next one\n",
      "############################################\n",
      "this is run 6\n",
      "going to grab a character in the string\n",
      "grabbed the character e located at index position 6\n",
      "assigning the grabbed e to temporary varible char\n",
      "e\n",
      "done with this character, going back to grab the next one\n",
      "############################################\n",
      "this is run 7\n",
      "going to grab a character in the string\n",
      "grabbed the character t located at index position 7\n",
      "assigning the grabbed t to temporary varible char\n",
      "t\n",
      "done with this character, going back to grab the next one\n",
      "############################################\n",
      "this is run 8\n",
      "going to grab a character in the string\n",
      "grabbed the character h located at index position 8\n",
      "assigning the grabbed h to temporary varible char\n",
      "h\n",
      "done with this character, going back to grab the next one\n",
      "############################################\n"
     ]
    }
   ],
   "source": [
    "strName7 = 'Elizabeth'\n",
    "\n",
    "for char in strName7:\n",
    "    idx = strName7.index(char)\n",
    "    print(f'this is run {idx}')\n",
    "    print('going to grab a character in the string')\n",
    "    print(f'grabbed the character {char} located at index position {idx}')\n",
    "    print(f'assigning the grabbed {char} to temporary varible char')\n",
    "    print(char)\n",
    "    print('done with this character, going back to grab the next one')\n",
    "\n",
    "    print('############################################')\n",
    "\n",
    "  "
   ]
  },
  {
   "cell_type": "code",
   "execution_count": 104,
   "id": "532d0543-623b-42a9-abf2-6ddfe994d3db",
   "metadata": {},
   "outputs": [
    {
     "name": "stdout",
     "output_type": "stream",
     "text": [
      "This is located at index position 6 and is the end of a word and the starting point of another word\n"
     ]
    }
   ],
   "source": [
    "strName8 = 'Kayode Adebayo'\n",
    "\n",
    "for char in strName8:\n",
    "    if char == ' ':\n",
    "        idx = strName8.index(char)\n",
    "        print(f'This is located at index position {idx} and is the end of a word and the starting point of another word')\n",
    "        \n",
    "    "
   ]
  },
  {
   "cell_type": "code",
   "execution_count": 105,
   "id": "665f8306-7fc8-444a-8091-830c895f2f78",
   "metadata": {},
   "outputs": [
    {
     "name": "stdout",
     "output_type": "stream",
     "text": [
      "This is located at index position 6 and is the end of a word and the starting point of another word\n",
      "i found an A in index position 7\n"
     ]
    }
   ],
   "source": [
    "strName9 = 'Kayode Adebayo'\n",
    "\n",
    "for char in strName9:\n",
    "    idx = strName9.index(char)\n",
    "    if char == 'A':\n",
    "        print(f'i found an A in index position {idx}')\n",
    "    if char == ' ':\n",
    "        print(f'This is located at index position {idx} and is the end of a word and the starting point of another word')"
   ]
  },
  {
   "cell_type": "code",
   "execution_count": 110,
   "id": "0195b0aa-a565-4b0a-bd30-357db8d90caf",
   "metadata": {},
   "outputs": [
    {
     "name": "stdout",
     "output_type": "stream",
     "text": [
      "Agatha\n",
      "sorry, Im just here, i dont know why\n",
      "James\n",
      "sorry, Im just here, i dont know why\n",
      "found James in the list\n",
      "Gail\n",
      "sorry, Im just here, i dont know why\n",
      "I am here now. I am outside the for loop\n"
     ]
    }
   ],
   "source": [
    "list1 = ['Agatha', 'James', 'Gail']\n",
    "\n",
    "for name in list1:\n",
    "    print(name)\n",
    "    print('sorry, Im just here, i dont know why')\n",
    "\n",
    "    if name == 'James':\n",
    "        print('found James in the list')\n",
    "print('I am here now. I am outside the for loop')"
   ]
  },
  {
   "cell_type": "code",
   "execution_count": 4,
   "id": "0b2c369c-de80-4670-b7b0-18981907852f",
   "metadata": {},
   "outputs": [],
   "source": [
    "myAge = 35"
   ]
  },
  {
   "cell_type": "code",
   "execution_count": 7,
   "id": "74aabd15-a4c0-4bda-9937-18041a15ef29",
   "metadata": {},
   "outputs": [
    {
     "data": {
      "text/plain": [
       "'\\nScenario1:\\nWe have 5 students named Blessing, Mogekwu, Kenile, Michael and Ejike\\nTheir Ages; 25, 34, 21, 33, 31\\n\\n'"
      ]
     },
     "execution_count": 7,
     "metadata": {},
     "output_type": "execute_result"
    }
   ],
   "source": [
    "# New Class Practise for Jan 2023\n",
    "# Python Containers - Tuples, Lists, Sets, and Dictionaries\n",
    "\n",
    "'''\n",
    "Scenario1:\n",
    "We have 5 students named Blessing, Mogekwu, Kenile, Michael and Ejike\n",
    "Their Ages; 25, 34, 21, 33, 31\n",
    "\n",
    "'''\n",
    "\n"
   ]
  },
  {
   "cell_type": "code",
   "execution_count": 6,
   "id": "3949d0cd-2d90-4226-84f2-da61be9b8974",
   "metadata": {},
   "outputs": [],
   "source": [
    "blessingAge = 25\n",
    "mogekwuAge = 34\n",
    "kenileAge = 21\n",
    "michaelAge = 33\n",
    "ejikeAge = 31"
   ]
  },
  {
   "cell_type": "code",
   "execution_count": 5,
   "id": "a3af61b6-6da4-4030-b6ae-6886bf2d7bc2",
   "metadata": {},
   "outputs": [
    {
     "data": {
      "text/plain": [
       "35"
      ]
     },
     "execution_count": 5,
     "metadata": {},
     "output_type": "execute_result"
    }
   ],
   "source": [
    "myAge"
   ]
  },
  {
   "cell_type": "code",
   "execution_count": 9,
   "id": "214af19e-33ad-4286-840d-e3571e38cb9c",
   "metadata": {},
   "outputs": [],
   "source": [
    "studAges = 'Blessing_25 Mogekwu_34 Kenile_21 Michael_33 Ejike_31'"
   ]
  },
  {
   "cell_type": "code",
   "execution_count": 10,
   "id": "f13f28b2-6451-49d8-8ae8-ef47eca80cf0",
   "metadata": {},
   "outputs": [
    {
     "data": {
      "text/plain": [
       "25"
      ]
     },
     "execution_count": 10,
     "metadata": {},
     "output_type": "execute_result"
    }
   ],
   "source": [
    "blessingAge"
   ]
  },
  {
   "cell_type": "code",
   "execution_count": 11,
   "id": "d51529b3-5445-4370-81f2-1ba878a7e252",
   "metadata": {},
   "outputs": [
    {
     "data": {
      "text/plain": [
       "'Blessing_25 Mogekwu_34 Kenile_21 Michael_33 Ejike_31'"
      ]
     },
     "execution_count": 11,
     "metadata": {},
     "output_type": "execute_result"
    }
   ],
   "source": [
    "studAges"
   ]
  },
  {
   "cell_type": "code",
   "execution_count": 12,
   "id": "65cd7908-d049-45db-830c-345ef28fcf1b",
   "metadata": {},
   "outputs": [
    {
     "data": {
      "text/plain": [
       "['Blessing_25', 'Mogekwu_34', 'Kenile_21', 'Michael_33', 'Ejike_31']"
      ]
     },
     "execution_count": 12,
     "metadata": {},
     "output_type": "execute_result"
    }
   ],
   "source": [
    "studAges.split(' ')"
   ]
  },
  {
   "cell_type": "code",
   "execution_count": null,
   "id": "8c74489e-05c9-443c-a5f9-99d40a3d41df",
   "metadata": {},
   "outputs": [],
   "source": [
    "# Tuples\n",
    "\n",
    "# This is a varible type that can hold multiple items inside brackets each separated by commas\n",
    "\n",
    "# Each item inside a tuple is assigned an index position starting from zero\n",
    "\n",
    "# using the index position of an item, we can fetch it from a tuple\n",
    "\n",
    "Syntax for fetching items from a Tuple\n",
    "tupleName[indexPositionOfItem]\n"
   ]
  },
  {
   "cell_type": "code",
   "execution_count": 3,
   "id": "1a582120-119f-4f09-8d0c-22ab4146dd11",
   "metadata": {},
   "outputs": [],
   "source": [
    "studAges1 = (25, 34, 21, 33, 31)"
   ]
  },
  {
   "cell_type": "code",
   "execution_count": null,
   "id": "4a6605d4-1052-4fcd-a0f9-7b168dccaede",
   "metadata": {},
   "outputs": [],
   "source": []
  },
  {
   "cell_type": "code",
   "execution_count": 4,
   "id": "064b8384-0835-414d-ba29-6849edb95713",
   "metadata": {},
   "outputs": [
    {
     "data": {
      "text/plain": [
       "(25, 34, 21, 33, 31)"
      ]
     },
     "execution_count": 4,
     "metadata": {},
     "output_type": "execute_result"
    }
   ],
   "source": [
    "studAges1"
   ]
  },
  {
   "cell_type": "code",
   "execution_count": 5,
   "id": "1d94dc45-8d84-4cb4-8ecc-f0cd1ea7fff0",
   "metadata": {},
   "outputs": [
    {
     "data": {
      "text/plain": [
       "25"
      ]
     },
     "execution_count": 5,
     "metadata": {},
     "output_type": "execute_result"
    }
   ],
   "source": [
    "studAges1[0]"
   ]
  },
  {
   "cell_type": "code",
   "execution_count": 18,
   "id": "d1d8ec04-536d-437e-9d26-065638d5d810",
   "metadata": {},
   "outputs": [
    {
     "data": {
      "text/plain": [
       "25"
      ]
     },
     "execution_count": 18,
     "metadata": {},
     "output_type": "execute_result"
    }
   ],
   "source": [
    "# Fetch 25 from the studAges1 tuple\n",
    "studAges1[0]"
   ]
  },
  {
   "cell_type": "code",
   "execution_count": 6,
   "id": "15d1682a-6235-4c60-887b-a4582717be54",
   "metadata": {},
   "outputs": [
    {
     "data": {
      "text/plain": [
       "31"
      ]
     },
     "execution_count": 6,
     "metadata": {},
     "output_type": "execute_result"
    }
   ],
   "source": [
    "#fetch the last item from the studAges1 tuple\n",
    "studAges1[-1]"
   ]
  },
  {
   "cell_type": "code",
   "execution_count": 8,
   "id": "e5fb5214-a281-45ad-85c4-43c9aa76b671",
   "metadata": {},
   "outputs": [
    {
     "data": {
      "text/plain": [
       "(34, 21, 33)"
      ]
     },
     "execution_count": 8,
     "metadata": {},
     "output_type": "execute_result"
    }
   ],
   "source": [
    "#fetch 34, 21 and 33 from the studAges1 tuple\n",
    "studAges1[1:4]"
   ]
  },
  {
   "cell_type": "code",
   "execution_count": 9,
   "id": "1eb06982-541d-4cc0-b4b0-4bc8f96a4e66",
   "metadata": {},
   "outputs": [],
   "source": [
    "'''\n",
    "Scenario1:\n",
    "We have 5 students named Blessing, Mogekwu, Kenile, Michael and Ejike\n",
    "Their Ages; 25, 34, 21, 33, 31\n",
    "\n",
    "'''\n",
    "\n",
    "# implementing with a Tuple \n",
    "\n",
    "studNames = ('Blessing', 'Mogekwu', 'Kenile', 'Michael', 'Ejike')\n",
    "studAges2 = (25, 34, 21, 33, 31)"
   ]
  },
  {
   "cell_type": "code",
   "execution_count": 10,
   "id": "87ee5f36-2bbe-439a-b91e-4bc08dd9e0fe",
   "metadata": {},
   "outputs": [
    {
     "data": {
      "text/plain": [
       "'Ejike'"
      ]
     },
     "execution_count": 10,
     "metadata": {},
     "output_type": "execute_result"
    }
   ],
   "source": [
    "studNames[4]"
   ]
  },
  {
   "cell_type": "code",
   "execution_count": 12,
   "id": "b34957c8-88d7-47c0-b8f6-1bf327868070",
   "metadata": {},
   "outputs": [
    {
     "data": {
      "text/plain": [
       "31"
      ]
     },
     "execution_count": 12,
     "metadata": {},
     "output_type": "execute_result"
    }
   ],
   "source": [
    "studAges2[4]"
   ]
  },
  {
   "cell_type": "code",
   "execution_count": 15,
   "id": "0c67b9d7-f555-4274-b851-59d243640ced",
   "metadata": {},
   "outputs": [
    {
     "name": "stdout",
     "output_type": "stream",
     "text": [
      "Blessing 25\n",
      "Mogekwu 34\n",
      "Kenile 21\n",
      "Michael 33\n",
      "Ejike 31\n"
     ]
    }
   ],
   "source": [
    "# To combine two containers we use the zip()\n",
    "\n",
    "for student, age in zip (studNames, studAges2):\n",
    "    print(student, age)"
   ]
  },
  {
   "cell_type": "code",
   "execution_count": 16,
   "id": "919946da-9b29-4abc-a401-f6f91fc05cf1",
   "metadata": {},
   "outputs": [
    {
     "ename": "AttributeError",
     "evalue": "'tuple' object has no attribute 'append'",
     "output_type": "error",
     "traceback": [
      "\u001b[1;31m---------------------------------------------------------------------------\u001b[0m",
      "\u001b[1;31mAttributeError\u001b[0m                            Traceback (most recent call last)",
      "Cell \u001b[1;32mIn[16], line 4\u001b[0m\n\u001b[0;32m      1\u001b[0m \u001b[38;5;66;03m# Note that you can't add any value to a tuple after it has been created. \u001b[39;00m\n\u001b[0;32m      2\u001b[0m \u001b[38;5;66;03m# This would result in an error because tuples are immutable, \u001b[39;00m\n\u001b[0;32m      3\u001b[0m \u001b[38;5;66;03m# that is nothing can be added or removed from it after it has been created\u001b[39;00m\n\u001b[1;32m----> 4\u001b[0m studNames\u001b[38;5;241m.\u001b[39mappend(\u001b[38;5;124m'\u001b[39m\u001b[38;5;124mJoy\u001b[39m\u001b[38;5;124m'\u001b[39m)\n",
      "\u001b[1;31mAttributeError\u001b[0m: 'tuple' object has no attribute 'append'"
     ]
    }
   ],
   "source": [
    "# Note that you can't add any value to a tuple after it has been created. \n",
    "# This would result in an error because tuples are immutable, \n",
    "# that is nothing can be added or removed from it after it has been created\n",
    "studNames.append('Joy')"
   ]
  },
  {
   "cell_type": "code",
   "execution_count": 18,
   "id": "3675f536-ff83-43d9-8c57-eac0044bfbe3",
   "metadata": {},
   "outputs": [],
   "source": [
    "# Recreating a new tuple with the same name in order to add a new entry into it,\n",
    "# It destroys the former reference that holds the initial entry\n",
    "studNames = ('Blessing', 'Mogekwu', 'Kenile', 'Michael', 'Ejike', 'Joy')\n",
    "studAges3 = (25, 34, 21, 33, 31, 40)"
   ]
  },
  {
   "cell_type": "code",
   "execution_count": 19,
   "id": "5ee7dc18-2b62-4d91-b89b-7cd739d8796a",
   "metadata": {},
   "outputs": [
    {
     "data": {
      "text/plain": [
       "('Blessing', 'Mogekwu', 'Kenile', 'Michael', 'Ejike', 'Joy')"
      ]
     },
     "execution_count": 19,
     "metadata": {},
     "output_type": "execute_result"
    }
   ],
   "source": [
    "studNames"
   ]
  },
  {
   "cell_type": "code",
   "execution_count": null,
   "id": "1ec29367-c2f0-4de3-ba2e-ce352b1adb54",
   "metadata": {},
   "outputs": [],
   "source": [
    "# We can destroy a variable's reference to a specific value and point it to another value"
   ]
  },
  {
   "cell_type": "code",
   "execution_count": 46,
   "id": "1f06133b-2754-4909-af67-d8d14cacad04",
   "metadata": {},
   "outputs": [],
   "source": [
    "bestFriend = 'All of You'"
   ]
  },
  {
   "cell_type": "code",
   "execution_count": 47,
   "id": "3c71c25c-0c0e-4d92-9989-5f8c0c950f83",
   "metadata": {},
   "outputs": [
    {
     "data": {
      "text/plain": [
       "'All of You'"
      ]
     },
     "execution_count": 47,
     "metadata": {},
     "output_type": "execute_result"
    }
   ],
   "source": [
    "bestFriend"
   ]
  },
  {
   "cell_type": "code",
   "execution_count": 20,
   "id": "64b7fd04-2d3a-41f9-a836-4dc4a9cee642",
   "metadata": {},
   "outputs": [
    {
     "ename": "NameError",
     "evalue": "name 'bestFriend' is not defined",
     "output_type": "error",
     "traceback": [
      "\u001b[1;31m---------------------------------------------------------------------------\u001b[0m",
      "\u001b[1;31mNameError\u001b[0m                                 Traceback (most recent call last)",
      "Cell \u001b[1;32mIn[20], line 1\u001b[0m\n\u001b[1;32m----> 1\u001b[0m bestFriend\u001b[38;5;241m.\u001b[39mappend(\u001b[38;5;124m'\u001b[39m\u001b[38;5;124mOlufemi\u001b[39m\u001b[38;5;124m'\u001b[39m)\n",
      "\u001b[1;31mNameError\u001b[0m: name 'bestFriend' is not defined"
     ]
    }
   ],
   "source": [
    "bestFriend.append('Olufemi')"
   ]
  },
  {
   "cell_type": "code",
   "execution_count": 21,
   "id": "6741cf68-ba27-4247-8dac-bef21281c463",
   "metadata": {},
   "outputs": [],
   "source": [
    "bestFriend = 'Olufemi'"
   ]
  },
  {
   "cell_type": "code",
   "execution_count": 22,
   "id": "0a419bf0-adeb-49c7-a8b3-5e4e7913c88e",
   "metadata": {},
   "outputs": [
    {
     "data": {
      "text/plain": [
       "'Olufemi'"
      ]
     },
     "execution_count": 22,
     "metadata": {},
     "output_type": "execute_result"
    }
   ],
   "source": [
    "bestFriend"
   ]
  },
  {
   "cell_type": "code",
   "execution_count": 23,
   "id": "ee4135b9-734d-4505-9107-55a7169d7ff1",
   "metadata": {},
   "outputs": [
    {
     "data": {
      "text/plain": [
       "'Mogekwu'"
      ]
     },
     "execution_count": 23,
     "metadata": {},
     "output_type": "execute_result"
    }
   ],
   "source": [
    "studNames[1]"
   ]
  },
  {
   "cell_type": "code",
   "execution_count": 24,
   "id": "430da35a-58ae-4345-ba40-2ff0589e1c95",
   "metadata": {},
   "outputs": [
    {
     "name": "stdout",
     "output_type": "stream",
     "text": [
      "Blessing 25\n",
      "Mogekwu 34\n",
      "Kenile 21\n",
      "Michael 33\n",
      "Ejike 31\n",
      "Joy 40\n"
     ]
    }
   ],
   "source": [
    "# To combine two containers we use the zip() function\n",
    "\n",
    "for student, age in zip(studNames, studAges3):\n",
    "    print(student, age)"
   ]
  },
  {
   "cell_type": "code",
   "execution_count": 50,
   "id": "388f3c9e-d6a1-4e07-ab3d-6df682a46b9c",
   "metadata": {},
   "outputs": [
    {
     "data": {
      "text/plain": [
       "'Olufemi'"
      ]
     },
     "execution_count": 50,
     "metadata": {},
     "output_type": "execute_result"
    }
   ],
   "source": [
    "bestFriend"
   ]
  },
  {
   "cell_type": "code",
   "execution_count": null,
   "id": "f9422bc9-3c6d-46cd-8e71-540f7c69bf47",
   "metadata": {},
   "outputs": [],
   "source": []
  },
  {
   "cell_type": "code",
   "execution_count": null,
   "id": "ef93e88f-2436-4739-9b75-f992f5195094",
   "metadata": {},
   "outputs": [],
   "source": []
  },
  {
   "cell_type": "code",
   "execution_count": null,
   "id": "3b58e263-9b10-408f-b379-3d042439104d",
   "metadata": {},
   "outputs": [],
   "source": [
    "# Python Lists\n",
    "# List are a type of container that is defined with square Bracket that contains items each separated by comma's\n",
    "\n",
    "# Each item in a List is assigned an index position starting from Zero\n",
    "# Lists are Mutable, which means that items can be added or removed from a list.\n",
    "\n"
   ]
  },
  {
   "cell_type": "code",
   "execution_count": null,
   "id": "373227e0-ee7c-41ba-a97a-b99ebbc9ffe4",
   "metadata": {},
   "outputs": [],
   "source": [
    "Scenario1:\n",
    "We have 5 students named Blessing, Mogekwu, Kenile, Michael and Ejike\n",
    "Their Ages; 25, 34, 21, 33, 31\n"
   ]
  },
  {
   "cell_type": "code",
   "execution_count": 26,
   "id": "f833c33d-49ac-4c75-aa47-6a5f39e264da",
   "metadata": {},
   "outputs": [],
   "source": [
    "# Implementing a Python Lists\n",
    "\n",
    "studNamesList = ['Blessing', 'Mogekwu', 'Kenile', 'Michael', 'Ejike']\n",
    "studAgesList = [25, 34, 21, 33, 31]"
   ]
  },
  {
   "cell_type": "code",
   "execution_count": 27,
   "id": "af7ac6cd-64e2-4fcf-94cf-3ea74c45a8b5",
   "metadata": {},
   "outputs": [
    {
     "data": {
      "text/plain": [
       "['Blessing', 'Mogekwu', 'Kenile', 'Michael', 'Ejike']"
      ]
     },
     "execution_count": 27,
     "metadata": {},
     "output_type": "execute_result"
    }
   ],
   "source": [
    "studNamesList"
   ]
  },
  {
   "cell_type": "code",
   "execution_count": 28,
   "id": "cbe991cf-16d1-4d92-9af6-fabde0f128e7",
   "metadata": {},
   "outputs": [
    {
     "data": {
      "text/plain": [
       "'Kenile'"
      ]
     },
     "execution_count": 28,
     "metadata": {},
     "output_type": "execute_result"
    }
   ],
   "source": [
    "studNamesList[2]"
   ]
  },
  {
   "cell_type": "code",
   "execution_count": 29,
   "id": "c0062432-52cc-42b1-bb72-443402559751",
   "metadata": {},
   "outputs": [
    {
     "data": {
      "text/plain": [
       "21"
      ]
     },
     "execution_count": 29,
     "metadata": {},
     "output_type": "execute_result"
    }
   ],
   "source": [
    "studAgesList[2]"
   ]
  },
  {
   "cell_type": "code",
   "execution_count": 70,
   "id": "63a69c1c-370c-412b-99c6-fd9620bf160f",
   "metadata": {},
   "outputs": [
    {
     "data": {
      "text/plain": [
       "[34, 21, 33]"
      ]
     },
     "execution_count": 70,
     "metadata": {},
     "output_type": "execute_result"
    }
   ],
   "source": [
    "# Get the ages of Mogekwu, Kenile, Michael from the list studNamesList\n",
    "\n",
    "studAgesList[1:4]"
   ]
  },
  {
   "cell_type": "code",
   "execution_count": 30,
   "id": "6df03e86-1f7d-46eb-b732-c37a26d82485",
   "metadata": {},
   "outputs": [
    {
     "data": {
      "text/plain": [
       "['Mogekwu', 'Kenile', 'Michael']"
      ]
     },
     "execution_count": 30,
     "metadata": {},
     "output_type": "execute_result"
    }
   ],
   "source": [
    "studNamesList[1:4]"
   ]
  },
  {
   "cell_type": "code",
   "execution_count": null,
   "id": "c4aa5fe7-372f-4c5b-b08c-9191ac77ebfd",
   "metadata": {},
   "outputs": [],
   "source": [
    "# Adding items to a List\n",
    "# Add Joy to the Student List\n",
    "\n",
    "# use the .append() nethod to add a single item to a List\n",
    "\n",
    "Syntax\n",
    "nameofList.append(item)\n",
    "\n"
   ]
  },
  {
   "cell_type": "code",
   "execution_count": 31,
   "id": "04f4b159-e3ce-4b64-be27-d7fbf173255b",
   "metadata": {},
   "outputs": [],
   "source": [
    "studNamesList.append('joy')"
   ]
  },
  {
   "cell_type": "code",
   "execution_count": 33,
   "id": "71281de1-3b4f-40f4-bc7b-daa4f753c99f",
   "metadata": {},
   "outputs": [
    {
     "data": {
      "text/plain": [
       "['Blessing', 'Mogekwu', 'Kenile', 'Michael', 'Ejike', 'joy']"
      ]
     },
     "execution_count": 33,
     "metadata": {},
     "output_type": "execute_result"
    }
   ],
   "source": [
    "studNamesList"
   ]
  },
  {
   "cell_type": "code",
   "execution_count": 34,
   "id": "9bc00907-fc58-4c13-bb6e-2e8f2ae6b789",
   "metadata": {},
   "outputs": [],
   "source": [
    "# Also add Joy's age to the students age List\n",
    "studAgesList.append(26)"
   ]
  },
  {
   "cell_type": "code",
   "execution_count": 74,
   "id": "3c305986-49d8-4dab-938b-01ab750f2f8b",
   "metadata": {},
   "outputs": [
    {
     "data": {
      "text/plain": [
       "[25, 34, 21, 33, 31, 26]"
      ]
     },
     "execution_count": 74,
     "metadata": {},
     "output_type": "execute_result"
    }
   ],
   "source": [
    "studAgesList"
   ]
  },
  {
   "cell_type": "code",
   "execution_count": 75,
   "id": "07322025-4b47-4257-a43e-d10c8ef1cb46",
   "metadata": {},
   "outputs": [
    {
     "name": "stdout",
     "output_type": "stream",
     "text": [
      "Blessing 25\n",
      "Mogekwu 34\n",
      "Kenile 21\n",
      "Michael 33\n",
      "Ejike 31\n",
      "joy 26\n"
     ]
    }
   ],
   "source": [
    "# To combine two containers we use the zip() function\n",
    "\n",
    "for student, age in zip(studNamesList, studAgesList):\n",
    "    print(student, age)"
   ]
  },
  {
   "cell_type": "code",
   "execution_count": null,
   "id": "acfdb60a-e080-4c11-bfe5-a2db34982ba5",
   "metadata": {},
   "outputs": [],
   "source": [
    "# Scenario. You are asked to add the following students to the studentNamesList; Agatha, Jeremy and David\n",
    "# Also add their ages to the studAgeList 20, 18, 24"
   ]
  },
  {
   "cell_type": "code",
   "execution_count": 36,
   "id": "6b6b65bf-08e3-4280-8c74-6062bf7efa59",
   "metadata": {},
   "outputs": [],
   "source": [
    "studNamesList = ['Blessing', 'Mogekwu', 'Kenile', 'Michael', 'Ejike']\n",
    "studAgesList = [25, 34, 21, 33, 31]\n",
    "\n",
    "newStuds = ['Agatha', 'Jeremy', 'David']\n",
    "newStudAges = [20, 18, 24]"
   ]
  },
  {
   "cell_type": "code",
   "execution_count": 37,
   "id": "77d743b7-5879-4990-9a4d-d9e1639155e6",
   "metadata": {},
   "outputs": [],
   "source": [
    "studNamesList.append(newStuds)"
   ]
  },
  {
   "cell_type": "code",
   "execution_count": 38,
   "id": "9592616d-a911-42a7-b284-e3bf83cdf468",
   "metadata": {},
   "outputs": [
    {
     "name": "stdout",
     "output_type": "stream",
     "text": [
      "['Blessing', 'Mogekwu', 'Kenile', 'Michael', 'Ejike', ['Agatha', 'Jeremy', 'David']]\n"
     ]
    }
   ],
   "source": [
    "print(studNamesList)"
   ]
  },
  {
   "cell_type": "code",
   "execution_count": null,
   "id": "9c9adae6-f3b4-4bdb-8954-444ae78f34ea",
   "metadata": {},
   "outputs": [],
   "source": [
    "# The right method to use when combining two lists into one is the .extend() method"
   ]
  },
  {
   "cell_type": "code",
   "execution_count": 35,
   "id": "6bed2291-7910-4234-b1c4-089e910dd5bb",
   "metadata": {},
   "outputs": [
    {
     "name": "stdout",
     "output_type": "stream",
     "text": [
      "['Blessing', 'Mogekwu', 'Kenile', 'Michael', 'Ejike', 'Agatha', 'Jeremy', 'David']\n",
      "[25, 34, 21, 33, 31, 20, 18, 24]\n"
     ]
    }
   ],
   "source": [
    "studNamesList = ['Blessing', 'Mogekwu', 'Kenile', 'Michael', 'Ejike']\n",
    "studAgesList = [25, 34, 21, 33, 31]\n",
    "\n",
    "newStuds = ['Agatha', 'Jeremy', 'David']\n",
    "newStudAges = [20, 18, 24]\n",
    "\n",
    "studNamesList.extend(newStuds)\n",
    "print(studNamesList)\n",
    "\n",
    "studAgesList.extend(newStudAges)\n",
    "print(studAgesList)"
   ]
  },
  {
   "cell_type": "code",
   "execution_count": null,
   "id": "39ef538c-7e70-49da-8551-6ef8f01aea71",
   "metadata": {},
   "outputs": [],
   "source": [
    "# Removing an item from a List \n",
    "\n",
    ".pop()\n",
    ".remove()"
   ]
  },
  {
   "cell_type": "code",
   "execution_count": 39,
   "id": "3cd45818-bf66-47c5-aabb-0bdd44658b75",
   "metadata": {},
   "outputs": [
    {
     "data": {
      "text/plain": [
       "['Agatha', 'Jeremy', 'David']"
      ]
     },
     "execution_count": 39,
     "metadata": {},
     "output_type": "execute_result"
    }
   ],
   "source": [
    "studNamesList.pop()"
   ]
  },
  {
   "cell_type": "code",
   "execution_count": 40,
   "id": "e8a701f2-c20c-4b90-ac7e-e3a890286dd6",
   "metadata": {},
   "outputs": [
    {
     "data": {
      "text/plain": [
       "['Blessing', 'Mogekwu', 'Kenile', 'Michael', 'Ejike']"
      ]
     },
     "execution_count": 40,
     "metadata": {},
     "output_type": "execute_result"
    }
   ],
   "source": [
    "studNamesList"
   ]
  },
  {
   "cell_type": "code",
   "execution_count": 41,
   "id": "84e5fd1a-ba0f-46b6-8b9e-47e636a9f067",
   "metadata": {},
   "outputs": [],
   "source": [
    "studNamesList.remove('Ejike')"
   ]
  },
  {
   "cell_type": "code",
   "execution_count": 42,
   "id": "b2730cd7-c505-4564-9b6e-b085d5bca77e",
   "metadata": {},
   "outputs": [
    {
     "data": {
      "text/plain": [
       "['Blessing', 'Mogekwu', 'Kenile', 'Michael']"
      ]
     },
     "execution_count": 42,
     "metadata": {},
     "output_type": "execute_result"
    }
   ],
   "source": [
    "studNamesList"
   ]
  },
  {
   "cell_type": "code",
   "execution_count": null,
   "id": "5d06f81e-dc02-4e4f-90fe-6be5f5bbee2e",
   "metadata": {},
   "outputs": [],
   "source": []
  },
  {
   "cell_type": "code",
   "execution_count": null,
   "id": "9e0f0d99-ebc6-4678-b4a4-c9954e2748d0",
   "metadata": {},
   "outputs": [],
   "source": []
  },
  {
   "cell_type": "code",
   "execution_count": null,
   "id": "0ba9de33-bac4-4e90-aa0d-fdaa7d73dce0",
   "metadata": {},
   "outputs": [],
   "source": []
  },
  {
   "cell_type": "code",
   "execution_count": null,
   "id": "5d4fdd27-ab52-46cd-af73-2c25b467d7d0",
   "metadata": {},
   "outputs": [],
   "source": []
  },
  {
   "cell_type": "code",
   "execution_count": null,
   "id": "b70c3399-f819-49a9-a180-e6e37f4ecf6a",
   "metadata": {},
   "outputs": [],
   "source": []
  },
  {
   "cell_type": "code",
   "execution_count": null,
   "id": "108c2f1e-c0d8-42fc-854a-aea1f91fd89c",
   "metadata": {},
   "outputs": [],
   "source": []
  },
  {
   "cell_type": "code",
   "execution_count": null,
   "id": "dd4f9157-d83f-4eb1-9709-2395cd65a252",
   "metadata": {},
   "outputs": [],
   "source": []
  },
  {
   "cell_type": "code",
   "execution_count": null,
   "id": "3429e936-d09b-4b89-9c6f-9a019fbbe2a1",
   "metadata": {},
   "outputs": [],
   "source": []
  },
  {
   "cell_type": "code",
   "execution_count": null,
   "id": "ef970687-fedf-47a6-a60a-483fd60585a4",
   "metadata": {},
   "outputs": [],
   "source": []
  },
  {
   "cell_type": "code",
   "execution_count": null,
   "id": "a06ee537-8ac8-4994-8b46-6f43cd4e0200",
   "metadata": {},
   "outputs": [],
   "source": []
  },
  {
   "cell_type": "code",
   "execution_count": null,
   "id": "44efeb50-cabf-4cd7-9f34-069b33952762",
   "metadata": {},
   "outputs": [],
   "source": []
  },
  {
   "cell_type": "code",
   "execution_count": null,
   "id": "75aa7563-2b1a-4cf7-97f8-670fe9e9e1b4",
   "metadata": {},
   "outputs": [],
   "source": []
  },
  {
   "cell_type": "code",
   "execution_count": null,
   "id": "9da4eb7f-e96f-40b8-a15f-197735d6295a",
   "metadata": {},
   "outputs": [],
   "source": []
  },
  {
   "cell_type": "code",
   "execution_count": null,
   "id": "09469f6e-1d0d-49c8-8bc1-b337e89e05d6",
   "metadata": {},
   "outputs": [],
   "source": []
  }
 ],
 "metadata": {
  "kernelspec": {
   "display_name": "Python 3 (ipykernel)",
   "language": "python",
   "name": "python3"
  },
  "language_info": {
   "codemirror_mode": {
    "name": "ipython",
    "version": 3
   },
   "file_extension": ".py",
   "mimetype": "text/x-python",
   "name": "python",
   "nbconvert_exporter": "python",
   "pygments_lexer": "ipython3",
   "version": "3.11.7"
  }
 },
 "nbformat": 4,
 "nbformat_minor": 5
}
